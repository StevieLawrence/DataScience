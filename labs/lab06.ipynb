{
 "cells": [
  {
   "cell_type": "markdown",
   "metadata": {},
   "source": [
    "# CS 101:  Introduction to Computing for Science and Engineering"
   ]
  },
  {
   "cell_type": "markdown",
   "metadata": {},
   "source": [
    "## `lab06`—Data Analysis"
   ]
  },
  {
   "cell_type": "markdown",
   "metadata": {},
   "source": [
    "**Objectives**\n",
    "\n",
    "-   Use lists and list features to process data from a file.\n",
    "-   Apply the standard pipeline of data analysis:  data cleaning and preparation, data processing, and output."
   ]
  },
  {
   "cell_type": "markdown",
   "metadata": {},
   "source": [
    "![](https://d1b10bmlvqabco.cloudfront.net/attach/ipzxix9y8ou155/idiy91xwl663a4/ituwx44fed00/BB.jpg)\n",
    "\n",
    "For this lab project, we are going to work with a list of blues musicians in various traditions.  You have the following files in your `lab06/data` directory:\n",
    "    \n",
    "    blues.txt\n",
    "    swamppop.txt\n",
    "    zydeco.txt\n",
    "\n",
    "Open the file `blues.txt` in a text editor and examine its format.\n",
    "    \n",
    "    # Delta Blues\n",
    "    Cecil Augusta\n",
    "    Mose Allison\n",
    "    Tommy Bankhead\n",
    "    ...\n",
    "    Elder Roma Wilson\n",
    "    \n",
    "    # Chicago Blues\n",
    "    Alberta Adams\n",
    "    Luther Allison\n",
    "    ...\n",
    "\n",
    "We are going to read the contents of this file and run it through the standard pipeline of data analysis:  data cleaning and preparation, data processing, and output."
   ]
  },
  {
   "cell_type": "markdown",
   "metadata": {},
   "source": [
    "### Data Cleaning and Preparation"
   ]
  },
  {
   "cell_type": "markdown",
   "metadata": {},
   "source": [
    "A file simply contains an ordered collection of characters and digits.  Any logical interpretation is created by the user as he or she uses the data.  Thus we first need to ensure that incoming data are in a suitable format and structure for further analysis.\n",
    "\n",
    "What does a suitable format look like?  If you were organizing a library of these musicians' works, you could sort by surname or by musical style.  There are several formats which could make sense, such as a collection of *database records* containing *fields* such as \"artist name\" and \"musical style\".  We will opt here for a spreadsheet-like organization:  three \"columns\" of data:  \"surname\", \"first name\", and \"style\".  Each entry will be a tuple inside of a list.\n",
    "\n",
    "**Data Logical Format:**\n",
    "\n",
    "    artist surname  artist first name   musical style\n",
    "    Augusta         Cecil               Delta Blues\n",
    "    Alexander       Alger \"Texas\"       Country Blues\n",
    "\n",
    "**Data Machine Representation:**\n",
    "\n",
    "    # musicians is a list of tuples\n",
    "    musicians[0] = ('Augusta', 'Cecil', 'Delta Blues')\n",
    "    musicians[1] = ('Alexander', 'Alger \"Texas\"', 'Country Blues')\n",
    "    ...\n",
    "\n",
    "Thus a single record should have one entry from each of these fields.  The data file we import from, however, is not in this format.  Thus when importing the data we have to:\n",
    "\n",
    "1.  track which musical style we are currently importing; and\n",
    "2.  *tokenize* the name into first-name and surname components; and\n",
    "3.  add the tuple of these three items to a list."
   ]
  },
  {
   "cell_type": "markdown",
   "metadata": {},
   "source": [
    "Let's see how this works with a single record as a string.  If you have a line of text as a string,"
   ]
  },
  {
   "cell_type": "code",
   "execution_count": 1,
   "metadata": {
    "collapsed": false
   },
   "outputs": [
    {
     "name": "stdout",
     "output_type": "stream",
     "text": [
      "Jimmy Clanton\n"
     ]
    }
   ],
   "source": [
    "example = 'Jimmy Clanton'\n",
    "print(example)"
   ]
  },
  {
   "cell_type": "markdown",
   "metadata": {},
   "source": [
    "and you'd like to turn it into a tuple `record = (surname, first_name)`, how would you do it?\n",
    "\n",
    "First, you'd probably want to split it into pieces so there is a separate `first_name` and `surname` to assign:"
   ]
  },
  {
   "cell_type": "code",
   "execution_count": 2,
   "metadata": {
    "collapsed": false
   },
   "outputs": [
    {
     "name": "stdout",
     "output_type": "stream",
     "text": [
      "['Jimmy', 'Clanton']\n"
     ]
    }
   ],
   "source": [
    "names = example.split(' ')\n",
    "print(names)"
   ]
  },
  {
   "cell_type": "markdown",
   "metadata": {},
   "source": [
    "Now you have a `list` called `names` which you can use to assign the separate variables in your tuple either in two steps:"
   ]
  },
  {
   "cell_type": "code",
   "execution_count": 3,
   "metadata": {
    "collapsed": false
   },
   "outputs": [
    {
     "name": "stdout",
     "output_type": "stream",
     "text": [
      "('Clanton', 'Jimmy')\n"
     ]
    }
   ],
   "source": [
    "# step 1:  get the surname and first name separately\n",
    "surname = names[1]\n",
    "first_name = names[0]\n",
    "\n",
    "# step 2:  populate the record tuple\n",
    "record = (surname, first_name)\n",
    "print(record)"
   ]
  },
  {
   "cell_type": "markdown",
   "metadata": {},
   "source": [
    "or equivalently in a single step:"
   ]
  },
  {
   "cell_type": "code",
   "execution_count": 4,
   "metadata": {
    "collapsed": false
   },
   "outputs": [
    {
     "name": "stdout",
     "output_type": "stream",
     "text": [
      "('Clanton', 'Jimmy')\n"
     ]
    }
   ],
   "source": [
    "record = (names[1], names[0])\n",
    "print(record)"
   ]
  },
  {
   "cell_type": "markdown",
   "metadata": {},
   "source": [
    "Since we're just using a simple tuple of strings, that's all you need to worry about to create a record.\n",
    "\n",
    "This gets a little trickier with multiple first names, though:"
   ]
  },
  {
   "cell_type": "code",
   "execution_count": 6,
   "metadata": {
    "collapsed": true
   },
   "outputs": [],
   "source": [
    "example = 'John Henry Barbee'"
   ]
  },
  {
   "cell_type": "markdown",
   "metadata": {},
   "source": [
    "In this case, I suggest the following method.  First, split the name into its pieces like this:"
   ]
  },
  {
   "cell_type": "code",
   "execution_count": 7,
   "metadata": {
    "collapsed": false
   },
   "outputs": [
    {
     "name": "stdout",
     "output_type": "stream",
     "text": [
      "['John', 'Henry', 'Barbee']\n"
     ]
    }
   ],
   "source": [
    "names = example.split(' ')\n",
    "print(names)"
   ]
  },
  {
   "cell_type": "markdown",
   "metadata": {},
   "source": [
    "Next, pull the surname out as a single name.  (We have already removed Jrs. and Srs. from these data, so there's nothing exceptional left.)"
   ]
  },
  {
   "cell_type": "code",
   "execution_count": 8,
   "metadata": {
    "collapsed": false
   },
   "outputs": [
    {
     "name": "stdout",
     "output_type": "stream",
     "text": [
      "Barbee\n"
     ]
    }
   ],
   "source": [
    "surname = names[-1]\n",
    "print(surname)"
   ]
  },
  {
   "cell_type": "markdown",
   "metadata": {},
   "source": [
    "Finally, join the other names back together using the handy `join` method:"
   ]
  },
  {
   "cell_type": "code",
   "execution_count": 9,
   "metadata": {
    "collapsed": false
   },
   "outputs": [
    {
     "name": "stdout",
     "output_type": "stream",
     "text": [
      "John Henry\n"
     ]
    }
   ],
   "source": [
    "first_name = ' '.join(names[:-1])  # note how this joins a list of strings by a blank space---it's an odd way of writing this\n",
    "print(first_name)"
   ]
  },
  {
   "cell_type": "code",
   "execution_count": 10,
   "metadata": {
    "collapsed": false
   },
   "outputs": [
    {
     "name": "stdout",
     "output_type": "stream",
     "text": [
      "('Barbee', 'John Henry')\n"
     ]
    }
   ],
   "source": [
    "record = (surname, first_name)\n",
    "print(record)"
   ]
  },
  {
   "cell_type": "markdown",
   "metadata": {},
   "source": [
    "<div class=\"alert alert-info\">\n",
    "Note that we are using tuples for the records.  Recall that tuples are like `list`s, but can't be changed (*immutable*).  Since we won't need to change a record once it's created, it makes sense in this case.\n",
    "</div>"
   ]
  },
  {
   "cell_type": "markdown",
   "metadata": {},
   "source": [
    "Let's now store a list of records.  Practice this process on the following entries:"
   ]
  },
  {
   "cell_type": "code",
   "execution_count": 23,
   "metadata": {
    "collapsed": true,
    "deletable": false,
    "nbgrader": {
     "checksum": "ba34fad24526485889763b638b6f83fd",
     "grade": false,
     "grade_id": "records-pre",
     "locked": true,
     "solution": false
    }
   },
   "outputs": [],
   "source": [
    "# Setup code for your exercise---do NOT edit this cell\n",
    "records = [] # an empty list\n",
    "entries = ['Ivory Joe Hunter', 'Etta James', 'Little Willie Littlefield', 'Robert Lowery', 'J. J. Malone', 'Percy Mayfield', 'Jimmy McCracklin']"
   ]
  },
  {
   "cell_type": "code",
   "execution_count": 25,
   "metadata": {
    "collapsed": false,
    "deletable": false,
    "nbgrader": {
     "checksum": "cb95f18a12e74a557d2e00c8afeae7dc",
     "grade": false,
     "grade_id": "records",
     "locked": false,
     "solution": true
    }
   },
   "outputs": [],
   "source": [
    "# Cycle through each musician name and add it to records in format.\n",
    "for entry in entries:\n",
    "    names = entry.split()# compose your code here\n",
    "    surname = names[-1]\n",
    "    first_name = ' '.join(names[:-1])# get the name elements out of entry\n",
    "    # create a new record\n",
    "    \n",
    "    # append the record to the list records\n",
    "    records.append( (surname,first_name) )"
   ]
  },
  {
   "cell_type": "code",
   "execution_count": 26,
   "metadata": {
    "collapsed": false,
    "deletable": false,
    "nbgrader": {
     "checksum": "4057f230cdaea329bbeea6dac1f8a7f7",
     "grade": true,
     "grade_id": "records-test",
     "locked": true,
     "points": 1,
     "solution": false
    }
   },
   "outputs": [
    {
     "name": "stdout",
     "output_type": "stream",
     "text": [
      "Success!\n"
     ]
    }
   ],
   "source": [
    "# it should pass this test---do NOT edit this cell\n",
    "assert records[0]  == ('Hunter', 'Ivory Joe')\n",
    "assert records[-1] == ('McCracklin', 'Jimmy')\n",
    "print('Success!')"
   ]
  },
  {
   "cell_type": "markdown",
   "metadata": {},
   "source": [
    "Make sure you understand why there are two sets of parentheses on the last line (`records.append`), and ask a classmate or TA to explain if you do not."
   ]
  },
  {
   "cell_type": "markdown",
   "metadata": {},
   "source": [
    "Now we will turn the above process into a general script to load and process the data."
   ]
  },
  {
   "cell_type": "markdown",
   "metadata": {},
   "source": [
    "-   Compose a function `process` which accepts a string `filename`.  `process` should `return` a list of records contained in the file."
   ]
  },
  {
   "cell_type": "code",
   "execution_count": 87,
   "metadata": {
    "collapsed": false,
    "deletable": false,
    "nbgrader": {
     "checksum": "8df4afb489f5d398292b32f84526fc58",
     "grade": false,
     "grade_id": "process",
     "locked": false,
     "solution": true
    }
   },
   "outputs": [],
   "source": [
    "# define your function here\n",
    "def process(filename):\n",
    "    entries = []# Create a blank list called `entries` and an empty string called `current_style`.\n",
    "    current_style = \"\"\n",
    "    myfile = open(filename)# Open the file `filename`, read the data, and close it.\n",
    "    mydata = myfile.readlines()\n",
    "    myfile.close()\n",
    "    for line in mydata:\n",
    "        data = line.strip()# Loop through each line of the file and do the following:\n",
    "        if data == '':\n",
    "            continue# Strip the whitespace off of the ends of the line using the `strip` method.\n",
    "        \n",
    "        # If the line is blank, `continue` execution.\n",
    "        # (The `continue` statement makes Python just go back to the `for` loop again with the next value---\n",
    "        # no more code is executed for the current value.)\n",
    "        if data[0] == '#':\n",
    "            data = data[1:]\n",
    "            current_style = data\n",
    "            continue\n",
    "        else:\n",
    "            name = data.strip().split()\n",
    "            surname = name[-1]\n",
    "            first_name = ' '.join(name[:-1])\n",
    "            entries.append((surname,first_name,current_style))\n",
    "            \n",
    "        # If a line starts with `#`, it represents the musical style to be assigned until the next line with `#`.\n",
    "        # In this case, remove the `'#'` from the beginning of the string and assign the musical style to `current_style`.\n",
    "        # The loop should then `continue`.\n",
    "        \n",
    "        # Otherwise, a line contains a blues performer.  In this case, process the record much as you did above,\n",
    "        # except that you also need to add a musical style to the tuple as the third element.\n",
    "        \n",
    "        # These data should be appended to the list `entries` as a single entry in the form of a tuple,\n",
    "        #    (surname, first_name, current_style)\n",
    "        \n",
    "    return entries# Finally, `return` the list `entries`.\n",
    "    pass # you can always delete a `pass` statement, since it does nothing"
   ]
  },
  {
   "cell_type": "code",
   "execution_count": 88,
   "metadata": {
    "collapsed": false
   },
   "outputs": [
    {
     "data": {
      "text/plain": [
       "[('Augusta', 'Cecil', 'Delta Blues'),\n",
       " ('Allison', 'Mose', 'Delta Blues'),\n",
       " ('Bankhead', 'Tommy', 'Delta Blues'),\n",
       " ('Barbee', 'John Henry', 'Delta Blues'),\n",
       " ('Bailey', 'Kid', 'Delta Blues'),\n",
       " ('Belfour', 'Robert', 'Delta Blues'),\n",
       " ('Booker', 'Charley', 'Delta Blues'),\n",
       " ('Bracey', 'Ishman', 'Delta Blues'),\n",
       " ('Brown', 'Willie', 'Delta Blues'),\n",
       " ('Burnside', 'R. L.', 'Delta Blues'),\n",
       " ('Carr', 'Sam', 'Delta Blues'),\n",
       " ('Carter', 'Bo', 'Delta Blues'),\n",
       " ('Cotton', 'James', 'Delta Blues'),\n",
       " ('Crudup', 'Arthur \"Big Boy\"', 'Delta Blues'),\n",
       " ('Billy', 'Delta Blind', 'Delta Blues'),\n",
       " ('Edwards', 'David Honeyboy', 'Delta Blues'),\n",
       " ('Hemphill', 'Jessie Mae', 'Delta Blues'),\n",
       " ('Hill', 'King Solomon', 'Delta Blues'),\n",
       " ('Hooker', 'John Lee', 'Delta Blues'),\n",
       " ('House', 'Son', 'Delta Blues'),\n",
       " ('Wolf', 'Howlin', 'Delta Blues'),\n",
       " ('James', 'Elmore', 'Delta Blues'),\n",
       " ('James', 'Skip', 'Delta Blues'),\n",
       " ('Johnson', 'Robert', 'Delta Blues'),\n",
       " ('Johnson', 'Tommy', 'Delta Blues'),\n",
       " ('Kimbrough', 'Junior', 'Delta Blues'),\n",
       " ('King', 'Little Freddie', 'Delta Blues'),\n",
       " ('Lockwood', 'Robert', 'Delta Blues'),\n",
       " ('Love', 'Willie', 'Delta Blues'),\n",
       " ('Belly', 'Lead', 'Delta Blues'),\n",
       " ('McClennan', 'Tommy', 'Delta Blues'),\n",
       " ('McCoy', 'Papa Charlie', 'Delta Blues'),\n",
       " ('McDowell', 'Mississippi Fred', 'Delta Blues'),\n",
       " ('Hurt', 'Mississippi John', 'Delta Blues'),\n",
       " ('Nelson', 'Sonny Boy', 'Delta Blues'),\n",
       " ('Owens', 'Jack', 'Delta Blues'),\n",
       " ('Patton', 'Charley', 'Delta Blues'),\n",
       " ('Perkins', 'Pinetop', 'Delta Blues'),\n",
       " ('Ross', 'Doctor', 'Delta Blues'),\n",
       " ('Rhodes', 'Sonny', 'Delta Blues'),\n",
       " ('Shines', 'Johnny', 'Delta Blues'),\n",
       " ('Short', 'J. D.', 'Delta Blues'),\n",
       " ('Sims', 'Henry \"Son\"', 'Delta Blues'),\n",
       " ('Spruell', 'Freddie', 'Delta Blues'),\n",
       " ('Stackhouse', 'Houston', 'Delta Blues'),\n",
       " ('Temple', 'Johnny', 'Delta Blues'),\n",
       " ('Thomas', 'James', 'Delta Blues'),\n",
       " ('Thomas', 'Elvie', 'Delta Blues'),\n",
       " ('Waters', 'Muddy', 'Delta Blues'),\n",
       " ('Wiley', 'Geeshie', 'Delta Blues'),\n",
       " ('Williams', 'Big Joe', 'Delta Blues'),\n",
       " ('Williamson', 'Sonny Boy', 'Delta Blues'),\n",
       " ('Woods', 'Johnny', 'Delta Blues'),\n",
       " ('Wilson', 'Elder Roma', 'Delta Blues'),\n",
       " ('Adams', 'Alberta', 'Chicago Blues'),\n",
       " ('Allison', 'Luther', 'Chicago Blues'),\n",
       " ('Alexander', 'Linsey', 'Chicago Blues'),\n",
       " ('Arnold', 'Kokomo', 'Chicago Blues'),\n",
       " ('B.', 'Bonny', 'Chicago Blues'),\n",
       " ('Banks', 'Chico', 'Chicago Blues'),\n",
       " ('Banks', 'L. V.', 'Chicago Blues'),\n",
       " ('Barnes', 'George', 'Chicago Blues'),\n",
       " ('Chuck', 'Barrelhouse', 'Chicago Blues'),\n",
       " ('Bates', 'Lefty', 'Chicago Blues'),\n",
       " ('Bell', 'Carey', 'Chicago Blues'),\n",
       " ('Becker', 'Joe', 'Chicago Blues'),\n",
       " ('Bell', 'Lurrie', 'Chicago Blues'),\n",
       " ('Benton', 'Buster', 'Chicago Blues'),\n",
       " ('Blackwell', 'Scrapper', 'Chicago Blues'),\n",
       " ('Blake', 'Blind', 'Chicago Blues'),\n",
       " ('Bloomfield', 'Mike', 'Chicago Blues'),\n",
       " ('Boyd', 'Eddie', 'Chicago Blues'),\n",
       " ('Branch', 'Billy', 'Chicago Blues'),\n",
       " ('Brim', 'John', 'Chicago Blues'),\n",
       " ('Brooks', 'Lonnie', 'Chicago Blues'),\n",
       " ('Brooks', 'Ronnie Baker', 'Chicago Blues'),\n",
       " ('Broonzy', 'Big Bill', 'Chicago Blues'),\n",
       " ('Brown', 'J. T.', 'Chicago Blues'),\n",
       " ('Buford', 'George \"Mojo\"', 'Chicago Blues'),\n",
       " ('Burton', 'Aron', 'Chicago Blues'),\n",
       " ('Butler', 'George \"Wild Child\"', 'Chicago Blues'),\n",
       " ('Butterfield', 'Paul', 'Chicago Blues'),\n",
       " ('Campbell', 'Eddie C.', 'Chicago Blues'),\n",
       " ('Carroll', 'Karen', 'Chicago Blues'),\n",
       " ('Caston', 'Leonard', 'Chicago Blues'),\n",
       " ('Charles', \"Good Rockin'\", 'Chicago Blues'),\n",
       " ('Clarke', 'William', 'Chicago Blues'),\n",
       " ('Clayton', 'Willie', 'Chicago Blues'),\n",
       " ('Clearwater', 'Eddy \"The Chief\"', 'Chicago Blues'),\n",
       " ('Band', 'Climax Blues', 'Chicago Blues'),\n",
       " ('Coleman', 'Michael', 'Chicago Blues'),\n",
       " ('Collins', 'Albert', 'Chicago Blues'),\n",
       " ('Davenport', 'Lester', 'Chicago Blues'),\n",
       " ('Davis', 'Blind John', 'Chicago Blues'),\n",
       " ('Dawkins', 'Jimmy', 'Chicago Blues'),\n",
       " ('Diddley', 'Bo', 'Chicago Blues'),\n",
       " ('Dixon', 'Willie', 'Chicago Blues'),\n",
       " ('Dizz', 'Lefty', 'Chicago Blues'),\n",
       " ('Drummer', 'Johnny', 'Chicago Blues'),\n",
       " ('Duncan', 'Little Arthur', 'Chicago Blues'),\n",
       " ('Dupree', 'Champion Jack', 'Chicago Blues'),\n",
       " ('Flynn', 'Billy', 'Chicago Blues'),\n",
       " ('Foster', 'Little Willy', 'Chicago Blues'),\n",
       " ('Freund', 'Steve', 'Chicago Blues'),\n",
       " ('Foster', '\"Baby Face\" Leroy', 'Chicago Blues'),\n",
       " ('Gibson', 'Lacy', 'Chicago Blues'),\n",
       " ('Gillum', 'Jazz', 'Chicago Blues'),\n",
       " ('Gravenites', 'Nick', 'Chicago Blues'),\n",
       " ('Guy', 'Buddy', 'Chicago Blues'),\n",
       " ('Guy', 'Phil', 'Chicago Blues'),\n",
       " ('Hinds', 'Harmonica', 'Chicago Blues'),\n",
       " ('Harris', 'Shakey Jake', 'Chicago Blues'),\n",
       " ('Sam', 'Magic', 'Chicago Blues'),\n",
       " ('James', 'Homesick', 'Chicago Blues'),\n",
       " ('Hooker', 'Earl', 'Chicago Blues'),\n",
       " ('Horton', 'Big Walter', 'Chicago Blues'),\n",
       " ('Wolf', \"Howlin'\", 'Chicago Blues'),\n",
       " ('Hutto', 'J. B.', 'Chicago Blues'),\n",
       " ('Slim', 'Chicago', 'Chicago Blues'),\n",
       " ('Johnson', 'Jimmy', 'Chicago Blues'),\n",
       " ('Johnson', 'Luther \"Guitar Junior\"', 'Chicago Blues'),\n",
       " ('Johnson', 'Luther \"Snake Boy\"', 'Chicago Blues'),\n",
       " ('Johnson', 'L.V.', 'Chicago Blues'),\n",
       " ('Johnson', 'Syl', 'Chicago Blues'),\n",
       " ('Jones', 'Floyd', 'Chicago Blues'),\n",
       " ('Jones', 'Johnny \"Yard Dog\"', 'Chicago Blues'),\n",
       " ('Jones', 'Little Johnny', 'Chicago Blues'),\n",
       " ('Jones', 'Moody', 'Chicago Blues'),\n",
       " ('Kalb', 'Danny', 'Chicago Blues'),\n",
       " ('Kight', 'E. G.', 'Chicago Blues'),\n",
       " ('King', 'Eddie', 'Chicago Blues'),\n",
       " ('Kinsey', 'Big Daddy', 'Chicago Blues'),\n",
       " ('Kinsey', 'Donald', 'Chicago Blues'),\n",
       " ('Koda', 'Cub', 'Chicago Blues'),\n",
       " ('Lay', 'Sam', 'Chicago Blues'),\n",
       " ('Lawhorn', 'Sammy', 'Chicago Blues'),\n",
       " ('Lee', 'Bonnie', 'Chicago Blues'),\n",
       " ('Lenoir', 'J. B.', 'Chicago Blues'),\n",
       " ('Linkchain', 'Hip', 'Chicago Blues'),\n",
       " ('Charlie', 'Little', 'Chicago Blues'),\n",
       " ('Littlejohn', 'John', 'Chicago Blues'),\n",
       " ('Llorens', 'Tony', 'Chicago Blues'),\n",
       " ('Mabon', 'Willie', 'Chicago Blues'),\n",
       " ('Maxwell', 'Holle Thee', 'Chicago Blues'),\n",
       " ('McKinley', 'L. C.', 'Chicago Blues'),\n",
       " ('Mandeville', 'Liz', 'Chicago Blues'),\n",
       " ('Merriweather', 'Big Maceo', 'Chicago Blues'),\n",
       " ('Heat', 'Mississippi', 'Chicago Blues'),\n",
       " ('Montgomery', 'Little Brother', 'Chicago Blues'),\n",
       " ('Moore', 'Johnny B.', 'Chicago Blues'),\n",
       " ('Moss', 'Nick', 'Chicago Blues'),\n",
       " ('Murphy', 'Matt \"Guitar\"', 'Chicago Blues'),\n",
       " ('Musselwhite', 'Charlie', 'Chicago Blues'),\n",
       " ('Nighthawk', 'Robert', 'Chicago Blues'),\n",
       " ('Odom', 'Andrew', 'Chicago Blues'),\n",
       " ('Payne', 'Odie', 'Chicago Blues'),\n",
       " ('Payton', 'Dion', 'Chicago Blues'),\n",
       " ('Phillips', 'Brewer', 'Chicago Blues'),\n",
       " ('Pryor', 'Snooky', 'Chicago Blues'),\n",
       " ('Reed', 'A. C.', 'Chicago Blues'),\n",
       " ('Reed', 'Jimmy', 'Chicago Blues'),\n",
       " ('Red', 'Tampa', 'Chicago Blues'),\n",
       " ('Red', 'Louisiana', 'Chicago Blues'),\n",
       " ('Robinson', 'Fenton', 'Chicago Blues'),\n",
       " ('Rogers', 'Jimmy', 'Chicago Blues'),\n",
       " ('Roulette', 'Freddie', 'Chicago Blues'),\n",
       " ('Rush', 'Otis', 'Chicago Blues'),\n",
       " ('Sammon', 'Marty', 'Chicago Blues'),\n",
       " ('Saydak', 'Ken', 'Chicago Blues'),\n",
       " ('Seals', 'Son', 'Chicago Blues'),\n",
       " ('Shaw', 'Eddie', 'Chicago Blues'),\n",
       " ('Simmons', 'Little Mack', 'Chicago Blues'),\n",
       " ('Slim', 'Sunnyland', 'Chicago Blues'),\n",
       " ('Smith', \"Barkin' Bill\", 'Chicago Blues'),\n",
       " ('Smith', 'Byther', 'Chicago Blues'),\n",
       " ('Smothers', 'Little Smokey', 'Chicago Blues'),\n",
       " ('Smothers', 'Otis \"Big Smokey\"', 'Chicago Blues'),\n",
       " ('Spann', 'Otis', 'Chicago Blues'),\n",
       " ('Specter', 'Dave', 'Chicago Blues'),\n",
       " ('Spires', 'Arthur \"Big Boy\"', 'Chicago Blues'),\n",
       " ('Stidham', 'Arbee', 'Chicago Blues'),\n",
       " ('Stroger', 'Bob', 'Chicago Blues'),\n",
       " ('John', 'Studebaker', 'Chicago Blues'),\n",
       " ('Blue', 'Sugar', 'Chicago Blues'),\n",
       " ('Sumlin', 'Hubert', 'Chicago Blues'),\n",
       " ('Taylor', 'Eddie', 'Chicago Blues'),\n",
       " ('Taylor', 'Hound Dog', 'Chicago Blues'),\n",
       " ('Taylor', 'Koko', 'Chicago Blues'),\n",
       " ('Taylor', 'Melvin', 'Chicago Blues'),\n",
       " ('Walker', 'Johnny \"Big Moose\"', 'Chicago Blues'),\n",
       " ('Walter', 'Little', 'Chicago Blues'),\n",
       " ('Sam', 'Washboard', 'Chicago Blues'),\n",
       " ('Wellington', 'Valerie', 'Chicago Blues'),\n",
       " ('Wells', 'Junior', 'Chicago Blues'),\n",
       " ('Wheeler', 'Golden \"Big\"', 'Chicago Blues'),\n",
       " ('Williams', \"Lil' Ed\", 'Chicago Blues'),\n",
       " ('Williams', 'Johnny', 'Chicago Blues'),\n",
       " ('Wrencher', 'Big John', 'Chicago Blues'),\n",
       " ('Yancey', 'Jimmy', 'Chicago Blues'),\n",
       " ('Young', 'Johnny \"Man\"', 'Chicago Blues'),\n",
       " ('Young', 'Mighty Joe', 'Chicago Blues'),\n",
       " ('Young', 'Zora', 'Chicago Blues'),\n",
       " ('Anderson', 'Pink', 'Piedmont Blues'),\n",
       " ('B.', 'Memphis Willie', 'Piedmont Blues'),\n",
       " ('Baker', 'Etta', 'Piedmont Blues'),\n",
       " ('Bell', 'Ed', 'Piedmont Blues'),\n",
       " ('Brown', 'Gabriel', 'Piedmont Blues'),\n",
       " ('Bob', 'Barbecue', 'Piedmont Blues'),\n",
       " ('Slim', 'Carolina', 'Piedmont Blues'),\n",
       " ('Cephas', 'John', 'Piedmont Blues'),\n",
       " ('Wiggins', 'Phil', 'Piedmont Blues'),\n",
       " ('Clark', 'Cortelia', 'Piedmont Blues'),\n",
       " ('Coleman', 'Jaybird', 'Piedmont Blues'),\n",
       " ('Cotten', 'Elizabeth', 'Piedmont Blues'),\n",
       " ('Council', 'Floyd', 'Piedmont Blues'),\n",
       " ('Davis', 'Reverend Gary', 'Piedmont Blues'),\n",
       " ('Edwards', 'Archie', 'Piedmont Blues'),\n",
       " ('Fuller', 'Blind Boy', 'Piedmont Blues'),\n",
       " ('Holeman', 'John Dee', 'Piedmont Blues'),\n",
       " ('Hovington', 'Frank', 'Piedmont Blues'),\n",
       " ('Howell', 'Peg Leg', 'Piedmont Blues'),\n",
       " ('Jackson', 'Bo Weavil', 'Piedmont Blues'),\n",
       " ('Jackson', 'John', 'Piedmont Blues'),\n",
       " ('Jordan', 'Luke', 'Piedmont Blues'),\n",
       " ('Lincoln', 'Charley', 'Piedmont Blues'),\n",
       " ('Martin', 'Carl', 'Piedmont Blues'),\n",
       " ('Martin', 'Sara', 'Piedmont Blues'),\n",
       " ('McGhee', 'Brownie', 'Piedmont Blues'),\n",
       " ('Moore', 'William', 'Piedmont Blues'),\n",
       " ('Moss', 'Buddy', 'Piedmont Blues'),\n",
       " ('McTell', 'Blind Willie', 'Piedmont Blues'),\n",
       " ('Parr', 'Charlie', 'Piedmont Blues'),\n",
       " ('Small', 'Drink', 'Piedmont Blues'),\n",
       " ('Terry', 'Sonny', 'Piedmont Blues'),\n",
       " ('Weaver', 'Curley', 'Piedmont Blues'),\n",
       " ('White', 'Josh', 'Piedmont Blues'),\n",
       " ('Willis', 'Ralph', 'Piedmont Blues'),\n",
       " ('Alexander', 'Alger \"Texas\"', 'Country Blues'),\n",
       " ('Armstrong', 'Howard \"Louie Bluie\"', 'Country Blues'),\n",
       " ('Bailey', 'DeFord', 'Country Blues'),\n",
       " ('Bob', 'Barbecue', 'Country Blues'),\n",
       " ('Bogan', 'Lucille', 'Country Blues'),\n",
       " ('Bonds', 'Son', 'Country Blues'),\n",
       " ('Bracey', 'Ishmon', 'Country Blues'),\n",
       " ('Brozman', 'Bob', 'Country Blues'),\n",
       " ('Slim', 'Bumble Bee', 'Country Blues'),\n",
       " ('Cox', 'Ida', 'Country Blues'),\n",
       " ('Crutchfield', 'James', 'Country Blues'),\n",
       " ('Doyle', 'Little Buddy', 'Country Blues'),\n",
       " ('Estes', 'Sleepy John', 'Country Blues'),\n",
       " ('Fuller', 'Jesse', 'Country Blues'),\n",
       " ('Garland', 'Terry', 'Country Blues'),\n",
       " ('Grant', 'Coot', 'Country Blues'),\n",
       " ('Goose', 'Ramon', 'Country Blues'),\n",
       " ('Hart', 'Hattie', 'Country Blues'),\n",
       " ('Hopkins', \"Lightnin'\", 'Country Blues'),\n",
       " ('Jackson', 'Melvin \"Lil\\' Son\"', 'Country Blues'),\n",
       " ('Jackson', 'Papa Charlie', 'Country Blues'),\n",
       " ('Johnson', 'Lonnie', 'Country Blues'),\n",
       " ('Johnston', 'Richard', 'Country Blues'),\n",
       " ('Jones', 'Tutu', 'Country Blues'),\n",
       " ('Kimbrough', 'Lottie', 'Country Blues'),\n",
       " ('Lewis', 'Furry', 'Country Blues'),\n",
       " ('Lewis', 'Noah', 'Country Blues'),\n",
       " ('Mapp', 'Eddie', 'Country Blues'),\n",
       " ('Band', 'Memphis Jug', 'Country Blues'),\n",
       " ('Sheiks', 'Mississippi', 'Country Blues'),\n",
       " ('Minnie', 'Memphis', 'Country Blues'),\n",
       " ('Morris', 'Thomas', 'Country Blues'),\n",
       " ('Nixon', 'Hammie', 'Country Blues'),\n",
       " ('Patton', 'Charley', 'Country Blues'),\n",
       " ('Sam', 'Peg Leg', 'Country Blues'),\n",
       " ('Rachell', 'Yank', 'Country Blues'),\n",
       " ('Roland', 'Walter', 'Country Blues'),\n",
       " ('Sane', 'Dan', 'Country Blues'),\n",
       " ('Scruggs', 'Irene', 'Country Blues'),\n",
       " ('Seward', 'Alec', 'Country Blues'),\n",
       " ('Sims', 'Frankie Lee', 'Country Blues'),\n",
       " ('Smith', 'Laura', 'Country Blues'),\n",
       " ('Spivey', 'Victoria', 'Country Blues'),\n",
       " ('Stokes', 'Frank', 'Country Blues'),\n",
       " ('Tate', 'Baby', 'Country Blues'),\n",
       " ('Thomas', \"Ramblin'\", 'Country Blues'),\n",
       " ('Tucker', 'Bessie', 'Country Blues'),\n",
       " ('Wallace', 'Sippie', 'Country Blues'),\n",
       " ('Webb', 'Boogie Bill', 'Country Blues'),\n",
       " ('Wheatstraw', 'Peetie', 'Country Blues'),\n",
       " ('Wilson', 'Wesley', 'Country Blues'),\n",
       " ('Edwards', 'Clarence', 'Swamp Blues'),\n",
       " ('Gable', 'Guitar', 'Swamp Blues'),\n",
       " ('McCain', 'Jerry \"Boogie\"', 'Swamp Blues'),\n",
       " ('Webster', 'Katie', 'Swamp Blues'),\n",
       " ('Neal', 'Kenny', 'Swamp Blues'),\n",
       " ('Garner', 'Larry', 'Swamp Blues'),\n",
       " ('Lester', 'Lazy', 'Swamp Blues'),\n",
       " ('Slim', \"Lightnin'\", 'Swamp Blues'),\n",
       " ('Sundown', 'Lonesome', 'Swamp Blues'),\n",
       " ('Ball', 'Marcia', 'Swamp Blues'),\n",
       " ('Smith', 'Moses \"Whispering\"', 'Swamp Blues'),\n",
       " ('Abshire', 'Nathan', 'Swamp Blues'),\n",
       " ('Neal', 'Raful', 'Swamp Blues'),\n",
       " ('Sidney', \"Rockin'\", 'Swamp Blues'),\n",
       " ('Hogan', 'Silas', 'Swamp Blues'),\n",
       " ('Harpo', 'Slim', 'Swamp Blues'),\n",
       " ('Babe', 'Smoky', 'Swamp Blues'),\n",
       " ('Benoit', 'Tab', 'Swamp Blues'),\n",
       " ('Thomas', 'Tabby', 'Swamp Blues'),\n",
       " ('White', 'Tony Joe', 'Swamp Blues'),\n",
       " ('Brooks', 'Danny', 'Gospel Blues'),\n",
       " ('Dorsey', 'Thomas A.', 'Gospel Blues'),\n",
       " ('Graves', 'Blind Roosevelt', 'Gospel Blues'),\n",
       " ('Hall', 'Vera', 'Gospel Blues'),\n",
       " ('Jefferson', 'Blind Lemon', 'Gospel Blues'),\n",
       " ('Johnson', 'Blind Willie', 'Gospel Blues'),\n",
       " ('Kaiser', 'Glenn', 'Gospel Blues'),\n",
       " ('Laury', 'Booker T.', 'Gospel Blues'),\n",
       " ('Mansfield', 'Darrell', 'Gospel Blues'),\n",
       " ('Morgan', 'Sister Gertrude', 'Gospel Blues'),\n",
       " ('Patton', 'Charlie', 'Gospel Blues'),\n",
       " ('Phillips', 'Washington', 'Gospel Blues'),\n",
       " ('Rice', 'D. C.', 'Gospel Blues'),\n",
       " ('Bradley', 'Robert', 'Gospel Blues'),\n",
       " ('Smith', 'Eugene', 'Gospel Blues'),\n",
       " ('Taggart', 'Blind Joe', 'Gospel Blues'),\n",
       " ('Tharpe', 'Sister Rosetta', 'Gospel Blues'),\n",
       " ('White', 'Bukka', 'Gospel Blues'),\n",
       " ('Smith', 'Six Cylinder', 'Gospel Blues'),\n",
       " ('Alexander', 'Dave', 'West Coast Blues'),\n",
       " ('Baty', 'Charlie', 'West Coast Blues'),\n",
       " ('Brooks', 'Freddie', 'West Coast Blues'),\n",
       " ('Bonner', 'Juke Boy', 'West Coast Blues'),\n",
       " ('Brown', 'Charles', 'West Coast Blues'),\n",
       " ('Brown', 'Roy', 'West Coast Blues'),\n",
       " ('Collette', 'Buddy', 'West Coast Blues'),\n",
       " ('Crayton', 'Pee Wee', 'West Coast Blues'),\n",
       " ('DeSanto', 'Sugar Pie', 'West Coast Blues'),\n",
       " ('Dixon', 'Floyd', 'West Coast Blues'),\n",
       " ('Fuller', 'Johnny', 'West Coast Blues'),\n",
       " ('Fulson', 'Lowell', 'West Coast Blues'),\n",
       " ('Gant', 'Cecil', 'West Coast Blues'),\n",
       " ('Glenn', 'Lloyd', 'West Coast Blues'),\n",
       " ('Harris', 'Peppermint', 'West Coast Blues'),\n",
       " ('Hawkins', 'Roy', 'West Coast Blues'),\n",
       " ('Heartsman', 'Johnny', 'West Coast Blues'),\n",
       " ('Henderson', 'Duke', 'West Coast Blues'),\n",
       " ('Hunter', 'Ivory Joe', 'West Coast Blues'),\n",
       " ('James', 'Etta', 'West Coast Blues'),\n",
       " ('Littlefield', 'Little Willie', 'West Coast Blues'),\n",
       " ('Lowery', 'Robert', 'West Coast Blues'),\n",
       " ('Malone', 'J. J.', 'West Coast Blues'),\n",
       " ('Mayfield', 'Percy', 'West Coast Blues'),\n",
       " ('McCracklin', 'Jimmy', 'West Coast Blues'),\n",
       " ('McNeely', 'Big Jay', 'West Coast Blues'),\n",
       " ('Milton', 'Roy', 'West Coast Blues'),\n",
       " ('Nelson', 'Jimmy', 'West Coast Blues'),\n",
       " ('Otis', 'Johnny', 'West Coast Blues'),\n",
       " ('Piazza', 'Rod', 'West Coast Blues'),\n",
       " ('Robinson', 'L. C.', 'West Coast Blues'),\n",
       " ('Sadler', 'Haskell Robert', 'West Coast Blues'),\n",
       " ('Smith', 'George \"Harmonica\"', 'West Coast Blues'),\n",
       " ('Thomas', 'Lafayette', 'West Coast Blues'),\n",
       " ('Thornton', 'Big Mama', 'West Coast Blues'),\n",
       " ('Tucker', 'Luther', 'West Coast Blues'),\n",
       " ('Turner', 'Big Joe', 'West Coast Blues'),\n",
       " ('Vinson', 'Eddie', 'West Coast Blues'),\n",
       " ('Walker', 'Joe Louis', 'West Coast Blues'),\n",
       " ('Walker', 'T-Bone', 'West Coast Blues'),\n",
       " ('Watson', 'Junior', 'West Coast Blues'),\n",
       " ('Watson', 'Johnny \"Guitar\"', 'West Coast Blues'),\n",
       " ('Ammons', 'Albert', 'Piano Blues'),\n",
       " ('Carr', 'Leroy', 'Piano Blues'),\n",
       " ('Charles', 'Ray', 'Piano Blues'),\n",
       " ('Davenport', 'Charles \"Cow Cow\"', 'Piano Blues'),\n",
       " ('Domino', 'Fats', 'Piano Blues'),\n",
       " ('John', 'Dr.', 'Piano Blues'),\n",
       " ('Gray', 'Henry', 'Piano Blues'),\n",
       " ('Leake', 'Lafayette', 'Piano Blues'),\n",
       " ('Lewis', 'Meade \"Lux\"', 'Piano Blues'),\n",
       " ('Longhair', 'Professor', 'Piano Blues'),\n",
       " ('Mance', 'Junior', 'Piano Blues'),\n",
       " ('McShann', 'Jay', 'Piano Blues'),\n",
       " ('Milburn', 'Amos', 'Piano Blues'),\n",
       " ('Pickens', 'Buster', 'Piano Blues'),\n",
       " ('Red', 'Boogie Woogie', 'Piano Blues'),\n",
       " ('Slim', 'Memphis', 'Piano Blues'),\n",
       " ('Smith', 'Pinetop', 'Piano Blues'),\n",
       " ('Smith', 'Willie \"The Lion\"', 'Piano Blues'),\n",
       " ('Sykes', 'Roosevelt', 'Piano Blues'),\n",
       " ('Townsend', 'Henry', 'Piano Blues'),\n",
       " ('Vinson', 'Mose', 'Piano Blues'),\n",
       " ('Wayne', 'Kenny \"Blues Boss\"', 'Piano Blues'),\n",
       " ('Zingg', 'Silvan', 'Piano Blues'),\n",
       " ('Lewis', 'Jerry Lee', 'Piano Blues'),\n",
       " ('Mullican', 'Moon', 'Piano Blues'),\n",
       " ('Moore', 'Merrill', 'Piano Blues'),\n",
       " ('Pullum', 'Joe', 'Piano Blues'),\n",
       " ('Red', 'Piano', 'Piano Blues'),\n",
       " ('Red', 'Speckled', 'Piano Blues'),\n",
       " ('Miller', 'Chuck', 'Piano Blues'),\n",
       " ('Rose', 'Bayless', 'Piano Blues')]"
      ]
     },
     "execution_count": 88,
     "metadata": {},
     "output_type": "execute_result"
    }
   ],
   "source": [
    "filename = './data/blues.txt'\n",
    "process(filename)# test your code here.  You may edit this cell, and you may use the files 'blues.txt', 'swamppop.txt', and 'zydeco.txt',\n",
    "# all of which are located in the 'data/' directory."
   ]
  },
  {
   "cell_type": "code",
   "execution_count": 76,
   "metadata": {
    "collapsed": false,
    "deletable": false,
    "nbgrader": {
     "checksum": "781aaf202c457bf19e608ba814102370",
     "grade": true,
     "grade_id": "process-test1",
     "locked": true,
     "points": 1,
     "solution": false
    }
   },
   "outputs": [
    {
     "name": "stdout",
     "output_type": "stream",
     "text": [
      "Success!\n"
     ]
    }
   ],
   "source": [
    "# it should pass this test---do NOT edit this cell\n",
    "# test basic single-genre case\n",
    "zydeco = process('./data/zydeco.txt')\n",
    "assert zydeco[0]  == ('Chavis', 'Boozoo', 'Zydeco')\n",
    "assert zydeco[-3] == ('Dopsy', \"Rockin'\", 'Zydeco')\n",
    "print('Success!')"
   ]
  },
  {
   "cell_type": "code",
   "execution_count": 89,
   "metadata": {
    "collapsed": false,
    "deletable": false,
    "nbgrader": {
     "checksum": "47a77bb3445296daa2c9a213c27d3608",
     "grade": true,
     "grade_id": "process-test2",
     "locked": true,
     "points": 1,
     "solution": false
    }
   },
   "outputs": [
    {
     "name": "stdout",
     "output_type": "stream",
     "text": [
      "Success!\n"
     ]
    }
   ],
   "source": [
    "# it should pass this test---do NOT edit this cell\n",
    "# test case with multiple genres\n",
    "blues = process('./data/blues.txt')\n",
    "assert blues[0]  == ('Augusta', 'Cecil', 'Delta Blues')\n",
    "assert blues[-1] == ('Rose', 'Bayless', 'Piano Blues')\n",
    "print('Success!')"
   ]
  },
  {
   "cell_type": "markdown",
   "metadata": {},
   "source": [
    "Typically, you would also need to test for duplicates.  In this case, we've already removed duplicate entries that were present.  (This may occur because the many entries will have different musical styles associated with them—many musicians performed in several styles within the genre of blues.)"
   ]
  },
  {
   "cell_type": "markdown",
   "metadata": {},
   "source": [
    "###  Data Processing"
   ]
  },
  {
   "cell_type": "markdown",
   "metadata": {},
   "source": [
    "You should now have a function which loads a formated text file and converts that file into a collection of records which you can now use to ask and answer questions about the properties of the data set."
   ]
  },
  {
   "cell_type": "code",
   "execution_count": 90,
   "metadata": {
    "collapsed": false
   },
   "outputs": [],
   "source": [
    "blues = process('./data/blues.txt')"
   ]
  },
  {
   "cell_type": "markdown",
   "metadata": {},
   "source": [
    "#### Sorting"
   ]
  },
  {
   "cell_type": "markdown",
   "metadata": {},
   "source": [
    "For instance, sort by surname and list the first ten entries."
   ]
  },
  {
   "cell_type": "code",
   "execution_count": 91,
   "metadata": {
    "collapsed": false
   },
   "outputs": [
    {
     "data": {
      "text/plain": [
       "[('Abshire', 'Nathan', 'Swamp Blues'),\n",
       " ('Adams', 'Alberta', 'Chicago Blues'),\n",
       " ('Alexander', 'Alger \"Texas\"', 'Country Blues'),\n",
       " ('Alexander', 'Dave', 'West Coast Blues'),\n",
       " ('Alexander', 'Linsey', 'Chicago Blues'),\n",
       " ('Allison', 'Luther', 'Chicago Blues'),\n",
       " ('Allison', 'Mose', 'Delta Blues'),\n",
       " ('Ammons', 'Albert', 'Piano Blues'),\n",
       " ('Anderson', 'Pink', 'Piedmont Blues'),\n",
       " ('Armstrong', 'Howard \"Louie Bluie\"', 'Country Blues')]"
      ]
     },
     "execution_count": 91,
     "metadata": {},
     "output_type": "execute_result"
    }
   ],
   "source": [
    "blues.sort()  # note that sort sorts in place, rather than returning a result to you---this will trip you up if you are not careful!\n",
    "blues[:10]"
   ]
  },
  {
   "cell_type": "markdown",
   "metadata": {},
   "source": [
    "Tuples will automatically be sorted by the first element, then the second, then the third; this makes sorting by surname easy.  Sorting by the other fields, such as first name or style, is a bit more involved.  You have to provide a `key` to `sort` so it knows what to sort by.  The easiest way is to write a function which `return`s the second element (or the first name, in this case):"
   ]
  },
  {
   "cell_type": "code",
   "execution_count": 92,
   "metadata": {
    "collapsed": false
   },
   "outputs": [
    {
     "data": {
      "text/plain": [
       "[('Foster', '\"Baby Face\" Leroy', 'Chicago Blues'),\n",
       " ('Reed', 'A. C.', 'Chicago Blues'),\n",
       " ('Ammons', 'Albert', 'Piano Blues'),\n",
       " ('Collins', 'Albert', 'Chicago Blues'),\n",
       " ('Adams', 'Alberta', 'Chicago Blues'),\n",
       " ('Seward', 'Alec', 'Country Blues'),\n",
       " ('Alexander', 'Alger \"Texas\"', 'Country Blues'),\n",
       " ('Milburn', 'Amos', 'Piano Blues'),\n",
       " ('Odom', 'Andrew', 'Chicago Blues'),\n",
       " ('Stidham', 'Arbee', 'Chicago Blues'),\n",
       " ('Edwards', 'Archie', 'Piedmont Blues'),\n",
       " ('Burton', 'Aron', 'Chicago Blues'),\n",
       " ('Crudup', 'Arthur \"Big Boy\"', 'Delta Blues'),\n",
       " ('Spires', 'Arthur \"Big Boy\"', 'Chicago Blues'),\n",
       " ('Tate', 'Baby', 'Country Blues'),\n",
       " ('Bob', 'Barbecue', 'Country Blues'),\n",
       " ('Bob', 'Barbecue', 'Piedmont Blues'),\n",
       " ('Smith', \"Barkin' Bill\", 'Chicago Blues'),\n",
       " ('Chuck', 'Barrelhouse', 'Chicago Blues'),\n",
       " ('Rose', 'Bayless', 'Piano Blues'),\n",
       " ('Tucker', 'Bessie', 'Country Blues'),\n",
       " ('Broonzy', 'Big Bill', 'Chicago Blues'),\n",
       " ('Kinsey', 'Big Daddy', 'Chicago Blues'),\n",
       " ('McNeely', 'Big Jay', 'West Coast Blues'),\n",
       " ('Turner', 'Big Joe', 'West Coast Blues'),\n",
       " ('Williams', 'Big Joe', 'Delta Blues'),\n",
       " ('Wrencher', 'Big John', 'Chicago Blues'),\n",
       " ('Merriweather', 'Big Maceo', 'Chicago Blues'),\n",
       " ('Thornton', 'Big Mama', 'West Coast Blues'),\n",
       " ('Horton', 'Big Walter', 'Chicago Blues'),\n",
       " ('Branch', 'Billy', 'Chicago Blues'),\n",
       " ('Flynn', 'Billy', 'Chicago Blues'),\n",
       " ('Blake', 'Blind', 'Chicago Blues'),\n",
       " ('Fuller', 'Blind Boy', 'Piedmont Blues'),\n",
       " ('Taggart', 'Blind Joe', 'Gospel Blues'),\n",
       " ('Davis', 'Blind John', 'Chicago Blues'),\n",
       " ('Jefferson', 'Blind Lemon', 'Gospel Blues'),\n",
       " ('Graves', 'Blind Roosevelt', 'Gospel Blues'),\n",
       " ('Johnson', 'Blind Willie', 'Gospel Blues'),\n",
       " ('McTell', 'Blind Willie', 'Piedmont Blues'),\n",
       " ('Carter', 'Bo', 'Delta Blues'),\n",
       " ('Diddley', 'Bo', 'Chicago Blues'),\n",
       " ('Jackson', 'Bo Weavil', 'Piedmont Blues'),\n",
       " ('Brozman', 'Bob', 'Country Blues'),\n",
       " ('Stroger', 'Bob', 'Chicago Blues'),\n",
       " ('Lee', 'Bonnie', 'Chicago Blues'),\n",
       " ('B.', 'Bonny', 'Chicago Blues'),\n",
       " ('Webb', 'Boogie Bill', 'Country Blues'),\n",
       " ('Red', 'Boogie Woogie', 'Piano Blues'),\n",
       " ('Laury', 'Booker T.', 'Gospel Blues'),\n",
       " ('Phillips', 'Brewer', 'Chicago Blues'),\n",
       " ('McGhee', 'Brownie', 'Piedmont Blues'),\n",
       " ('Collette', 'Buddy', 'West Coast Blues'),\n",
       " ('Guy', 'Buddy', 'Chicago Blues'),\n",
       " ('Moss', 'Buddy', 'Piedmont Blues'),\n",
       " ('White', 'Bukka', 'Gospel Blues'),\n",
       " ('Slim', 'Bumble Bee', 'Country Blues'),\n",
       " ('Benton', 'Buster', 'Chicago Blues'),\n",
       " ('Pickens', 'Buster', 'Piano Blues'),\n",
       " ('Smith', 'Byther', 'Chicago Blues'),\n",
       " ('Bell', 'Carey', 'Chicago Blues'),\n",
       " ('Martin', 'Carl', 'Piedmont Blues'),\n",
       " ('Slim', 'Carolina', 'Piedmont Blues'),\n",
       " ('Augusta', 'Cecil', 'Delta Blues'),\n",
       " ('Gant', 'Cecil', 'West Coast Blues'),\n",
       " ('Dupree', 'Champion Jack', 'Chicago Blues'),\n",
       " ('Brown', 'Charles', 'West Coast Blues'),\n",
       " ('Davenport', 'Charles \"Cow Cow\"', 'Piano Blues'),\n",
       " ('Booker', 'Charley', 'Delta Blues'),\n",
       " ('Lincoln', 'Charley', 'Piedmont Blues'),\n",
       " ('Patton', 'Charley', 'Country Blues'),\n",
       " ('Patton', 'Charley', 'Delta Blues'),\n",
       " ('Baty', 'Charlie', 'West Coast Blues'),\n",
       " ('Musselwhite', 'Charlie', 'Chicago Blues'),\n",
       " ('Parr', 'Charlie', 'Piedmont Blues'),\n",
       " ('Patton', 'Charlie', 'Gospel Blues'),\n",
       " ('Slim', 'Chicago', 'Chicago Blues'),\n",
       " ('Banks', 'Chico', 'Chicago Blues'),\n",
       " ('Miller', 'Chuck', 'Piano Blues'),\n",
       " ('Edwards', 'Clarence', 'Swamp Blues'),\n",
       " ('Band', 'Climax Blues', 'Chicago Blues'),\n",
       " ('Grant', 'Coot', 'Country Blues'),\n",
       " ('Clark', 'Cortelia', 'Piedmont Blues'),\n",
       " ('Koda', 'Cub', 'Chicago Blues'),\n",
       " ('Weaver', 'Curley', 'Piedmont Blues'),\n",
       " ('Rice', 'D. C.', 'Gospel Blues'),\n",
       " ('Sane', 'Dan', 'Country Blues'),\n",
       " ('Brooks', 'Danny', 'Gospel Blues'),\n",
       " ('Kalb', 'Danny', 'Chicago Blues'),\n",
       " ('Mansfield', 'Darrell', 'Gospel Blues'),\n",
       " ('Alexander', 'Dave', 'West Coast Blues'),\n",
       " ('Specter', 'Dave', 'Chicago Blues'),\n",
       " ('Edwards', 'David Honeyboy', 'Delta Blues'),\n",
       " ('Bailey', 'DeFord', 'Country Blues'),\n",
       " ('Billy', 'Delta Blind', 'Delta Blues'),\n",
       " ('Payton', 'Dion', 'Chicago Blues'),\n",
       " ('Ross', 'Doctor', 'Delta Blues'),\n",
       " ('Kinsey', 'Donald', 'Chicago Blues'),\n",
       " ('John', 'Dr.', 'Piano Blues'),\n",
       " ('Small', 'Drink', 'Piedmont Blues'),\n",
       " ('Henderson', 'Duke', 'West Coast Blues'),\n",
       " ('Kight', 'E. G.', 'Chicago Blues'),\n",
       " ('Hooker', 'Earl', 'Chicago Blues'),\n",
       " ('Bell', 'Ed', 'Piedmont Blues'),\n",
       " ('Boyd', 'Eddie', 'Chicago Blues'),\n",
       " ('King', 'Eddie', 'Chicago Blues'),\n",
       " ('Mapp', 'Eddie', 'Country Blues'),\n",
       " ('Shaw', 'Eddie', 'Chicago Blues'),\n",
       " ('Taylor', 'Eddie', 'Chicago Blues'),\n",
       " ('Vinson', 'Eddie', 'West Coast Blues'),\n",
       " ('Campbell', 'Eddie C.', 'Chicago Blues'),\n",
       " ('Clearwater', 'Eddy \"The Chief\"', 'Chicago Blues'),\n",
       " ('Wilson', 'Elder Roma', 'Delta Blues'),\n",
       " ('Cotten', 'Elizabeth', 'Piedmont Blues'),\n",
       " ('James', 'Elmore', 'Delta Blues'),\n",
       " ('Thomas', 'Elvie', 'Delta Blues'),\n",
       " ('Baker', 'Etta', 'Piedmont Blues'),\n",
       " ('James', 'Etta', 'West Coast Blues'),\n",
       " ('Smith', 'Eugene', 'Gospel Blues'),\n",
       " ('Domino', 'Fats', 'Piano Blues'),\n",
       " ('Robinson', 'Fenton', 'Chicago Blues'),\n",
       " ('Council', 'Floyd', 'Piedmont Blues'),\n",
       " ('Dixon', 'Floyd', 'West Coast Blues'),\n",
       " ('Jones', 'Floyd', 'Chicago Blues'),\n",
       " ('Hovington', 'Frank', 'Piedmont Blues'),\n",
       " ('Stokes', 'Frank', 'Country Blues'),\n",
       " ('Sims', 'Frankie Lee', 'Country Blues'),\n",
       " ('Brooks', 'Freddie', 'West Coast Blues'),\n",
       " ('Roulette', 'Freddie', 'Chicago Blues'),\n",
       " ('Spruell', 'Freddie', 'Delta Blues'),\n",
       " ('Lewis', 'Furry', 'Country Blues'),\n",
       " ('Brown', 'Gabriel', 'Piedmont Blues'),\n",
       " ('Wiley', 'Geeshie', 'Delta Blues'),\n",
       " ('Barnes', 'George', 'Chicago Blues'),\n",
       " ('Smith', 'George \"Harmonica\"', 'West Coast Blues'),\n",
       " ('Buford', 'George \"Mojo\"', 'Chicago Blues'),\n",
       " ('Butler', 'George \"Wild Child\"', 'Chicago Blues'),\n",
       " ('Kaiser', 'Glenn', 'Gospel Blues'),\n",
       " ('Wheeler', 'Golden \"Big\"', 'Chicago Blues'),\n",
       " ('Charles', \"Good Rockin'\", 'Chicago Blues'),\n",
       " ('Gable', 'Guitar', 'Swamp Blues'),\n",
       " ('Nixon', 'Hammie', 'Country Blues'),\n",
       " ('Hinds', 'Harmonica', 'Chicago Blues'),\n",
       " ('Sadler', 'Haskell Robert', 'West Coast Blues'),\n",
       " ('Hart', 'Hattie', 'Country Blues'),\n",
       " ('Gray', 'Henry', 'Piano Blues'),\n",
       " ('Townsend', 'Henry', 'Piano Blues'),\n",
       " ('Sims', 'Henry \"Son\"', 'Delta Blues'),\n",
       " ('Linkchain', 'Hip', 'Chicago Blues'),\n",
       " ('Maxwell', 'Holle Thee', 'Chicago Blues'),\n",
       " ('James', 'Homesick', 'Chicago Blues'),\n",
       " ('Taylor', 'Hound Dog', 'Chicago Blues'),\n",
       " ('Stackhouse', 'Houston', 'Delta Blues'),\n",
       " ('Armstrong', 'Howard \"Louie Bluie\"', 'Country Blues'),\n",
       " ('Wolf', 'Howlin', 'Delta Blues'),\n",
       " ('Wolf', \"Howlin'\", 'Chicago Blues'),\n",
       " ('Sumlin', 'Hubert', 'Chicago Blues'),\n",
       " ('Cox', 'Ida', 'Country Blues'),\n",
       " ('Scruggs', 'Irene', 'Country Blues'),\n",
       " ('Bracey', 'Ishman', 'Delta Blues'),\n",
       " ('Bracey', 'Ishmon', 'Country Blues'),\n",
       " ('Hunter', 'Ivory Joe', 'West Coast Blues'),\n",
       " ('Hutto', 'J. B.', 'Chicago Blues'),\n",
       " ('Lenoir', 'J. B.', 'Chicago Blues'),\n",
       " ('Short', 'J. D.', 'Delta Blues'),\n",
       " ('Malone', 'J. J.', 'West Coast Blues'),\n",
       " ('Brown', 'J. T.', 'Chicago Blues'),\n",
       " ('Owens', 'Jack', 'Delta Blues'),\n",
       " ('Cotton', 'James', 'Delta Blues'),\n",
       " ('Crutchfield', 'James', 'Country Blues'),\n",
       " ('Thomas', 'James', 'Delta Blues'),\n",
       " ('McShann', 'Jay', 'Piano Blues'),\n",
       " ('Coleman', 'Jaybird', 'Piedmont Blues'),\n",
       " ('Gillum', 'Jazz', 'Chicago Blues'),\n",
       " ('McCain', 'Jerry \"Boogie\"', 'Swamp Blues'),\n",
       " ('Lewis', 'Jerry Lee', 'Piano Blues'),\n",
       " ('Fuller', 'Jesse', 'Country Blues'),\n",
       " ('Hemphill', 'Jessie Mae', 'Delta Blues'),\n",
       " ('Dawkins', 'Jimmy', 'Chicago Blues'),\n",
       " ('Johnson', 'Jimmy', 'Chicago Blues'),\n",
       " ('McCracklin', 'Jimmy', 'West Coast Blues'),\n",
       " ('Nelson', 'Jimmy', 'West Coast Blues'),\n",
       " ('Reed', 'Jimmy', 'Chicago Blues'),\n",
       " ('Rogers', 'Jimmy', 'Chicago Blues'),\n",
       " ('Yancey', 'Jimmy', 'Chicago Blues'),\n",
       " ('Becker', 'Joe', 'Chicago Blues'),\n",
       " ('Pullum', 'Joe', 'Piano Blues'),\n",
       " ('Walker', 'Joe Louis', 'West Coast Blues'),\n",
       " ('Brim', 'John', 'Chicago Blues'),\n",
       " ('Cephas', 'John', 'Piedmont Blues'),\n",
       " ('Jackson', 'John', 'Piedmont Blues'),\n",
       " ('Littlejohn', 'John', 'Chicago Blues'),\n",
       " ('Holeman', 'John Dee', 'Piedmont Blues'),\n",
       " ('Barbee', 'John Henry', 'Delta Blues'),\n",
       " ('Hooker', 'John Lee', 'Delta Blues'),\n",
       " ('Drummer', 'Johnny', 'Chicago Blues'),\n",
       " ('Fuller', 'Johnny', 'West Coast Blues'),\n",
       " ('Heartsman', 'Johnny', 'West Coast Blues'),\n",
       " ('Otis', 'Johnny', 'West Coast Blues'),\n",
       " ('Shines', 'Johnny', 'Delta Blues'),\n",
       " ('Temple', 'Johnny', 'Delta Blues'),\n",
       " ('Williams', 'Johnny', 'Chicago Blues'),\n",
       " ('Woods', 'Johnny', 'Delta Blues'),\n",
       " ('Walker', 'Johnny \"Big Moose\"', 'Chicago Blues'),\n",
       " ('Watson', 'Johnny \"Guitar\"', 'West Coast Blues'),\n",
       " ('Young', 'Johnny \"Man\"', 'Chicago Blues'),\n",
       " ('Jones', 'Johnny \"Yard Dog\"', 'Chicago Blues'),\n",
       " ('Moore', 'Johnny B.', 'Chicago Blues'),\n",
       " ('White', 'Josh', 'Piedmont Blues'),\n",
       " ('Bonner', 'Juke Boy', 'West Coast Blues'),\n",
       " ('Kimbrough', 'Junior', 'Delta Blues'),\n",
       " ('Mance', 'Junior', 'Piano Blues'),\n",
       " ('Watson', 'Junior', 'West Coast Blues'),\n",
       " ('Wells', 'Junior', 'Chicago Blues'),\n",
       " ('Carroll', 'Karen', 'Chicago Blues'),\n",
       " ('Webster', 'Katie', 'Swamp Blues'),\n",
       " ('Saydak', 'Ken', 'Chicago Blues'),\n",
       " ('Neal', 'Kenny', 'Swamp Blues'),\n",
       " ('Wayne', 'Kenny \"Blues Boss\"', 'Piano Blues'),\n",
       " ('Bailey', 'Kid', 'Delta Blues'),\n",
       " ('Hill', 'King Solomon', 'Delta Blues'),\n",
       " ('Taylor', 'Koko', 'Chicago Blues'),\n",
       " ('Arnold', 'Kokomo', 'Chicago Blues'),\n",
       " ('McKinley', 'L. C.', 'Chicago Blues'),\n",
       " ('Robinson', 'L. C.', 'West Coast Blues'),\n",
       " ('Banks', 'L. V.', 'Chicago Blues'),\n",
       " ('Johnson', 'L.V.', 'Chicago Blues'),\n",
       " ('Gibson', 'Lacy', 'Chicago Blues'),\n",
       " ('Leake', 'Lafayette', 'Piano Blues'),\n",
       " ('Thomas', 'Lafayette', 'West Coast Blues'),\n",
       " ('Garner', 'Larry', 'Swamp Blues'),\n",
       " ('Smith', 'Laura', 'Country Blues'),\n",
       " ('Lester', 'Lazy', 'Swamp Blues'),\n",
       " ('Belly', 'Lead', 'Delta Blues'),\n",
       " ('Bates', 'Lefty', 'Chicago Blues'),\n",
       " ('Dizz', 'Lefty', 'Chicago Blues'),\n",
       " ('Caston', 'Leonard', 'Chicago Blues'),\n",
       " ('Carr', 'Leroy', 'Piano Blues'),\n",
       " ('Davenport', 'Lester', 'Chicago Blues'),\n",
       " ('Hopkins', \"Lightnin'\", 'Country Blues'),\n",
       " ('Slim', \"Lightnin'\", 'Swamp Blues'),\n",
       " ('Williams', \"Lil' Ed\", 'Chicago Blues'),\n",
       " ('Alexander', 'Linsey', 'Chicago Blues'),\n",
       " ('Charlie', 'Little', 'Chicago Blues'),\n",
       " ('Walter', 'Little', 'Chicago Blues'),\n",
       " ('Duncan', 'Little Arthur', 'Chicago Blues'),\n",
       " ('Montgomery', 'Little Brother', 'Chicago Blues'),\n",
       " ('Doyle', 'Little Buddy', 'Country Blues'),\n",
       " ('King', 'Little Freddie', 'Delta Blues'),\n",
       " ('Jones', 'Little Johnny', 'Chicago Blues'),\n",
       " ('Simmons', 'Little Mack', 'Chicago Blues'),\n",
       " ('Smothers', 'Little Smokey', 'Chicago Blues'),\n",
       " ('Littlefield', 'Little Willie', 'West Coast Blues'),\n",
       " ('Foster', 'Little Willy', 'Chicago Blues'),\n",
       " ('Mandeville', 'Liz', 'Chicago Blues'),\n",
       " ('Glenn', 'Lloyd', 'West Coast Blues'),\n",
       " ('Sundown', 'Lonesome', 'Swamp Blues'),\n",
       " ('Brooks', 'Lonnie', 'Chicago Blues'),\n",
       " ('Johnson', 'Lonnie', 'Country Blues'),\n",
       " ('Kimbrough', 'Lottie', 'Country Blues'),\n",
       " ('Red', 'Louisiana', 'Chicago Blues'),\n",
       " ('Fulson', 'Lowell', 'West Coast Blues'),\n",
       " ('Bogan', 'Lucille', 'Country Blues'),\n",
       " ('Jordan', 'Luke', 'Piedmont Blues'),\n",
       " ('Bell', 'Lurrie', 'Chicago Blues'),\n",
       " ('Allison', 'Luther', 'Chicago Blues'),\n",
       " ('Tucker', 'Luther', 'West Coast Blues'),\n",
       " ('Johnson', 'Luther \"Guitar Junior\"', 'Chicago Blues'),\n",
       " ('Johnson', 'Luther \"Snake Boy\"', 'Chicago Blues'),\n",
       " ('Sam', 'Magic', 'Chicago Blues'),\n",
       " ('Ball', 'Marcia', 'Swamp Blues'),\n",
       " ('Sammon', 'Marty', 'Chicago Blues'),\n",
       " ('Murphy', 'Matt \"Guitar\"', 'Chicago Blues'),\n",
       " ('Lewis', 'Meade \"Lux\"', 'Piano Blues'),\n",
       " ('Taylor', 'Melvin', 'Chicago Blues'),\n",
       " ('Jackson', 'Melvin \"Lil\\' Son\"', 'Country Blues'),\n",
       " ('Minnie', 'Memphis', 'Country Blues'),\n",
       " ('Slim', 'Memphis', 'Piano Blues'),\n",
       " ('Band', 'Memphis Jug', 'Country Blues'),\n",
       " ('B.', 'Memphis Willie', 'Piedmont Blues'),\n",
       " ('Moore', 'Merrill', 'Piano Blues'),\n",
       " ('Coleman', 'Michael', 'Chicago Blues'),\n",
       " ('Young', 'Mighty Joe', 'Chicago Blues'),\n",
       " ('Bloomfield', 'Mike', 'Chicago Blues'),\n",
       " ('Heat', 'Mississippi', 'Chicago Blues'),\n",
       " ('Sheiks', 'Mississippi', 'Country Blues'),\n",
       " ('McDowell', 'Mississippi Fred', 'Delta Blues'),\n",
       " ('Hurt', 'Mississippi John', 'Delta Blues'),\n",
       " ('Jones', 'Moody', 'Chicago Blues'),\n",
       " ('Mullican', 'Moon', 'Piano Blues'),\n",
       " ('Allison', 'Mose', 'Delta Blues'),\n",
       " ('Vinson', 'Mose', 'Piano Blues'),\n",
       " ('Smith', 'Moses \"Whispering\"', 'Swamp Blues'),\n",
       " ('Waters', 'Muddy', 'Delta Blues'),\n",
       " ('Abshire', 'Nathan', 'Swamp Blues'),\n",
       " ('Gravenites', 'Nick', 'Chicago Blues'),\n",
       " ('Moss', 'Nick', 'Chicago Blues'),\n",
       " ('Lewis', 'Noah', 'Country Blues'),\n",
       " ('Payne', 'Odie', 'Chicago Blues'),\n",
       " ('Rush', 'Otis', 'Chicago Blues'),\n",
       " ('Spann', 'Otis', 'Chicago Blues'),\n",
       " ('Smothers', 'Otis \"Big Smokey\"', 'Chicago Blues'),\n",
       " ('Jackson', 'Papa Charlie', 'Country Blues'),\n",
       " ('McCoy', 'Papa Charlie', 'Delta Blues'),\n",
       " ('Butterfield', 'Paul', 'Chicago Blues'),\n",
       " ('Crayton', 'Pee Wee', 'West Coast Blues'),\n",
       " ('Wheatstraw', 'Peetie', 'Country Blues'),\n",
       " ('Howell', 'Peg Leg', 'Piedmont Blues'),\n",
       " ('Sam', 'Peg Leg', 'Country Blues'),\n",
       " ('Harris', 'Peppermint', 'West Coast Blues'),\n",
       " ('Mayfield', 'Percy', 'West Coast Blues'),\n",
       " ('Guy', 'Phil', 'Chicago Blues'),\n",
       " ('Wiggins', 'Phil', 'Piedmont Blues'),\n",
       " ('Red', 'Piano', 'Piano Blues'),\n",
       " ('Perkins', 'Pinetop', 'Delta Blues'),\n",
       " ('Smith', 'Pinetop', 'Piano Blues'),\n",
       " ('Anderson', 'Pink', 'Piedmont Blues'),\n",
       " ('Longhair', 'Professor', 'Piano Blues'),\n",
       " ('Burnside', 'R. L.', 'Delta Blues'),\n",
       " ('Neal', 'Raful', 'Swamp Blues'),\n",
       " ('Willis', 'Ralph', 'Piedmont Blues'),\n",
       " ('Thomas', \"Ramblin'\", 'Country Blues'),\n",
       " ('Goose', 'Ramon', 'Country Blues'),\n",
       " ('Charles', 'Ray', 'Piano Blues'),\n",
       " ('Davis', 'Reverend Gary', 'Piedmont Blues'),\n",
       " ('Johnston', 'Richard', 'Country Blues'),\n",
       " ('Belfour', 'Robert', 'Delta Blues'),\n",
       " ('Bradley', 'Robert', 'Gospel Blues'),\n",
       " ('Johnson', 'Robert', 'Delta Blues'),\n",
       " ('Lockwood', 'Robert', 'Delta Blues'),\n",
       " ('Lowery', 'Robert', 'West Coast Blues'),\n",
       " ('Nighthawk', 'Robert', 'Chicago Blues'),\n",
       " ('Sidney', \"Rockin'\", 'Swamp Blues'),\n",
       " ('Piazza', 'Rod', 'West Coast Blues'),\n",
       " ('Brooks', 'Ronnie Baker', 'Chicago Blues'),\n",
       " ('Sykes', 'Roosevelt', 'Piano Blues'),\n",
       " ('Brown', 'Roy', 'West Coast Blues'),\n",
       " ('Hawkins', 'Roy', 'West Coast Blues'),\n",
       " ('Milton', 'Roy', 'West Coast Blues'),\n",
       " ('Carr', 'Sam', 'Delta Blues'),\n",
       " ('Lay', 'Sam', 'Chicago Blues'),\n",
       " ('Lawhorn', 'Sammy', 'Chicago Blues'),\n",
       " ('Martin', 'Sara', 'Piedmont Blues'),\n",
       " ('Blackwell', 'Scrapper', 'Chicago Blues'),\n",
       " ('Harris', 'Shakey Jake', 'Chicago Blues'),\n",
       " ('Hogan', 'Silas', 'Swamp Blues'),\n",
       " ('Zingg', 'Silvan', 'Piano Blues'),\n",
       " ('Wallace', 'Sippie', 'Country Blues'),\n",
       " ('Morgan', 'Sister Gertrude', 'Gospel Blues'),\n",
       " ('Tharpe', 'Sister Rosetta', 'Gospel Blues'),\n",
       " ('Smith', 'Six Cylinder', 'Gospel Blues'),\n",
       " ('James', 'Skip', 'Delta Blues'),\n",
       " ('Estes', 'Sleepy John', 'Country Blues'),\n",
       " ('Harpo', 'Slim', 'Swamp Blues'),\n",
       " ('Babe', 'Smoky', 'Swamp Blues'),\n",
       " ('Pryor', 'Snooky', 'Chicago Blues'),\n",
       " ('Bonds', 'Son', 'Country Blues'),\n",
       " ('House', 'Son', 'Delta Blues'),\n",
       " ('Seals', 'Son', 'Chicago Blues'),\n",
       " ('Rhodes', 'Sonny', 'Delta Blues'),\n",
       " ('Terry', 'Sonny', 'Piedmont Blues'),\n",
       " ('Nelson', 'Sonny Boy', 'Delta Blues'),\n",
       " ('Williamson', 'Sonny Boy', 'Delta Blues'),\n",
       " ('Red', 'Speckled', 'Piano Blues'),\n",
       " ('Freund', 'Steve', 'Chicago Blues'),\n",
       " ('John', 'Studebaker', 'Chicago Blues'),\n",
       " ('Blue', 'Sugar', 'Chicago Blues'),\n",
       " ('DeSanto', 'Sugar Pie', 'West Coast Blues'),\n",
       " ('Slim', 'Sunnyland', 'Chicago Blues'),\n",
       " ('Johnson', 'Syl', 'Chicago Blues'),\n",
       " ('Walker', 'T-Bone', 'West Coast Blues'),\n",
       " ('Benoit', 'Tab', 'Swamp Blues'),\n",
       " ('Thomas', 'Tabby', 'Swamp Blues'),\n",
       " ('Red', 'Tampa', 'Chicago Blues'),\n",
       " ('Garland', 'Terry', 'Country Blues'),\n",
       " ('Morris', 'Thomas', 'Country Blues'),\n",
       " ('Dorsey', 'Thomas A.', 'Gospel Blues'),\n",
       " ('Bankhead', 'Tommy', 'Delta Blues'),\n",
       " ('Johnson', 'Tommy', 'Delta Blues'),\n",
       " ('McClennan', 'Tommy', 'Delta Blues'),\n",
       " ('Llorens', 'Tony', 'Chicago Blues'),\n",
       " ('White', 'Tony Joe', 'Swamp Blues'),\n",
       " ('Jones', 'Tutu', 'Country Blues'),\n",
       " ('Wellington', 'Valerie', 'Chicago Blues'),\n",
       " ('Hall', 'Vera', 'Gospel Blues'),\n",
       " ('Spivey', 'Victoria', 'Country Blues'),\n",
       " ('Roland', 'Walter', 'Country Blues'),\n",
       " ('Sam', 'Washboard', 'Chicago Blues'),\n",
       " ('Phillips', 'Washington', 'Gospel Blues'),\n",
       " ('Wilson', 'Wesley', 'Country Blues'),\n",
       " ('Clarke', 'William', 'Chicago Blues'),\n",
       " ('Moore', 'William', 'Piedmont Blues'),\n",
       " ('Brown', 'Willie', 'Delta Blues'),\n",
       " ('Clayton', 'Willie', 'Chicago Blues'),\n",
       " ('Dixon', 'Willie', 'Chicago Blues'),\n",
       " ('Love', 'Willie', 'Delta Blues'),\n",
       " ('Mabon', 'Willie', 'Chicago Blues'),\n",
       " ('Smith', 'Willie \"The Lion\"', 'Piano Blues'),\n",
       " ('Rachell', 'Yank', 'Country Blues'),\n",
       " ('Young', 'Zora', 'Chicago Blues')]"
      ]
     },
     "execution_count": 92,
     "metadata": {},
     "output_type": "execute_result"
    }
   ],
   "source": [
    "def second_element(a_list):\n",
    "    return a_list[1]\n",
    "blues = sorted(blues, key=second_element)\n",
    "blues  # note that `\"Baby Face\" Leroy` sorts by `\"` not `B`"
   ]
  },
  {
   "cell_type": "markdown",
   "metadata": {},
   "source": [
    "-   How many musical styles are there, and how many musicians in each style?\n",
    "    \n",
    "    To answer this question, we'll use a `dict`ionary.  A `dict` is like a `list`, except that a list is indexed by `int`s and a `dict` is indexed by many different data types.\n",
    "    \n",
    "    A `list` that contains strings, for example, can be indexed directly by the position of each string in the `list`:\n",
    "    \n",
    "    ![](./img/list-pic.png)"
   ]
  },
  {
   "cell_type": "code",
   "execution_count": 93,
   "metadata": {
    "collapsed": false
   },
   "outputs": [
    {
     "name": "stdout",
     "output_type": "stream",
     "text": [
      "['alpha', 'beta', 'gamma', 'delta', 'omega']\n"
     ]
    }
   ],
   "source": [
    "list_example = ['alpha', 'beta', 'gamma', 'delta', 'omega']\n",
    "print(list_example)"
   ]
  },
  {
   "cell_type": "markdown",
   "metadata": {},
   "source": [
    "A `dict`, in contrast, can use strings or floating-point values or tuples (and many other things) to index.  Consider a `dict` that uses English color names to identify HTML color codes:\n",
    "\n",
    "![](./img/dict-pic.png)"
   ]
  },
  {
   "cell_type": "code",
   "execution_count": 94,
   "metadata": {
    "collapsed": false
   },
   "outputs": [
    {
     "name": "stdout",
     "output_type": "stream",
     "text": [
      "{'green': '#00FF00', 'yellow': '#FFFF00', 'red': '#FF0000', 'black': '#000000', 'blue': '#0000FF'}\n"
     ]
    }
   ],
   "source": [
    "dict_example = {'red': '#FF0000', 'green': '#00FF00', 'yellow': '#FFFF00', 'blue': '#0000FF', 'black': '#000000'}\n",
    "print(dict_example)"
   ]
  },
  {
   "cell_type": "code",
   "execution_count": 95,
   "metadata": {
    "collapsed": false
   },
   "outputs": [
    {
     "data": {
      "text/plain": [
       "'#FFFF00'"
      ]
     },
     "execution_count": 95,
     "metadata": {},
     "output_type": "execute_result"
    }
   ],
   "source": [
    "dict_example['yellow']"
   ]
  },
  {
   "cell_type": "markdown",
   "metadata": {},
   "source": [
    "You can add new entries to the `dict` very easily:"
   ]
  },
  {
   "cell_type": "code",
   "execution_count": 96,
   "metadata": {
    "collapsed": true
   },
   "outputs": [],
   "source": [
    "dict_example['grey'] = '#888888'"
   ]
  },
  {
   "cell_type": "markdown",
   "metadata": {},
   "source": [
    "So to count the number of musicians by style, we can use a `dict` to organize our counting.\n",
    "\n",
    "1.  Loop over the records.\n",
    "2.  For each record, get the musical style field.\n",
    "3.  If the style is in the `dict`, add one to the count.\n",
    "4.  If the style is *not* in the `dict`, add it (and give it a count of `1`).\n",
    "\n",
    "This is how you see which keys (indices) are in the `dict`:"
   ]
  },
  {
   "cell_type": "code",
   "execution_count": 97,
   "metadata": {
    "collapsed": false
   },
   "outputs": [
    {
     "data": {
      "text/plain": [
       "['green', 'grey', 'red', 'yellow', 'black', 'blue']"
      ]
     },
     "execution_count": 97,
     "metadata": {},
     "output_type": "execute_result"
    }
   ],
   "source": [
    "list(dict_example.keys())"
   ]
  },
  {
   "cell_type": "markdown",
   "metadata": {},
   "source": [
    "This is how you see if the `dict` has a particular key or not:"
   ]
  },
  {
   "cell_type": "code",
   "execution_count": 98,
   "metadata": {
    "collapsed": false
   },
   "outputs": [
    {
     "data": {
      "text/plain": [
       "True"
      ]
     },
     "execution_count": 98,
     "metadata": {},
     "output_type": "execute_result"
    }
   ],
   "source": [
    "'yellow' in dict_example.keys()"
   ]
  },
  {
   "cell_type": "code",
   "execution_count": 99,
   "metadata": {
    "collapsed": false
   },
   "outputs": [
    {
     "data": {
      "text/plain": [
       "False"
      ]
     },
     "execution_count": 99,
     "metadata": {},
     "output_type": "execute_result"
    }
   ],
   "source": [
    "'teal' in dict_example.keys()"
   ]
  },
  {
   "cell_type": "markdown",
   "metadata": {},
   "source": [
    "-   Now that we've gotten this far with `dict`ionaries, let's revisit the original question:  how many artists are in each musical style?  Compose a function `count_styles` below which accepts a `list` of entries `records`.  `count_styles` should `return` a `dict` containing the musical styles represented and their respective count."
   ]
  },
  {
   "cell_type": "code",
   "execution_count": 115,
   "metadata": {
    "collapsed": true,
    "deletable": false,
    "nbgrader": {
     "checksum": "06a097e2ee11bdc5f649bb43d27ff0e3",
     "grade": false,
     "grade_id": "count_styles",
     "locked": false,
     "solution": true
    }
   },
   "outputs": [],
   "source": [
    "# define your function here\n",
    "def count_styles(records):\n",
    "    styles = {}  # a blank dictionary\n",
    "    for record in records:\n",
    "        sty = record[2]\n",
    "        if sty not in styles:\n",
    "            styles[sty] = 0\n",
    "        if sty in styles:\n",
    "            styles[sty] += 1\n",
    "            \n",
    "    return styles# Loop over the records.\n",
    "        # For each record, get the musical style field.\n",
    "        # If the style is in the dict, add one to the count.\n",
    "        # i.e., styles['old style'] += 1\n",
    "        \n",
    "        # If the style is not in the dict, add it (and give it a count of 1).\n",
    "        # i.e., styles['new style'] = 1\n",
    "        \n",
    "    # Return the resulting dict of styles\n",
    "    pass # you can always delete a `pass` statement, since it does nothing"
   ]
  },
  {
   "cell_type": "code",
   "execution_count": 116,
   "metadata": {
    "collapsed": false
   },
   "outputs": [
    {
     "name": "stdout",
     "output_type": "stream",
     "text": [
      "{'Zydeco': 29}\n"
     ]
    }
   ],
   "source": [
    "zyd = process('./data/zydeco.txt')\n",
    "zydecos = count_styles(zyd)\n",
    "print(zydecos)# test your code here.  You may edit this cell, and you may use the files 'blues.txt', 'swamppop.txt', and 'zydeco.txt',\n",
    "# all of which are located in the 'data/' directory."
   ]
  },
  {
   "cell_type": "code",
   "execution_count": 117,
   "metadata": {
    "collapsed": false,
    "deletable": false,
    "nbgrader": {
     "checksum": "e1fd7b4bdf97743bccdbdebec969952e",
     "grade": true,
     "grade_id": "count_styles-test",
     "locked": true,
     "points": 1,
     "solution": false
    }
   },
   "outputs": [
    {
     "name": "stdout",
     "output_type": "stream",
     "text": [
      "Success!\n"
     ]
    },
    {
     "data": {
      "text/plain": [
       "{'Zydeco': 29}"
      ]
     },
     "execution_count": 117,
     "metadata": {},
     "output_type": "execute_result"
    }
   ],
   "source": [
    "# it should pass this test---do NOT edit this cell\n",
    "zydeco = process('./data/zydeco.txt')\n",
    "zydeco_styles = count_styles(zydeco)\n",
    "assert zydeco_styles['Zydeco'] == 29\n",
    "print('Success!')\n",
    "zydeco_styles"
   ]
  },
  {
   "cell_type": "code",
   "execution_count": 118,
   "metadata": {
    "collapsed": false,
    "deletable": false,
    "nbgrader": {
     "checksum": "09e549236048f80163ef22af49be5002",
     "grade": true,
     "grade_id": "count_styles-test-blues",
     "locked": true,
     "points": 1,
     "solution": false
    }
   },
   "outputs": [
    {
     "name": "stdout",
     "output_type": "stream",
     "text": [
      "Success!\n"
     ]
    },
    {
     "data": {
      "text/plain": [
       "{'Chicago Blues': 148,\n",
       " 'Country Blues': 51,\n",
       " 'Delta Blues': 54,\n",
       " 'Gospel Blues': 19,\n",
       " 'Piano Blues': 31,\n",
       " 'Piedmont Blues': 35,\n",
       " 'Swamp Blues': 20,\n",
       " 'West Coast Blues': 42}"
      ]
     },
     "execution_count": 118,
     "metadata": {},
     "output_type": "execute_result"
    }
   ],
   "source": [
    "# it should pass this test---do NOT edit this cell\n",
    "blues = process('./data/blues.txt')\n",
    "blues_styles = count_styles(blues)\n",
    "assert blues_styles['Gospel Blues'] == 19\n",
    "print('Success!')\n",
    "blues_styles"
   ]
  },
  {
   "cell_type": "markdown",
   "metadata": {},
   "source": [
    "So that tells you *how many times each thing occurs*.  What if you want to know *how many kinds of things there are*?\n",
    "\n",
    "We need to make our list contain only unique elements—that is, remove multiple copies from it.  This is called *uniqifying* the list.\n",
    "\n",
    "To uniqify your list, you can use the following code:"
   ]
  },
  {
   "cell_type": "code",
   "execution_count": 119,
   "metadata": {
    "collapsed": false
   },
   "outputs": [],
   "source": [
    "# a short function to remove repeat elements of a list\n",
    "def uniqify(input_list):\n",
    "    # make an empty dictionary\n",
    "    keys = {}\n",
    "    for e in input_list:\n",
    "        # add a key for each item in the list---duplicate keys will be overwritten\n",
    "        keys[e] = 1\n",
    "    return list(keys.keys())  # return a list of all unique keys"
   ]
  },
  {
   "cell_type": "markdown",
   "metadata": {},
   "source": [
    "As an example, test this function on a simple list:"
   ]
  },
  {
   "cell_type": "code",
   "execution_count": 120,
   "metadata": {
    "collapsed": false
   },
   "outputs": [
    {
     "data": {
      "text/plain": [
       "[1, 2, 3, 4, 5, 7]"
      ]
     },
     "execution_count": 120,
     "metadata": {},
     "output_type": "execute_result"
    }
   ],
   "source": [
    "my_list = [1,2,2,4,3,2,5,7,1,2]\n",
    "uniqify(my_list)"
   ]
  },
  {
   "cell_type": "code",
   "execution_count": 121,
   "metadata": {
    "collapsed": false
   },
   "outputs": [
    {
     "data": {
      "text/plain": [
       "['Abshire',\n",
       " 'Adams',\n",
       " 'Alexander',\n",
       " 'Allison',\n",
       " 'Ammons',\n",
       " 'Anderson',\n",
       " 'Armstrong',\n",
       " 'Arnold',\n",
       " 'Augusta',\n",
       " 'B.',\n",
       " 'Babe',\n",
       " 'Bailey',\n",
       " 'Baker',\n",
       " 'Ball',\n",
       " 'Band',\n",
       " 'Bankhead',\n",
       " 'Banks',\n",
       " 'Barbee',\n",
       " 'Barnes',\n",
       " 'Bates',\n",
       " 'Baty',\n",
       " 'Becker',\n",
       " 'Belfour',\n",
       " 'Bell',\n",
       " 'Belly',\n",
       " 'Benoit',\n",
       " 'Benton',\n",
       " 'Billy',\n",
       " 'Blackwell',\n",
       " 'Blake',\n",
       " 'Bloomfield',\n",
       " 'Blue',\n",
       " 'Bob',\n",
       " 'Bogan',\n",
       " 'Bonds',\n",
       " 'Bonner',\n",
       " 'Booker',\n",
       " 'Boyd',\n",
       " 'Bracey',\n",
       " 'Bradley',\n",
       " 'Branch',\n",
       " 'Brim',\n",
       " 'Brooks',\n",
       " 'Broonzy',\n",
       " 'Brown',\n",
       " 'Brozman',\n",
       " 'Buford',\n",
       " 'Burnside',\n",
       " 'Burton',\n",
       " 'Butler',\n",
       " 'Butterfield',\n",
       " 'Campbell',\n",
       " 'Carr',\n",
       " 'Carroll',\n",
       " 'Carter',\n",
       " 'Caston',\n",
       " 'Cephas',\n",
       " 'Charles',\n",
       " 'Charlie',\n",
       " 'Chuck',\n",
       " 'Clark',\n",
       " 'Clarke',\n",
       " 'Clayton',\n",
       " 'Clearwater',\n",
       " 'Coleman',\n",
       " 'Collette',\n",
       " 'Collins',\n",
       " 'Cotten',\n",
       " 'Cotton',\n",
       " 'Council',\n",
       " 'Cox',\n",
       " 'Crayton',\n",
       " 'Crudup',\n",
       " 'Crutchfield',\n",
       " 'Davenport',\n",
       " 'Davis',\n",
       " 'Dawkins',\n",
       " 'DeSanto',\n",
       " 'Diddley',\n",
       " 'Dixon',\n",
       " 'Dizz',\n",
       " 'Domino',\n",
       " 'Dorsey',\n",
       " 'Doyle',\n",
       " 'Drummer',\n",
       " 'Duncan',\n",
       " 'Dupree',\n",
       " 'Edwards',\n",
       " 'Estes',\n",
       " 'Flynn',\n",
       " 'Foster',\n",
       " 'Freund',\n",
       " 'Fuller',\n",
       " 'Fulson',\n",
       " 'Gable',\n",
       " 'Gant',\n",
       " 'Garland',\n",
       " 'Garner',\n",
       " 'Gibson',\n",
       " 'Gillum',\n",
       " 'Glenn',\n",
       " 'Goose',\n",
       " 'Grant',\n",
       " 'Gravenites',\n",
       " 'Graves',\n",
       " 'Gray',\n",
       " 'Guy',\n",
       " 'Hall',\n",
       " 'Harpo',\n",
       " 'Harris',\n",
       " 'Hart',\n",
       " 'Hawkins',\n",
       " 'Heartsman',\n",
       " 'Heat',\n",
       " 'Hemphill',\n",
       " 'Henderson',\n",
       " 'Hill',\n",
       " 'Hinds',\n",
       " 'Hogan',\n",
       " 'Holeman',\n",
       " 'Hooker',\n",
       " 'Hopkins',\n",
       " 'Horton',\n",
       " 'House',\n",
       " 'Hovington',\n",
       " 'Howell',\n",
       " 'Hunter',\n",
       " 'Hurt',\n",
       " 'Hutto',\n",
       " 'Jackson',\n",
       " 'James',\n",
       " 'Jefferson',\n",
       " 'John',\n",
       " 'Johnson',\n",
       " 'Johnston',\n",
       " 'Jones',\n",
       " 'Jordan',\n",
       " 'Kaiser',\n",
       " 'Kalb',\n",
       " 'Kight',\n",
       " 'Kimbrough',\n",
       " 'King',\n",
       " 'Kinsey',\n",
       " 'Koda',\n",
       " 'Laury',\n",
       " 'Lawhorn',\n",
       " 'Lay',\n",
       " 'Leake',\n",
       " 'Lee',\n",
       " 'Lenoir',\n",
       " 'Lester',\n",
       " 'Lewis',\n",
       " 'Lincoln',\n",
       " 'Linkchain',\n",
       " 'Littlefield',\n",
       " 'Littlejohn',\n",
       " 'Llorens',\n",
       " 'Lockwood',\n",
       " 'Longhair',\n",
       " 'Love',\n",
       " 'Lowery',\n",
       " 'Mabon',\n",
       " 'Malone',\n",
       " 'Mance',\n",
       " 'Mandeville',\n",
       " 'Mansfield',\n",
       " 'Mapp',\n",
       " 'Martin',\n",
       " 'Maxwell',\n",
       " 'Mayfield',\n",
       " 'McCain',\n",
       " 'McClennan',\n",
       " 'McCoy',\n",
       " 'McCracklin',\n",
       " 'McDowell',\n",
       " 'McGhee',\n",
       " 'McKinley',\n",
       " 'McNeely',\n",
       " 'McShann',\n",
       " 'McTell',\n",
       " 'Merriweather',\n",
       " 'Milburn',\n",
       " 'Miller',\n",
       " 'Milton',\n",
       " 'Minnie',\n",
       " 'Montgomery',\n",
       " 'Moore',\n",
       " 'Morgan',\n",
       " 'Morris',\n",
       " 'Moss',\n",
       " 'Mullican',\n",
       " 'Murphy',\n",
       " 'Musselwhite',\n",
       " 'Neal',\n",
       " 'Nelson',\n",
       " 'Nighthawk',\n",
       " 'Nixon',\n",
       " 'Odom',\n",
       " 'Otis',\n",
       " 'Owens',\n",
       " 'Parr',\n",
       " 'Patton',\n",
       " 'Payne',\n",
       " 'Payton',\n",
       " 'Perkins',\n",
       " 'Phillips',\n",
       " 'Piazza',\n",
       " 'Pickens',\n",
       " 'Pryor',\n",
       " 'Pullum',\n",
       " 'Rachell',\n",
       " 'Red',\n",
       " 'Reed',\n",
       " 'Rhodes',\n",
       " 'Rice',\n",
       " 'Robinson',\n",
       " 'Rogers',\n",
       " 'Roland',\n",
       " 'Rose',\n",
       " 'Ross',\n",
       " 'Roulette',\n",
       " 'Rush',\n",
       " 'Sadler',\n",
       " 'Sam',\n",
       " 'Sammon',\n",
       " 'Sane',\n",
       " 'Saydak',\n",
       " 'Scruggs',\n",
       " 'Seals',\n",
       " 'Seward',\n",
       " 'Shaw',\n",
       " 'Sheiks',\n",
       " 'Shines',\n",
       " 'Short',\n",
       " 'Sidney',\n",
       " 'Simmons',\n",
       " 'Sims',\n",
       " 'Slim',\n",
       " 'Small',\n",
       " 'Smith',\n",
       " 'Smothers',\n",
       " 'Spann',\n",
       " 'Specter',\n",
       " 'Spires',\n",
       " 'Spivey',\n",
       " 'Spruell',\n",
       " 'Stackhouse',\n",
       " 'Stidham',\n",
       " 'Stokes',\n",
       " 'Stroger',\n",
       " 'Sumlin',\n",
       " 'Sundown',\n",
       " 'Sykes',\n",
       " 'Taggart',\n",
       " 'Tate',\n",
       " 'Taylor',\n",
       " 'Temple',\n",
       " 'Terry',\n",
       " 'Tharpe',\n",
       " 'Thomas',\n",
       " 'Thornton',\n",
       " 'Townsend',\n",
       " 'Tucker',\n",
       " 'Turner',\n",
       " 'Vinson',\n",
       " 'Walker',\n",
       " 'Wallace',\n",
       " 'Walter',\n",
       " 'Waters',\n",
       " 'Watson',\n",
       " 'Wayne',\n",
       " 'Weaver',\n",
       " 'Webb',\n",
       " 'Webster',\n",
       " 'Wellington',\n",
       " 'Wells',\n",
       " 'Wheatstraw',\n",
       " 'Wheeler',\n",
       " 'White',\n",
       " 'Wiggins',\n",
       " 'Wiley',\n",
       " 'Williams',\n",
       " 'Williamson',\n",
       " 'Willis',\n",
       " 'Wilson',\n",
       " 'Wolf',\n",
       " 'Woods',\n",
       " 'Wrencher',\n",
       " 'Yancey',\n",
       " 'Young',\n",
       " 'Zingg']"
      ]
     },
     "execution_count": 121,
     "metadata": {},
     "output_type": "execute_result"
    }
   ],
   "source": [
    "surnames = []\n",
    "for musician in blues:\n",
    "   surnames.append(musician[0])\n",
    "\n",
    "unique_surnames = uniqify(surnames)\n",
    "unique_surnames.sort()\n",
    "unique_surnames"
   ]
  },
  {
   "cell_type": "markdown",
   "metadata": {},
   "source": [
    "-   Now, use this ability to `uniqify` a list to determine how many different surnames there are.\n",
    "    \n",
    "    Compose a function `unique_surname_list` which accepts a `list` `records` containing the tuple entries.  `unique_surname_list` will `return` a `list` of unique surnames."
   ]
  },
  {
   "cell_type": "code",
   "execution_count": 125,
   "metadata": {
    "collapsed": true,
    "deletable": false,
    "nbgrader": {
     "checksum": "2722b39ea115ce172a31392d6bfdf60c",
     "grade": false,
     "grade_id": "surname_list",
     "locked": false,
     "solution": true
    }
   },
   "outputs": [],
   "source": [
    "# define your function here\n",
    "def unique_surname_list(records):\n",
    "    surp = []\n",
    "    for record in records:\n",
    "        surp.append(record[0])\n",
    "    unique_surp = uniqify(surp)\n",
    "    unique_surp.sort()\n",
    "    return unique_surp# your code here\n",
    "    \n",
    "    # Return the resulting list of surnames\n",
    "    pass # you can always delete a `pass` statement, since it does nothing"
   ]
  },
  {
   "cell_type": "code",
   "execution_count": 126,
   "metadata": {
    "collapsed": true
   },
   "outputs": [],
   "source": [
    "# test your code here.  You may edit this cell, and you may use the files 'blues.txt', 'swamppop.txt', and 'zydeco.txt',\n",
    "# all of which are located in the 'data/' directory."
   ]
  },
  {
   "cell_type": "code",
   "execution_count": 127,
   "metadata": {
    "collapsed": false,
    "deletable": false,
    "nbgrader": {
     "checksum": "3a2aab186b387d72f58704134becd79b",
     "grade": true,
     "grade_id": "surname_list-test",
     "locked": true,
     "points": 1,
     "solution": false
    }
   },
   "outputs": [
    {
     "name": "stdout",
     "output_type": "stream",
     "text": [
      "Success!\n"
     ]
    }
   ],
   "source": [
    "# it should pass this test---do NOT edit this cell\n",
    "zydeco = process('./data/zydeco.txt')\n",
    "zydeco_surnames = unique_surname_list(zydeco)\n",
    "assert len(zydeco_surnames) == 24\n",
    "print('Success!')"
   ]
  },
  {
   "cell_type": "markdown",
   "metadata": {},
   "source": [
    "#### Tokenizing"
   ]
  },
  {
   "cell_type": "markdown",
   "metadata": {},
   "source": [
    "To *tokenize* is to split a string into pieces (or *tokens*) by some rule.  For instance, you've done this with `split` before:"
   ]
  },
  {
   "cell_type": "code",
   "execution_count": 128,
   "metadata": {
    "collapsed": false
   },
   "outputs": [
    {
     "data": {
      "text/plain": [
       "['The', 'Well', 'at', 'the', \"World's\", 'End']"
      ]
     },
     "execution_count": 128,
     "metadata": {},
     "output_type": "execute_result"
    }
   ],
   "source": [
    "\"The Well at the World's End\".split(' ')"
   ]
  },
  {
   "cell_type": "markdown",
   "metadata": {},
   "source": [
    "We can extract some statistical information about the naming of blues artists by tokenizing all components of their first names and then counting how many times each token (or bit) occurs.  For instance, `Blind Lemon Jefferson` became `('Jefferson', 'Blind Lemon', 'Gospel Blues')`; we now wish to tokenize `'Blind Lemon'` into `'Blind'` and `'Lemon'` (since `'Blind'` is a common moniker among Delta Blues performers and their musical descendants)."
   ]
  },
  {
   "cell_type": "markdown",
   "metadata": {},
   "source": [
    "-   How many times does the name element `'Blind'` occur in the file `./data/blues.txt`?\n",
    "    \n",
    "    To find this, you will need to:\n",
    "    \n",
    "    1.  Tokenize all name bits.\n",
    "    2.  Count the number of times each name bit occurs.  This is very similar to the counting of musical styles previously.\n",
    "\n",
    "First, let's get all of the names (first and last) together in one `list`."
   ]
  },
  {
   "cell_type": "code",
   "execution_count": 129,
   "metadata": {
    "collapsed": false
   },
   "outputs": [],
   "source": [
    "blues = process('./data/blues.txt')\n",
    "names = []\n",
    "for musician in blues:\n",
    "    names.append(musician[1])\n",
    "    names.append(musician[0])"
   ]
  },
  {
   "cell_type": "markdown",
   "metadata": {},
   "source": [
    "Next, tokenize each name and add the components to a master `list` of name bits.  Since you are adding a list of strings in each case to the list, you may wish to use the `extend` method instead of the `append` method."
   ]
  },
  {
   "cell_type": "code",
   "execution_count": 130,
   "metadata": {
    "collapsed": false
   },
   "outputs": [
    {
     "data": {
      "text/plain": [
       "[['Cecil'],\n",
       " ['Augusta'],\n",
       " ['Mose'],\n",
       " ['Allison'],\n",
       " ['Tommy'],\n",
       " ['Bankhead'],\n",
       " ['John', 'Henry'],\n",
       " ['Barbee'],\n",
       " ['Kid'],\n",
       " ['Bailey'],\n",
       " ['Robert'],\n",
       " ['Belfour'],\n",
       " ['Charley'],\n",
       " ['Booker'],\n",
       " ['Ishman'],\n",
       " ['Bracey'],\n",
       " ['Willie'],\n",
       " ['Brown'],\n",
       " ['R.', 'L.'],\n",
       " ['Burnside'],\n",
       " ['Sam'],\n",
       " ['Carr'],\n",
       " ['Bo'],\n",
       " ['Carter'],\n",
       " ['James'],\n",
       " ['Cotton'],\n",
       " ['Arthur', '\"Big'],\n",
       " ['Crudup'],\n",
       " ['Delta', 'Blind'],\n",
       " ['Billy'],\n",
       " ['David', 'Honeyboy'],\n",
       " ['Edwards'],\n",
       " ['Jessie', 'Mae'],\n",
       " ['Hemphill'],\n",
       " ['King', 'Solomon'],\n",
       " ['Hill'],\n",
       " ['John', 'Lee'],\n",
       " ['Hooker'],\n",
       " ['Son'],\n",
       " ['House'],\n",
       " ['Howlin'],\n",
       " ['Wolf'],\n",
       " ['Elmore'],\n",
       " ['James'],\n",
       " ['Skip'],\n",
       " ['James'],\n",
       " ['Robert'],\n",
       " ['Johnson'],\n",
       " ['Tommy'],\n",
       " ['Johnson'],\n",
       " ['Junior'],\n",
       " ['Kimbrough'],\n",
       " ['Little', 'Freddie'],\n",
       " ['King'],\n",
       " ['Robert'],\n",
       " ['Lockwood'],\n",
       " ['Willie'],\n",
       " ['Love'],\n",
       " ['Lead'],\n",
       " ['Belly'],\n",
       " ['Tommy'],\n",
       " ['McClennan'],\n",
       " ['Papa', 'Charlie'],\n",
       " ['McCoy'],\n",
       " ['Mississippi', 'Fred'],\n",
       " ['McDowell'],\n",
       " ['Mississippi', 'John'],\n",
       " ['Hurt'],\n",
       " ['Sonny', 'Boy'],\n",
       " ['Nelson'],\n",
       " ['Jack'],\n",
       " ['Owens'],\n",
       " ['Charley'],\n",
       " ['Patton'],\n",
       " ['Pinetop'],\n",
       " ['Perkins'],\n",
       " ['Doctor'],\n",
       " ['Ross'],\n",
       " ['Sonny'],\n",
       " ['Rhodes'],\n",
       " ['Johnny'],\n",
       " ['Shines'],\n",
       " ['J.', 'D.'],\n",
       " ['Short'],\n",
       " ['Henry', '\"Son\"'],\n",
       " ['Sims'],\n",
       " ['Freddie'],\n",
       " ['Spruell'],\n",
       " ['Houston'],\n",
       " ['Stackhouse'],\n",
       " ['Johnny'],\n",
       " ['Temple'],\n",
       " ['James'],\n",
       " ['Thomas'],\n",
       " ['Elvie'],\n",
       " ['Thomas'],\n",
       " ['Muddy'],\n",
       " ['Waters'],\n",
       " ['Geeshie'],\n",
       " ['Wiley'],\n",
       " ['Big', 'Joe'],\n",
       " ['Williams'],\n",
       " ['Sonny', 'Boy'],\n",
       " ['Williamson'],\n",
       " ['Johnny'],\n",
       " ['Woods'],\n",
       " ['Elder', 'Roma'],\n",
       " ['Wilson'],\n",
       " ['Alberta'],\n",
       " ['Adams'],\n",
       " ['Luther'],\n",
       " ['Allison'],\n",
       " ['Linsey'],\n",
       " ['Alexander'],\n",
       " ['Kokomo'],\n",
       " ['Arnold'],\n",
       " ['Bonny'],\n",
       " ['B.'],\n",
       " ['Chico'],\n",
       " ['Banks'],\n",
       " ['L.', 'V.'],\n",
       " ['Banks'],\n",
       " ['George'],\n",
       " ['Barnes'],\n",
       " ['Barrelhouse'],\n",
       " ['Chuck'],\n",
       " ['Lefty'],\n",
       " ['Bates'],\n",
       " ['Carey'],\n",
       " ['Bell'],\n",
       " ['Joe'],\n",
       " ['Becker'],\n",
       " ['Lurrie'],\n",
       " ['Bell'],\n",
       " ['Buster'],\n",
       " ['Benton'],\n",
       " ['Scrapper'],\n",
       " ['Blackwell'],\n",
       " ['Blind'],\n",
       " ['Blake'],\n",
       " ['Mike'],\n",
       " ['Bloomfield'],\n",
       " ['Eddie'],\n",
       " ['Boyd'],\n",
       " ['Billy'],\n",
       " ['Branch'],\n",
       " ['John'],\n",
       " ['Brim'],\n",
       " ['Lonnie'],\n",
       " ['Brooks'],\n",
       " ['Ronnie', 'Baker'],\n",
       " ['Brooks'],\n",
       " ['Big', 'Bill'],\n",
       " ['Broonzy'],\n",
       " ['J.', 'T.'],\n",
       " ['Brown'],\n",
       " ['George', '\"Mojo\"'],\n",
       " ['Buford'],\n",
       " ['Aron'],\n",
       " ['Burton'],\n",
       " ['George', '\"Wild'],\n",
       " ['Butler'],\n",
       " ['Paul'],\n",
       " ['Butterfield'],\n",
       " ['Eddie', 'C.'],\n",
       " ['Campbell'],\n",
       " ['Karen'],\n",
       " ['Carroll'],\n",
       " ['Leonard'],\n",
       " ['Caston'],\n",
       " ['Good', \"Rockin'\"],\n",
       " ['Charles'],\n",
       " ['William'],\n",
       " ['Clarke'],\n",
       " ['Willie'],\n",
       " ['Clayton'],\n",
       " ['Eddy', '\"The'],\n",
       " ['Clearwater'],\n",
       " ['Climax', 'Blues'],\n",
       " ['Band'],\n",
       " ['Michael'],\n",
       " ['Coleman'],\n",
       " ['Albert'],\n",
       " ['Collins'],\n",
       " ['Lester'],\n",
       " ['Davenport'],\n",
       " ['Blind', 'John'],\n",
       " ['Davis'],\n",
       " ['Jimmy'],\n",
       " ['Dawkins'],\n",
       " ['Bo'],\n",
       " ['Diddley'],\n",
       " ['Willie'],\n",
       " ['Dixon'],\n",
       " ['Lefty'],\n",
       " ['Dizz'],\n",
       " ['Johnny'],\n",
       " ['Drummer'],\n",
       " ['Little', 'Arthur'],\n",
       " ['Duncan'],\n",
       " ['Champion', 'Jack'],\n",
       " ['Dupree'],\n",
       " ['Billy'],\n",
       " ['Flynn'],\n",
       " ['Little', 'Willy'],\n",
       " ['Foster'],\n",
       " ['Steve'],\n",
       " ['Freund'],\n",
       " ['\"Baby', 'Face\"'],\n",
       " ['Foster'],\n",
       " ['Lacy'],\n",
       " ['Gibson'],\n",
       " ['Jazz'],\n",
       " ['Gillum'],\n",
       " ['Nick'],\n",
       " ['Gravenites'],\n",
       " ['Buddy'],\n",
       " ['Guy'],\n",
       " ['Phil'],\n",
       " ['Guy'],\n",
       " ['Harmonica'],\n",
       " ['Hinds'],\n",
       " ['Shakey', 'Jake'],\n",
       " ['Harris'],\n",
       " ['Magic'],\n",
       " ['Sam'],\n",
       " ['Homesick'],\n",
       " ['James'],\n",
       " ['Earl'],\n",
       " ['Hooker'],\n",
       " ['Big', 'Walter'],\n",
       " ['Horton'],\n",
       " [\"Howlin'\"],\n",
       " ['Wolf'],\n",
       " ['J.', 'B.'],\n",
       " ['Hutto'],\n",
       " ['Chicago'],\n",
       " ['Slim'],\n",
       " ['Jimmy'],\n",
       " ['Johnson'],\n",
       " ['Luther', '\"Guitar'],\n",
       " ['Johnson'],\n",
       " ['Luther', '\"Snake'],\n",
       " ['Johnson'],\n",
       " ['L.V.'],\n",
       " ['Johnson'],\n",
       " ['Syl'],\n",
       " ['Johnson'],\n",
       " ['Floyd'],\n",
       " ['Jones'],\n",
       " ['Johnny', '\"Yard'],\n",
       " ['Jones'],\n",
       " ['Little', 'Johnny'],\n",
       " ['Jones'],\n",
       " ['Moody'],\n",
       " ['Jones'],\n",
       " ['Danny'],\n",
       " ['Kalb'],\n",
       " ['E.', 'G.'],\n",
       " ['Kight'],\n",
       " ['Eddie'],\n",
       " ['King'],\n",
       " ['Big', 'Daddy'],\n",
       " ['Kinsey'],\n",
       " ['Donald'],\n",
       " ['Kinsey'],\n",
       " ['Cub'],\n",
       " ['Koda'],\n",
       " ['Sam'],\n",
       " ['Lay'],\n",
       " ['Sammy'],\n",
       " ['Lawhorn'],\n",
       " ['Bonnie'],\n",
       " ['Lee'],\n",
       " ['J.', 'B.'],\n",
       " ['Lenoir'],\n",
       " ['Hip'],\n",
       " ['Linkchain'],\n",
       " ['Little'],\n",
       " ['Charlie'],\n",
       " ['John'],\n",
       " ['Littlejohn'],\n",
       " ['Tony'],\n",
       " ['Llorens'],\n",
       " ['Willie'],\n",
       " ['Mabon'],\n",
       " ['Holle', 'Thee'],\n",
       " ['Maxwell'],\n",
       " ['L.', 'C.'],\n",
       " ['McKinley'],\n",
       " ['Liz'],\n",
       " ['Mandeville'],\n",
       " ['Big', 'Maceo'],\n",
       " ['Merriweather'],\n",
       " ['Mississippi'],\n",
       " ['Heat'],\n",
       " ['Little', 'Brother'],\n",
       " ['Montgomery'],\n",
       " ['Johnny', 'B.'],\n",
       " ['Moore'],\n",
       " ['Nick'],\n",
       " ['Moss'],\n",
       " ['Matt', '\"Guitar\"'],\n",
       " ['Murphy'],\n",
       " ['Charlie'],\n",
       " ['Musselwhite'],\n",
       " ['Robert'],\n",
       " ['Nighthawk'],\n",
       " ['Andrew'],\n",
       " ['Odom'],\n",
       " ['Odie'],\n",
       " ['Payne'],\n",
       " ['Dion'],\n",
       " ['Payton'],\n",
       " ['Brewer'],\n",
       " ['Phillips'],\n",
       " ['Snooky'],\n",
       " ['Pryor'],\n",
       " ['A.', 'C.'],\n",
       " ['Reed'],\n",
       " ['Jimmy'],\n",
       " ['Reed'],\n",
       " ['Tampa'],\n",
       " ['Red'],\n",
       " ['Louisiana'],\n",
       " ['Red'],\n",
       " ['Fenton'],\n",
       " ['Robinson'],\n",
       " ['Jimmy'],\n",
       " ['Rogers'],\n",
       " ['Freddie'],\n",
       " ['Roulette'],\n",
       " ['Otis'],\n",
       " ['Rush'],\n",
       " ['Marty'],\n",
       " ['Sammon'],\n",
       " ['Ken'],\n",
       " ['Saydak'],\n",
       " ['Son'],\n",
       " ['Seals'],\n",
       " ['Eddie'],\n",
       " ['Shaw'],\n",
       " ['Little', 'Mack'],\n",
       " ['Simmons'],\n",
       " ['Sunnyland'],\n",
       " ['Slim'],\n",
       " [\"Barkin'\", 'Bill'],\n",
       " ['Smith'],\n",
       " ['Byther'],\n",
       " ['Smith'],\n",
       " ['Little', 'Smokey'],\n",
       " ['Smothers'],\n",
       " ['Otis', '\"Big'],\n",
       " ['Smothers'],\n",
       " ['Otis'],\n",
       " ['Spann'],\n",
       " ['Dave'],\n",
       " ['Specter'],\n",
       " ['Arthur', '\"Big'],\n",
       " ['Spires'],\n",
       " ['Arbee'],\n",
       " ['Stidham'],\n",
       " ['Bob'],\n",
       " ['Stroger'],\n",
       " ['Studebaker'],\n",
       " ['John'],\n",
       " ['Sugar'],\n",
       " ['Blue'],\n",
       " ['Hubert'],\n",
       " ['Sumlin'],\n",
       " ['Eddie'],\n",
       " ['Taylor'],\n",
       " ['Hound', 'Dog'],\n",
       " ['Taylor'],\n",
       " ['Koko'],\n",
       " ['Taylor'],\n",
       " ['Melvin'],\n",
       " ['Taylor'],\n",
       " ['Johnny', '\"Big'],\n",
       " ['Walker'],\n",
       " ['Little'],\n",
       " ['Walter'],\n",
       " ['Washboard'],\n",
       " ['Sam'],\n",
       " ['Valerie'],\n",
       " ['Wellington'],\n",
       " ['Junior'],\n",
       " ['Wells'],\n",
       " ['Golden', '\"Big\"'],\n",
       " ['Wheeler'],\n",
       " [\"Lil'\", 'Ed'],\n",
       " ['Williams'],\n",
       " ['Johnny'],\n",
       " ['Williams'],\n",
       " ['Big', 'John'],\n",
       " ['Wrencher'],\n",
       " ['Jimmy'],\n",
       " ['Yancey'],\n",
       " ['Johnny', '\"Man\"'],\n",
       " ['Young'],\n",
       " ['Mighty', 'Joe'],\n",
       " ['Young'],\n",
       " ['Zora'],\n",
       " ['Young'],\n",
       " ['Pink'],\n",
       " ['Anderson'],\n",
       " ['Memphis', 'Willie'],\n",
       " ['B.'],\n",
       " ['Etta'],\n",
       " ['Baker'],\n",
       " ['Ed'],\n",
       " ['Bell'],\n",
       " ['Gabriel'],\n",
       " ['Brown'],\n",
       " ['Barbecue'],\n",
       " ['Bob'],\n",
       " ['Carolina'],\n",
       " ['Slim'],\n",
       " ['John'],\n",
       " ['Cephas'],\n",
       " ['Phil'],\n",
       " ['Wiggins'],\n",
       " ['Cortelia'],\n",
       " ['Clark'],\n",
       " ['Jaybird'],\n",
       " ['Coleman'],\n",
       " ['Elizabeth'],\n",
       " ['Cotten'],\n",
       " ['Floyd'],\n",
       " ['Council'],\n",
       " ['Reverend', 'Gary'],\n",
       " ['Davis'],\n",
       " ['Archie'],\n",
       " ['Edwards'],\n",
       " ['Blind', 'Boy'],\n",
       " ['Fuller'],\n",
       " ['John', 'Dee'],\n",
       " ['Holeman'],\n",
       " ['Frank'],\n",
       " ['Hovington'],\n",
       " ['Peg', 'Leg'],\n",
       " ['Howell'],\n",
       " ['Bo', 'Weavil'],\n",
       " ['Jackson'],\n",
       " ['John'],\n",
       " ['Jackson'],\n",
       " ['Luke'],\n",
       " ['Jordan'],\n",
       " ['Charley'],\n",
       " ['Lincoln'],\n",
       " ['Carl'],\n",
       " ['Martin'],\n",
       " ['Sara'],\n",
       " ['Martin'],\n",
       " ['Brownie'],\n",
       " ['McGhee'],\n",
       " ['William'],\n",
       " ['Moore'],\n",
       " ['Buddy'],\n",
       " ['Moss'],\n",
       " ['Blind', 'Willie'],\n",
       " ['McTell'],\n",
       " ['Charlie'],\n",
       " ['Parr'],\n",
       " ['Drink'],\n",
       " ['Small'],\n",
       " ['Sonny'],\n",
       " ['Terry'],\n",
       " ['Curley'],\n",
       " ['Weaver'],\n",
       " ['Josh'],\n",
       " ['White'],\n",
       " ['Ralph'],\n",
       " ['Willis'],\n",
       " ['Alger', '\"Texas\"'],\n",
       " ['Alexander'],\n",
       " ['Howard', '\"Louie'],\n",
       " ['Armstrong'],\n",
       " ['DeFord'],\n",
       " ['Bailey'],\n",
       " ['Barbecue'],\n",
       " ['Bob'],\n",
       " ['Lucille'],\n",
       " ['Bogan'],\n",
       " ['Son'],\n",
       " ['Bonds'],\n",
       " ['Ishmon'],\n",
       " ['Bracey'],\n",
       " ['Bob'],\n",
       " ['Brozman'],\n",
       " ['Bumble', 'Bee'],\n",
       " ['Slim'],\n",
       " ['Ida'],\n",
       " ['Cox'],\n",
       " ['James'],\n",
       " ['Crutchfield'],\n",
       " ['Little', 'Buddy'],\n",
       " ['Doyle'],\n",
       " ['Sleepy', 'John'],\n",
       " ['Estes'],\n",
       " ['Jesse'],\n",
       " ['Fuller'],\n",
       " ['Terry'],\n",
       " ['Garland'],\n",
       " ['Coot'],\n",
       " ['Grant'],\n",
       " ['Ramon'],\n",
       " ['Goose'],\n",
       " ['Hattie'],\n",
       " ['Hart'],\n",
       " [\"Lightnin'\"],\n",
       " ['Hopkins'],\n",
       " ['Melvin', '\"Lil\\''],\n",
       " ['Jackson'],\n",
       " ['Papa', 'Charlie'],\n",
       " ['Jackson'],\n",
       " ['Lonnie'],\n",
       " ['Johnson'],\n",
       " ['Richard'],\n",
       " ['Johnston'],\n",
       " ['Tutu'],\n",
       " ['Jones'],\n",
       " ['Lottie'],\n",
       " ['Kimbrough'],\n",
       " ['Furry'],\n",
       " ['Lewis'],\n",
       " ['Noah'],\n",
       " ['Lewis'],\n",
       " ['Eddie'],\n",
       " ['Mapp'],\n",
       " ['Memphis', 'Jug'],\n",
       " ['Band'],\n",
       " ['Mississippi'],\n",
       " ['Sheiks'],\n",
       " ['Memphis'],\n",
       " ['Minnie'],\n",
       " ['Thomas'],\n",
       " ['Morris'],\n",
       " ['Hammie'],\n",
       " ['Nixon'],\n",
       " ['Charley'],\n",
       " ['Patton'],\n",
       " ['Peg', 'Leg'],\n",
       " ['Sam'],\n",
       " ['Yank'],\n",
       " ['Rachell'],\n",
       " ['Walter'],\n",
       " ['Roland'],\n",
       " ['Dan'],\n",
       " ['Sane'],\n",
       " ['Irene'],\n",
       " ['Scruggs'],\n",
       " ['Alec'],\n",
       " ['Seward'],\n",
       " ['Frankie', 'Lee'],\n",
       " ['Sims'],\n",
       " ['Laura'],\n",
       " ['Smith'],\n",
       " ['Victoria'],\n",
       " ['Spivey'],\n",
       " ['Frank'],\n",
       " ['Stokes'],\n",
       " ['Baby'],\n",
       " ['Tate'],\n",
       " [\"Ramblin'\"],\n",
       " ['Thomas'],\n",
       " ['Bessie'],\n",
       " ['Tucker'],\n",
       " ['Sippie'],\n",
       " ['Wallace'],\n",
       " ['Boogie', 'Bill'],\n",
       " ['Webb'],\n",
       " ['Peetie'],\n",
       " ['Wheatstraw'],\n",
       " ['Wesley'],\n",
       " ['Wilson'],\n",
       " ['Clarence'],\n",
       " ['Edwards'],\n",
       " ['Guitar'],\n",
       " ['Gable'],\n",
       " ['Jerry', '\"Boogie\"'],\n",
       " ['McCain'],\n",
       " ['Katie'],\n",
       " ['Webster'],\n",
       " ['Kenny'],\n",
       " ['Neal'],\n",
       " ['Larry'],\n",
       " ['Garner'],\n",
       " ['Lazy'],\n",
       " ['Lester'],\n",
       " [\"Lightnin'\"],\n",
       " ['Slim'],\n",
       " ['Lonesome'],\n",
       " ['Sundown'],\n",
       " ['Marcia'],\n",
       " ['Ball'],\n",
       " ['Moses', '\"Whispering\"'],\n",
       " ['Smith'],\n",
       " ['Nathan'],\n",
       " ['Abshire'],\n",
       " ['Raful'],\n",
       " ['Neal'],\n",
       " [\"Rockin'\"],\n",
       " ['Sidney'],\n",
       " ['Silas'],\n",
       " ['Hogan'],\n",
       " ['Slim'],\n",
       " ['Harpo'],\n",
       " ['Smoky'],\n",
       " ['Babe'],\n",
       " ['Tab'],\n",
       " ['Benoit'],\n",
       " ['Tabby'],\n",
       " ['Thomas'],\n",
       " ['Tony', 'Joe'],\n",
       " ['White'],\n",
       " ['Danny'],\n",
       " ['Brooks'],\n",
       " ['Thomas', 'A.'],\n",
       " ['Dorsey'],\n",
       " ['Blind', 'Roosevelt'],\n",
       " ['Graves'],\n",
       " ['Vera'],\n",
       " ['Hall'],\n",
       " ['Blind', 'Lemon'],\n",
       " ['Jefferson'],\n",
       " ['Blind', 'Willie'],\n",
       " ['Johnson'],\n",
       " ['Glenn'],\n",
       " ['Kaiser'],\n",
       " ['Booker', 'T.'],\n",
       " ['Laury'],\n",
       " ['Darrell'],\n",
       " ['Mansfield'],\n",
       " ['Sister', 'Gertrude'],\n",
       " ['Morgan'],\n",
       " ['Charlie'],\n",
       " ['Patton'],\n",
       " ['Washington'],\n",
       " ['Phillips'],\n",
       " ['D.', 'C.'],\n",
       " ['Rice'],\n",
       " ['Robert'],\n",
       " ['Bradley'],\n",
       " ['Eugene'],\n",
       " ['Smith'],\n",
       " ['Blind', 'Joe'],\n",
       " ['Taggart'],\n",
       " ['Sister', 'Rosetta'],\n",
       " ['Tharpe'],\n",
       " ['Bukka'],\n",
       " ['White'],\n",
       " ['Six', 'Cylinder'],\n",
       " ['Smith'],\n",
       " ['Dave'],\n",
       " ['Alexander'],\n",
       " ['Charlie'],\n",
       " ['Baty'],\n",
       " ['Freddie'],\n",
       " ['Brooks'],\n",
       " ['Juke', 'Boy'],\n",
       " ['Bonner'],\n",
       " ['Charles'],\n",
       " ['Brown'],\n",
       " ['Roy'],\n",
       " ['Brown'],\n",
       " ['Buddy'],\n",
       " ['Collette'],\n",
       " ['Pee', 'Wee'],\n",
       " ['Crayton'],\n",
       " ['Sugar', 'Pie'],\n",
       " ['DeSanto'],\n",
       " ['Floyd'],\n",
       " ['Dixon'],\n",
       " ['Johnny'],\n",
       " ['Fuller'],\n",
       " ['Lowell'],\n",
       " ['Fulson'],\n",
       " ['Cecil'],\n",
       " ['Gant'],\n",
       " ['Lloyd'],\n",
       " ['Glenn'],\n",
       " ['Peppermint'],\n",
       " ['Harris'],\n",
       " ['Roy'],\n",
       " ['Hawkins'],\n",
       " ['Johnny'],\n",
       " ['Heartsman'],\n",
       " ['Duke'],\n",
       " ['Henderson'],\n",
       " ['Ivory', 'Joe'],\n",
       " ['Hunter'],\n",
       " ['Etta'],\n",
       " ['James'],\n",
       " ['Little', 'Willie'],\n",
       " ['Littlefield'],\n",
       " ['Robert'],\n",
       " ['Lowery'],\n",
       " ['J.', 'J.'],\n",
       " ['Malone'],\n",
       " ['Percy'],\n",
       " ['Mayfield'],\n",
       " ['Jimmy'],\n",
       " ['McCracklin'],\n",
       " ['Big', 'Jay'],\n",
       " ['McNeely'],\n",
       " ['Roy'],\n",
       " ['Milton'],\n",
       " ['Jimmy'],\n",
       " ['Nelson'],\n",
       " ['Johnny'],\n",
       " ['Otis'],\n",
       " ['Rod'],\n",
       " ['Piazza'],\n",
       " ['L.', 'C.'],\n",
       " ['Robinson'],\n",
       " ['Haskell', 'Robert'],\n",
       " ['Sadler'],\n",
       " ['George', '\"Harmonica\"'],\n",
       " ['Smith'],\n",
       " ['Lafayette'],\n",
       " ['Thomas'],\n",
       " ['Big', 'Mama'],\n",
       " ['Thornton'],\n",
       " ['Luther'],\n",
       " ['Tucker'],\n",
       " ['Big', 'Joe'],\n",
       " ['Turner'],\n",
       " ['Eddie'],\n",
       " ['Vinson'],\n",
       " ['Joe', 'Louis'],\n",
       " ['Walker'],\n",
       " ['T-Bone'],\n",
       " ['Walker'],\n",
       " ['Junior'],\n",
       " ['Watson'],\n",
       " ['Johnny', '\"Guitar\"'],\n",
       " ['Watson'],\n",
       " ['Albert'],\n",
       " ['Ammons'],\n",
       " ['Leroy'],\n",
       " ['Carr'],\n",
       " ['Ray'],\n",
       " ['Charles'],\n",
       " ['Charles', '\"Cow'],\n",
       " ['Davenport'],\n",
       " ['Fats'],\n",
       " ['Domino'],\n",
       " ['Dr.'],\n",
       " ['John'],\n",
       " ['Henry'],\n",
       " ['Gray'],\n",
       " ['Lafayette'],\n",
       " ['Leake'],\n",
       " ['Meade', '\"Lux\"'],\n",
       " ['Lewis'],\n",
       " ['Professor'],\n",
       " ['Longhair'],\n",
       " ['Junior'],\n",
       " ['Mance'],\n",
       " ['Jay'],\n",
       " ['McShann'],\n",
       " ['Amos'],\n",
       " ['Milburn'],\n",
       " ['Buster'],\n",
       " ['Pickens'],\n",
       " ['Boogie', 'Woogie'],\n",
       " ['Red'],\n",
       " ['Memphis'],\n",
       " ['Slim'],\n",
       " ['Pinetop'],\n",
       " ['Smith'],\n",
       " ['Willie', '\"The'],\n",
       " ['Smith'],\n",
       " ['Roosevelt'],\n",
       " ['Sykes'],\n",
       " ['Henry'],\n",
       " ['Townsend'],\n",
       " ['Mose'],\n",
       " ['Vinson'],\n",
       " ['Kenny', '\"Blues'],\n",
       " ['Wayne'],\n",
       " ['Silvan'],\n",
       " ['Zingg'],\n",
       " ['Jerry', 'Lee'],\n",
       " ['Lewis'],\n",
       " ['Moon'],\n",
       " ['Mullican'],\n",
       " ['Merrill'],\n",
       " ['Moore'],\n",
       " ['Joe'],\n",
       " ['Pullum'],\n",
       " ['Piano'],\n",
       " ['Red'],\n",
       " ['Speckled'],\n",
       " ['Red'],\n",
       " ['Chuck'],\n",
       " ['Miller'],\n",
       " ['Bayless'],\n",
       " ['Rose']]"
      ]
     },
     "execution_count": 130,
     "metadata": {},
     "output_type": "execute_result"
    }
   ],
   "source": [
    "name_bits = []\n",
    "for n in names:\n",
    "    token = n.split()\n",
    "    name_bits.append(token[0:2])# loop over names\n",
    "# tokenize each name into name tokens\n",
    "# DO NOT FORGET THE FIRST NAME AND THE SURNAME ENTRIES\n",
    "# add the name tokens to names\n",
    "\n",
    "name_bits"
   ]
  },
  {
   "cell_type": "code",
   "execution_count": null,
   "metadata": {
    "collapsed": false
   },
   "outputs": [],
   "source": [
    "name_bits = []\n",
    "# loop over blues\n",
    "for name in names:\n",
    "    name_bits.extend(name.split(' '))\n",
    "    \n",
    "# tokenize each name into name tokens\n",
    "# add the name tokens to names\n",
    "name_bits"
   ]
  },
  {
   "cell_type": "markdown",
   "metadata": {},
   "source": [
    "Finally, create a list of the count of each name bit as you did with `count_styles`."
   ]
  },
  {
   "cell_type": "code",
   "execution_count": null,
   "metadata": {
    "collapsed": false
   },
   "outputs": [],
   "source": [
    "name_counts = {}  # a blank dictionary\n",
    "\n",
    "for name_bit in name_bits:\n",
    "    if name_bit in name_counts.keys():\n",
    "        name_counts[name_bit] += 1\n",
    "    else:\n",
    "        name_counts[name_bit] = 1\n",
    "\n",
    "name_counts"
   ]
  },
  {
   "cell_type": "code",
   "execution_count": null,
   "metadata": {
    "collapsed": false
   },
   "outputs": [],
   "source": [
    "# Sort the list and output it from most frequently occurring name bits to least.\n",
    "def value(k):\n",
    "    return name_counts[k]\n",
    "name_count_list = sorted(name_counts, key=value)[::-1]\n",
    "\n",
    "for name in name_count_list:\n",
    "    print(name, name_counts[name])"
   ]
  },
  {
   "cell_type": "markdown",
   "metadata": {},
   "source": [
    "It's now trivial for you to answer the original question of how many `'Blind'`s there are in the `blues.txt` file:"
   ]
  },
  {
   "cell_type": "code",
   "execution_count": null,
   "metadata": {
    "collapsed": false
   },
   "outputs": [],
   "source": [
    "print(name_counts['Blind'])"
   ]
  },
  {
   "cell_type": "code",
   "execution_count": null,
   "metadata": {
    "collapsed": true
   },
   "outputs": [],
   "source": [
    "# clear earlier data so we don't mask the behavior of the function `count_names` below\n",
    "names = None\n",
    "name_bits = None\n",
    "name_count_list = None\n",
    "name_counts = None"
   ]
  },
  {
   "cell_type": "markdown",
   "metadata": {},
   "source": [
    "Go ahead and write this into a function `count_names`, which accepts a `list` `records` containing the tuple entries.  `count_names` will `return` a `dict` containing the number of times each name bit occurs."
   ]
  },
  {
   "cell_type": "code",
   "execution_count": null,
   "metadata": {
    "collapsed": true,
    "deletable": false,
    "nbgrader": {
     "checksum": "2e447e50fb362fa8d2cd9f4c1d007af0",
     "grade": false,
     "grade_id": "count_names",
     "locked": false,
     "solution": true
    }
   },
   "outputs": [],
   "source": [
    "# define your function here\n",
    "def count_names(records):\n",
    "    name_counts = {}  # a blank dictionary\n",
    "    \n",
    "    # loop over names in records\n",
    "        # tokenize each name into name tokens---DO NOT FORGET THE FIRST NAME AND THE SURNAME ENTRIES\n",
    "        # add the name tokens to names\n",
    "    \n",
    "    # create a list of the count of each name bit as you did with count_styles.\n",
    "    \n",
    "    # sort the list from most frequently occurring name bits to least\n",
    "    \n",
    "    # return the resulting dict counting name bits.\n",
    "    pass # you can always delete a `pass` statement, since it does nothing"
   ]
  },
  {
   "cell_type": "code",
   "execution_count": null,
   "metadata": {
    "collapsed": true
   },
   "outputs": [],
   "source": [
    "# test your code here.  You may edit this cell, and you may use the files 'blues.txt', 'swamppop.txt', and 'zydeco.txt',\n",
    "# all of which are located in the 'data/' directory."
   ]
  },
  {
   "cell_type": "code",
   "execution_count": null,
   "metadata": {
    "collapsed": false,
    "deletable": false,
    "nbgrader": {
     "checksum": "ed73b828cbb136f59fbdc1d7d3d9268e",
     "grade": true,
     "grade_id": "count_names-test",
     "locked": true,
     "points": 1,
     "solution": false
    }
   },
   "outputs": [],
   "source": [
    "# it should pass this test---do NOT edit this cell\n",
    "# test number of name elements found\n",
    "blues = process('./data/blues.txt')\n",
    "blues_names = count_names(blues)\n",
    "assert len(list(blues_names.keys())) == 594\n",
    "print('Success!')"
   ]
  },
  {
   "cell_type": "code",
   "execution_count": null,
   "metadata": {
    "collapsed": false,
    "deletable": false,
    "nbgrader": {
     "checksum": "6083d86b005936e245d8d630659e0187",
     "grade": true,
     "grade_id": "count_names-test2",
     "locked": true,
     "points": 1,
     "solution": false
    }
   },
   "outputs": [],
   "source": [
    "# it should pass this test---do NOT edit this cell\n",
    "# test success in counting name elements\n",
    "blues = process('./data/blues.txt')\n",
    "blues_names = count_names(blues)\n",
    "assert blues_names['Wheatstraw'] == 1\n",
    "assert blues_names['Johnny'] == 14\n",
    "print('Success!')"
   ]
  },
  {
   "cell_type": "markdown",
   "metadata": {},
   "source": [
    "# Before you submit..."
   ]
  },
  {
   "cell_type": "markdown",
   "metadata": {},
   "source": [
    "Before you submit this exercise, make sure that everything runs as expected.  You can either use the *Validate* button on the *Assignments* tab or type `nbgrader validate labX` at the command line.  **You should also *save* before submitting.**\n",
    "\n",
    "Make sure that you have filled in any code block which says \"YOUR CODE HERE\" or \"YOUR ANSWER HERE\".\n",
    "\n",
    "List any resources used (beyond the TA or the help files):"
   ]
  },
  {
   "cell_type": "markdown",
   "metadata": {
    "collapsed": true
   },
   "source": []
  },
  {
   "cell_type": "markdown",
   "metadata": {},
   "source": [
    "This laboratory exercise was written by Neal Davis for Computer Science 101 at the University of Illinois.\n",
    "\n",
    "©2015–16 University of Illinois\n",
    "\n",
    "![](./cs101-footer.png)"
   ]
  }
 ],
 "metadata": {
  "kernelspec": {
   "display_name": "Python 3",
   "language": "python",
   "name": "python3"
  },
  "language_info": {
   "codemirror_mode": {
    "name": "ipython",
    "version": 3
   },
   "file_extension": ".py",
   "mimetype": "text/x-python",
   "name": "python",
   "nbconvert_exporter": "python",
   "pygments_lexer": "ipython3",
   "version": "3.4.1"
  }
 },
 "nbformat": 4,
 "nbformat_minor": 0
}
