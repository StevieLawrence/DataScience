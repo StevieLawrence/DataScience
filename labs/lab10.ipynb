{
 "cells": [
  {
   "cell_type": "markdown",
   "metadata": {},
   "source": [
    "# CS 101:  Introduction to Computing for Science and Engineering"
   ]
  },
  {
   "cell_type": "markdown",
   "metadata": {},
   "source": [
    "## `lab10`—Radioactive Decay"
   ]
  },
  {
   "cell_type": "markdown",
   "metadata": {},
   "source": [
    "❖ Objectives\n",
    "\n",
    "-   Utilize NumPy's random number generation to simulate a random system.\n",
    "-   Solve a system involving multiple simultaneous equations."
   ]
  },
  {
   "cell_type": "markdown",
   "metadata": {},
   "source": [
    "<div class=\"alert alert-info\">\n",
    "**30 min.**:  In the first part of this lab, we will model a collection of unstable radioactive nuclei.  This will be a solo project that you'll then discuss as a lab group.\n",
    "</div>\n",
    "\n",
    "<div class=\"alert alert-warning\">\n",
    "**30 min.**:  Next, we will consider a mixed collection of nuclei, some stable, some unstable.  You'll work on this as a team, and one of you will submit the code you've written collaboratively.\n",
    "</div>\n",
    "\n",
    "<div class=\"alert alert-success\">\n",
    "**Rest of lab**:  Finally, we will solve a set of differential equations to see how bulk nuclear populations change over time.  This will be done working on your own.\n",
    "</div>"
   ]
  },
  {
   "cell_type": "code",
   "execution_count": 1,
   "metadata": {
    "collapsed": false
   },
   "outputs": [],
   "source": [
    "# Import basic libraries.\n",
    "import numpy as np\n",
    "import matplotlib as mpl\n",
    "import matplotlib.pyplot as plt\n",
    "%matplotlib inline\n",
    "mpl.rcParams[ 'figure.figsize' ] = (15,2)"
   ]
  },
  {
   "cell_type": "markdown",
   "metadata": {},
   "source": [
    "##  Radioactive Decay [Solo Lab, 30 min.]"
   ]
  },
  {
   "cell_type": "markdown",
   "metadata": {},
   "source": [
    "Consider a collection of unstable radioactive nuclei.  These are expected to decay at a consistent rate $\\lambda \\text{d}t$, which we can integrate to obtain the following expression for the number of nuclei $N$ remaining at a given time, \n",
    "\n",
    "$$\n",
    "N(t) = N_{0} \\exp\\left( -\\lambda t \\right) \\text{.}\n",
    "$$\n",
    "\n",
    "The probability that *any particular atom* decays in a given span of time is, of course, random, and the foregoing treatment applies to the bulk material.\n",
    "\n",
    "First, we'll model a simple system containing $N_{0}$ nuclei of a highly radioactive species.  These will be represented by a one-dimensional array containing $1.0$ for undecayed nuclei and $0.0$ for decayed nuclei.  (Real systems have so many atoms that even a large collection, $O(10^{9})$, may only rarely exhibit decay.) "
   ]
  },
  {
   "cell_type": "markdown",
   "metadata": {},
   "source": [
    "The decay constant is related to the half-life by the formula\n",
    "$$\n",
    "\\lambda = \\frac{\\log(2)}{t_{1/2}}\n",
    "$$\n",
    "where $\\log$ is the natural logarithm.\n",
    "\n",
    "-   Compose a function `l_decay` which returns the value of the decay constant $\\lambda$ given as parameter the half-life $t_{1/2}$."
   ]
  },
  {
   "cell_type": "code",
   "execution_count": 2,
   "metadata": {
    "collapsed": true,
    "deletable": false,
    "nbgrader": {
     "checksum": "81c977ef56f7fa9bd112b5c977a5a23e",
     "grade": false,
     "grade_id": "l_decay",
     "locked": false,
     "solution": true
    }
   },
   "outputs": [],
   "source": [
    "# Compose your function `l_decay` here.\n",
    "from math import log\n",
    "def l_decay(t_half):\n",
    "    return log(2)/t_half"
   ]
  },
  {
   "cell_type": "code",
   "execution_count": 7,
   "metadata": {
    "collapsed": false
   },
   "outputs": [],
   "source": [
    "# You may test your function here if desired.\n"
   ]
  },
  {
   "cell_type": "code",
   "execution_count": 8,
   "metadata": {
    "collapsed": false,
    "deletable": false,
    "nbgrader": {
     "checksum": "41eb4380d3de250f9a42c0d2664ff7dc",
     "grade": true,
     "grade_id": "l_decay-test",
     "locked": true,
     "points": 1,
     "solution": false
    }
   },
   "outputs": [
    {
     "name": "stdout",
     "output_type": "stream",
     "text": [
      "Success!\n"
     ]
    }
   ],
   "source": [
    "# your code should pass these tests---do NOT edit this cell\n",
    "from numpy import isclose\n",
    "assert isclose( l_decay(1.5),np.log(2)/1.5 )\n",
    "print('Success!')"
   ]
  },
  {
   "cell_type": "markdown",
   "metadata": {},
   "source": [
    "-   Define the set of initial parameters.  Include appropriate comments (units, etc.).\n",
    "\n",
    "| Variable | Value  | Purpose |\n",
    "| -------- | ------ | ------- |\n",
    "| `t`      | `1e8`  | half-life |\n",
    "| `l`      | calculated | decay constant; use `l_decay` |\n",
    "| `num`    | `100`  | number of starting nuclei |\n",
    "| `nt`     | `1000` | number of time steps |\n",
    "| `dt`     | `1e-3` | size of time step |\n",
    "| `tmax`   | calculated | duration of simulation |"
   ]
  },
  {
   "cell_type": "code",
   "execution_count": 51,
   "metadata": {
    "collapsed": false,
    "deletable": false,
    "nbgrader": {
     "checksum": "4af3a2aeeee197b544ac21c390bdc5b5",
     "grade": false,
     "grade_id": "params",
     "locked": false,
     "solution": true
    }
   },
   "outputs": [],
   "source": [
    "# Define your system parameters here.\n",
    "t = 1e8 # half-life\n",
    "l = l_decay(t) # decay constant\n",
    "num = 100 # number of starting nuclei\n",
    "nt = 1000 # number of time steps\n",
    "dt = 1e-3 # size of time step\n",
    "tmax = nt * dt # duration of simulation"
   ]
  },
  {
   "cell_type": "code",
   "execution_count": 14,
   "metadata": {
    "collapsed": false,
    "deletable": false,
    "nbgrader": {
     "checksum": "4539fa88464bcc77432a243cbb1e3189",
     "grade": true,
     "grade_id": "params-test",
     "locked": true,
     "points": 1,
     "solution": false
    }
   },
   "outputs": [
    {
     "name": "stdout",
     "output_type": "stream",
     "text": [
      "Success!\n"
     ]
    }
   ],
   "source": [
    "# your code should pass these tests---do NOT edit this cell\n",
    "from numpy import isclose\n",
    "assert type(t)    == float and isclose( t,1e8 )\n",
    "assert type(l)    == float and isclose( l,6.931e-9 )\n",
    "assert type(num)  == int   and num   == 100\n",
    "assert type(nt)   == int   and nt    == 1000\n",
    "assert type(dt)   == float and isclose( dt,1e-3 )\n",
    "assert type(tmax) == float and isclose( tmax,nt*dt )\n",
    "print('Success!')"
   ]
  },
  {
   "cell_type": "markdown",
   "metadata": {},
   "source": [
    "-   Compose a function `decay` which returns an array containing the final composition of the system given parameters `l` (decay constant); `num` (number of atoms); `nt` (number of time steps); `dt` (size of time step).\n",
    "    \n",
    "    This function will need to carry out the following algorithm:\n",
    "    \n",
    "    1.  Create an array containing `1`s of shape `(num,1)` (*i.e.*, a 1D array or vector).  These represent discrete individual atoms.\n",
    "    2.  Loop over the number of time steps (making sure to include the last value!).\n",
    "        3.  Loop over the index of each atom.  For each atom:\n",
    "            4.  If the atom has already decayed (is `0.0`), skip it.\n",
    "            5.  Calculate a random number between 0 and 1 using the `np.random.uniform()` function.\n",
    "            6.  If the value of that random number is less than the decay constant times the time step size, decay occurs and the atom at that index decays (is set to `0.0`).\n",
    "    7.  Return the resulting array."
   ]
  },
  {
   "cell_type": "code",
   "execution_count": 79,
   "metadata": {
    "collapsed": false,
    "deletable": false,
    "nbgrader": {
     "checksum": "3f28a5738c26f3f988fffc38c8c14767",
     "grade": false,
     "grade_id": "decay",
     "locked": false,
     "solution": true
    }
   },
   "outputs": [],
   "source": [
    "# Compose your function `decay` here.\n",
    "def decay(l,num,nt,dt):\n",
    "    atoms = np.ones([num,1])\n",
    "    for n in range(nt+1):\n",
    "        for a in range(len(atoms)):\n",
    "            if atoms[a] == 0.0:\n",
    "                continue\n",
    "            if atoms[a] == 1.0:\n",
    "                x = np.random.uniform()\n",
    "                if x < l * dt: \n",
    "                    atoms[a] = 0.0\n",
    "    return atoms"
   ]
  },
  {
   "cell_type": "code",
   "execution_count": 80,
   "metadata": {
    "collapsed": false
   },
   "outputs": [
    {
     "data": {
      "image/png": "[encoded data removed]",
      "text/plain": [
       "<matplotlib.figure.Figure at 0x7f8fa1a17e80>"
      ]
     },
     "metadata": {},
     "output_type": "display_data"
    }
   ],
   "source": [
    "# This cell plots your results for one set of parameters.  (We discuss the plot in a moment.)\n",
    "N_atoms = decay( 1e1,500,100,1e-3 )\n",
    "plt.imshow( N_atoms.transpose(),interpolation='none',cmap=mpl.cm.Blues,aspect=20 )\n",
    "plt.show()"
   ]
  },
  {
   "cell_type": "code",
   "execution_count": 81,
   "metadata": {
    "collapsed": false,
    "deletable": false,
    "nbgrader": {
     "checksum": "f6f0ed7d16dc6e5cbd60aeb2389e58d2",
     "grade": true,
     "grade_id": "decay-test",
     "locked": true,
     "points": 1,
     "solution": false
    }
   },
   "outputs": [
    {
     "name": "stdout",
     "output_type": "stream",
     "text": [
      "Success!\n"
     ]
    }
   ],
   "source": [
    "# your code should pass these tests---do NOT edit this cell\n",
    "from numpy import isclose\n",
    "N = decay( 1e-1,500,100,1e-3 )\n",
    "assert type(N)    == np.ndarray and N.shape    == (500,1) and sum(N) > 450 and sum(N) <= 500\n",
    "print('Success!')"
   ]
  },
  {
   "cell_type": "markdown",
   "metadata": {},
   "source": [
    "It's hard to see much in the default plot setting, so we made a handful of adjustments in `imshow`:\n",
    "\n",
    "-   `N.transpose()` will *transpose* the array, or flip which axis is horizontal and which is vertical.  This makes the plot go across the screen and gives more room.\n",
    "-   `interpolation='none'` will turn off interpolation, which otherwise makes the boundaries between array squares fuzzy.  This interpolation is desirable on a grid plotting a function, for instance, but when we are plotting discrete values (like the presence or absence of an atom), it's distracting and confusing to include it.\n",
    "-   `cmap = mpl.cm.Blues` will change the default colormap (which values are which colors).  [Many of these are available](http://matplotlib.org/examples/color/colormaps_reference.html).\n",
    "-   `aspect=20` will make the plot long and skinny, but still tall enough to see the atoms (rather like a spectrum).\n",
    "\n",
    "You can play with all of these settings in the cell below while you're waiting for others to finish the lab."
   ]
  },
  {
   "cell_type": "code",
   "execution_count": 82,
   "metadata": {
    "collapsed": false
   },
   "outputs": [
    {
     "data": {
      "image/png": "[encoded data removed]",
      "text/plain": [
       "<matplotlib.figure.Figure at 0x7f8fa1628b70>"
      ]
     },
     "metadata": {},
     "output_type": "display_data"
    }
   ],
   "source": [
    "N = decay( 1e1,500,100,1e-3 )\n",
    "plt.imshow( N.transpose(),interpolation='none',cmap=mpl.cm.Blues,aspect=20 )\n",
    "plt.show()"
   ]
  },
  {
   "cell_type": "markdown",
   "metadata": {},
   "source": [
    "The sum of the resulting matrix represents the number of remaining undecayed atoms:"
   ]
  },
  {
   "cell_type": "code",
   "execution_count": 83,
   "metadata": {
    "collapsed": false
   },
   "outputs": [
    {
     "data": {
      "text/plain": [
       "185.0"
      ]
     },
     "execution_count": 83,
     "metadata": {},
     "output_type": "execute_result"
    }
   ],
   "source": [
    "sum(N)[0]"
   ]
  },
  {
   "cell_type": "markdown",
   "metadata": {},
   "source": [
    "##  Radioactive Decay [Group Lab, 20 min. + 10 min. discussion]"
   ]
  },
  {
   "cell_type": "markdown",
   "metadata": {},
   "source": [
    "Now we'll model a system of three atoms.  The first atom (1) decays into the second atom (2) at a rate $\\lambda_1 \\textrm{d}t$, while the second atom (2) decays into the third atom (3) at a rate $\\lambda_2 \\textrm{d}t$:\n",
    "\n",
    "$$\n",
    "\\textrm{atom}_{1} \\overset{\\lambda_1}{\\rightarrow} \\textrm{atom}_{2} \\overset{\\lambda_2}{\\rightarrow} \\textrm{atom}_{3}\n",
    "$$\n",
    "\n",
    "This code will look fairly similar to your former code, but there are a few key differences.  For instance, let's store the decay constants as a `list` with two entries for atoms 1 and 2 (indices `0` and `1`).  We'll have an array which first consists solely of `1`s, but which transforms into `2`s (which in turn transform into `3`s).\n",
    "\n",
    "-   Compose a function `decay2` which returns an array containing the final composition of the system given parameters `l` (decay constants as a `list`); `num` (number of atoms); `nt` (number of time steps); `dt` (size of time step).\n",
    "    \n",
    "    This function will need to carry out the following algorithm:\n",
    "    \n",
    "    1.  Create an array containing `1`s of length `num` (all atom 1).\n",
    "    2.  Loop over the number of time steps (making sure to include the last value!).\n",
    "        3.  Loop over the index of each atom.  For each atom:\n",
    "            4.  If the atom is 1:\n",
    "                5.  Calculate a random number between 0 and 1 using the `np.random.uniform()` function.\n",
    "                6.  If the value of that random number is less than the appropriate decay constant times the time step size, decay occurs and the atom at that index decays (is set to `2`).\n",
    "            7.  If the atom is 2:\n",
    "                8.  Calculate a random number between 0 and 1 using the `np.random.uniform()` function.\n",
    "                9.  If the value of that random number is less than the appropriate decay constant times the time step size, decay occurs and the atom at that index decays (is set to `3`).\n",
    "            10.  If the atom is 3:\n",
    "                11. Skip this atom.\n",
    "    12. Return the resulting array."
   ]
  },
  {
   "cell_type": "code",
   "execution_count": 102,
   "metadata": {
    "collapsed": false,
    "deletable": false,
    "nbgrader": {
     "checksum": "8cd320eca8e072163fd392f85c324af5",
     "grade": false,
     "grade_id": "decay2",
     "locked": false,
     "solution": true
    }
   },
   "outputs": [],
   "source": [
    "# Compose your function `decay2` here.\n",
    "def decay2(l,num,nt,dt):\n",
    "    atoms = np.ones([num,1])\n",
    "    for n in range(nt+1):\n",
    "        for a in range(len(atoms)):\n",
    "            if atoms[a] == 1:\n",
    "                ran1 = np.random.uniform()\n",
    "                if ran1 < l[0] * dt:\n",
    "                    atoms[a] = 2\n",
    "            elif atoms[a] == 2:\n",
    "                ran2 = np.random.uniform()\n",
    "                if ran2 < l[1] * dt:\n",
    "                    atoms[a] = 3\n",
    "            elif a == 3:\n",
    "                pass\n",
    "    return atoms"
   ]
  },
  {
   "cell_type": "code",
   "execution_count": 103,
   "metadata": {
    "collapsed": false
   },
   "outputs": [
    {
     "data": {
      "image/png": "[encoded data removed]",
      "text/plain": [
       "<matplotlib.figure.Figure at 0x7f8fa1537160>"
      ]
     },
     "metadata": {},
     "output_type": "display_data"
    }
   ],
   "source": [
    "# This cell plots your results for one set of parameters.  (We discuss the plot in a moment.)\n",
    "N_atoms = decay2( [ 1e1,2e1 ],500,100,1e-3 )\n",
    "plt.imshow( N_atoms.transpose(),interpolation='none',cmap=mpl.cm.Blues,aspect=20 )\n",
    "plt.show()"
   ]
  },
  {
   "cell_type": "code",
   "execution_count": 104,
   "metadata": {
    "collapsed": false,
    "deletable": false,
    "nbgrader": {
     "checksum": "ab9971d628af1b45b6a4aae1d7414356",
     "grade": true,
     "grade_id": "decay2-test",
     "locked": true,
     "points": 1,
     "solution": false
    }
   },
   "outputs": [
    {
     "name": "stdout",
     "output_type": "stream",
     "text": [
      "Success!\n"
     ]
    }
   ],
   "source": [
    "# your code should pass these tests---do NOT edit this cell\n",
    "from numpy import isclose\n",
    "N = decay2( [ 1e1,2e1 ],500,100,1e-3 )\n",
    "assert type(N)    == np.ndarray and N.shape    == (500,1) and sum(N) > 900 and sum(N) <= 1100\n",
    "print('Success!')"
   ]
  },
  {
   "cell_type": "markdown",
   "metadata": {},
   "source": [
    "This is a group lab, so you should write down the names and NetIDs of your group in the cell below:"
   ]
  },
  {
   "cell_type": "code",
   "execution_count": null,
   "metadata": {
    "collapsed": true
   },
   "outputs": [],
   "source": [
    "'''\n",
    "write them here\n",
    "'''"
   ]
  },
  {
   "cell_type": "markdown",
   "metadata": {},
   "source": [
    "##  Radioactive Decay [Solo Lab, rest of class]"
   ]
  },
  {
   "cell_type": "markdown",
   "metadata": {},
   "source": [
    "For atomistic systems (meaning composed of collections of atoms at a resolution where we can actively simulate atomic behavior), the above approach can be adequate.  For real-world scenarios, however, we need to simulate far larger quantities than this approach would permit:  thus we use a set of differential equations to describe transition rates between species.\n",
    "\n",
    "For example, the species A, B, C, and D have the following decay-chain relationship:  A $\\overset{\\lambda_{A}}{\\rightarrow}$ B $\\overset{\\lambda_{B}}{\\rightarrow}$ C $\\overset{\\lambda_{C}}{\\rightarrow}$ D, which is stable.\n",
    "\n",
    "$$\n",
    "\\frac{\\textrm{d}N_{A}}{\\textrm{d}t} = -\\lambda_{A} N_{A}\n",
    "\\hspace{2cm}\n",
    "\\frac{\\textrm{d}N_{B}}{\\textrm{d}t} = -\\lambda_{B} N_{B} + \\lambda_{A} N_{A}\n",
    "\\hspace{2cm}\n",
    "\\frac{\\textrm{d}N_{C}}{\\textrm{d}t} = -\\lambda_{C} N_{C} + \\lambda_{B} N_{B}\n",
    "\\hspace{2cm}\n",
    "\\frac{\\textrm{d}N_{D}}{\\textrm{d}t} = \\lambda_{C} N_{C}\n",
    "$$\n",
    "\n",
    "Since these equations can be analytically integrated, we don't have to worry about adopting a finite-difference approach in this case:  we can solve directly for the (rather complicated) relationships:\n",
    "\n",
    "$$\n",
    "N_{A}(t) = N_{0} \\exp(-\\lambda_{A} t) \\\\\n",
    "N_{B}(t) = N_{0} \\frac{\\lambda_{A}}{\\lambda_{B}-\\lambda_{A}} \\left( \\exp(-\\lambda_{A} t) - \\exp(-\\lambda_{B} t) \\right) \\\\\n",
    "N_{C}(t) = N_{0} \\lambda_{A}\\lambda_{B}\n",
    "\\left(\n",
    "    \\frac{ \\exp(-\\lambda_{A} t)}{(\\lambda_{B}-\\lambda_{A})(\\lambda_{C}-\\lambda_{A})} +\n",
    "    \\frac{ \\exp(-\\lambda_{B} t)}{(\\lambda_{A}-\\lambda_{B})(\\lambda_{C}-\\lambda_{B})} +\n",
    "    \\frac{ \\exp(-\\lambda_{C} t)}{(\\lambda_{A}-\\lambda_{C})(\\lambda_{B}-\\lambda_{C})}\n",
    "\\right) \\\\\n",
    "N_{D}(t) = N_{0} \\left[ 1+ \\lambda_{A}\\lambda_{B}\\lambda_{C}\n",
    "\\left(\n",
    "    \\frac{ \\exp(-\\lambda_{A} t)}{(\\lambda_{B}-\\lambda_{A})(\\lambda_{C}-\\lambda_{A})(\\lambda_{D}-\\lambda_{A})} +\n",
    "    \\frac{ \\exp(-\\lambda_{B} t)}{(\\lambda_{A}-\\lambda_{B})(\\lambda_{C}-\\lambda_{B})(\\lambda_{D}-\\lambda_{B})} +\n",
    "    \\frac{ \\exp(-\\lambda_{C} t)}{(\\lambda_{A}-\\lambda_{C})(\\lambda_{B}-\\lambda_{C})(\\lambda_{D}-\\lambda_{C})}\n",
    "\\right) \\right] \\\\\n",
    "$$\n",
    "\n",
    "where $N_0$ is the initial amount of material (all A).  We will take $N_0 = 1$.\n",
    "\n",
    "Your task in this final portion of the lab is to code these equations and simulate the system for an appropriate number of time steps.\n",
    "\n",
    "-   Compose a function `chaindecay` which returns an $N \\times 5$ array given parameters `nt` ($=N$, number of time steps); `dt`, size of a time step; and a `list` `l` containing the four decay constants.  The array should be structured such that the first column contains the time $t$ and the other four columns contain the proportion of each species for that time value.\n",
    "    \n",
    "    We recommend writing constants in your code instead of writing the denominators so many times.  For instance, consider writing\n",
    "    \n",
    "        c_ac = l[0] - l[2]  # l_a - l_c\n",
    "        -l[0]*t/c_ac  # etc."
   ]
  },
  {
   "cell_type": "code",
   "execution_count": 110,
   "metadata": {
    "collapsed": false,
    "deletable": false,
    "nbgrader": {
     "checksum": "c9770ae11c025e3a232890252167ce28",
     "grade": false,
     "grade_id": "chaindecay",
     "locked": false,
     "solution": true
    }
   },
   "outputs": [],
   "source": [
    "# compose your function here\n",
    "def chaindecay(nt,dt,l):\n",
    "    atoms = np.ones([nt,5])\n",
    "    N_o = 1.0\n",
    "    tmax = nt * dt\n",
    "    from math import exp\n",
    "    a = l[0]\n",
    "    b = l[1]\n",
    "    c = l[2]\n",
    "    d = l[3]\n",
    "    b_ba = b - a\n",
    "    c_ca = c - a\n",
    "    d_da = d - a\n",
    "    a_ab = a - b\n",
    "    a_ac = a - c\n",
    "    c_cb = c - b\n",
    "    d_db = d - b\n",
    "    c_ac = a - c\n",
    "    b_bc = b - c\n",
    "    d_dc = d - c\n",
    "    N_a = N_o*exp(-a*t)\n",
    "    N_b = N_o*(a/b_ba)*(exp(-a*t) - exp(-b*t))\n",
    "    N_c = N_o*a*b((exp(-a*t)/(b_ba*c_ca)) + (exp(-b*t)/(a_ab*c_cb)) + (exp(-c*t)/(a_ac*b_bc)))\n",
    "    N_d = N_o*a*b*c((exp(-a*t)/(b_ba*c_ca*d_da)) + (exp(-b*t)/(a_ab*c_cb*d_db)) + (exp(-c*t)/(a_ac*b_bc*d_dc)))"
   ]
  },
  {
   "cell_type": "code",
   "execution_count": 111,
   "metadata": {
    "collapsed": false
   },
   "outputs": [
    {
     "ename": "TypeError",
     "evalue": "'float' object is not callable",
     "output_type": "error",
     "traceback": [
      "\u001b[0;31m---------------------------------------------------------------------------\u001b[0m",
      "\u001b[0;31mTypeError\u001b[0m                                 Traceback (most recent call last)",
      "\u001b[0;32m<ipython-input-111-755bc369e2b4>\u001b[0m in \u001b[0;36m<module>\u001b[0;34m()\u001b[0m\n\u001b[1;32m      1\u001b[0m \u001b[0;31m# test your function here\u001b[0m\u001b[0;34m\u001b[0m\u001b[0;34m\u001b[0m\u001b[0m\n\u001b[0;32m----> 2\u001b[0;31m \u001b[0mdata\u001b[0m \u001b[0;34m=\u001b[0m \u001b[0mchaindecay\u001b[0m\u001b[0;34m(\u001b[0m \u001b[0;36m100\u001b[0m\u001b[0;34m,\u001b[0m\u001b[0;36m0.01\u001b[0m\u001b[0;34m,\u001b[0m\u001b[0;34m[\u001b[0m\u001b[0;36m5e0\u001b[0m\u001b[0;34m,\u001b[0m\u001b[0;36m2e1\u001b[0m\u001b[0;34m,\u001b[0m\u001b[0;36m3e0\u001b[0m\u001b[0;34m,\u001b[0m\u001b[0;36m0\u001b[0m\u001b[0;34m]\u001b[0m \u001b[0;34m)\u001b[0m\u001b[0;34m\u001b[0m\u001b[0m\n\u001b[0m\u001b[1;32m      3\u001b[0m \u001b[0mplt\u001b[0m\u001b[0;34m.\u001b[0m\u001b[0mplot\u001b[0m\u001b[0;34m(\u001b[0m \u001b[0mdata\u001b[0m\u001b[0;34m[\u001b[0m\u001b[0;34m:\u001b[0m\u001b[0;34m,\u001b[0m\u001b[0;36m1\u001b[0m\u001b[0;34m:\u001b[0m\u001b[0;34m]\u001b[0m \u001b[0;34m)\u001b[0m\u001b[0;34m\u001b[0m\u001b[0m\n\u001b[1;32m      4\u001b[0m \u001b[0mplt\u001b[0m\u001b[0;34m.\u001b[0m\u001b[0mylim\u001b[0m\u001b[0;34m(\u001b[0m \u001b[0;34m(\u001b[0m\u001b[0;36m0\u001b[0m\u001b[0;34m,\u001b[0m\u001b[0;36m1\u001b[0m\u001b[0;34m)\u001b[0m \u001b[0;34m)\u001b[0m\u001b[0;34m\u001b[0m\u001b[0m\n\u001b[1;32m      5\u001b[0m \u001b[0mplt\u001b[0m\u001b[0;34m.\u001b[0m\u001b[0mylabel\u001b[0m\u001b[0;34m(\u001b[0m \u001b[0;34m'amount of material'\u001b[0m \u001b[0;34m)\u001b[0m\u001b[0;34m\u001b[0m\u001b[0m\n",
      "\u001b[0;32m<ipython-input-110-62469639be79>\u001b[0m in \u001b[0;36mchaindecay\u001b[0;34m(nt, dt, l)\u001b[0m\n\u001b[1;32m     21\u001b[0m     \u001b[0mN_a\u001b[0m \u001b[0;34m=\u001b[0m \u001b[0mN_o\u001b[0m\u001b[0;34m*\u001b[0m\u001b[0mexp\u001b[0m\u001b[0;34m(\u001b[0m\u001b[0;34m-\u001b[0m\u001b[0ma\u001b[0m\u001b[0;34m*\u001b[0m\u001b[0mt\u001b[0m\u001b[0;34m)\u001b[0m\u001b[0;34m\u001b[0m\u001b[0m\n\u001b[1;32m     22\u001b[0m     \u001b[0mN_b\u001b[0m \u001b[0;34m=\u001b[0m \u001b[0mN_o\u001b[0m\u001b[0;34m*\u001b[0m\u001b[0;34m(\u001b[0m\u001b[0ma\u001b[0m\u001b[0;34m/\u001b[0m\u001b[0mb_ba\u001b[0m\u001b[0;34m)\u001b[0m\u001b[0;34m*\u001b[0m\u001b[0;34m(\u001b[0m\u001b[0mexp\u001b[0m\u001b[0;34m(\u001b[0m\u001b[0;34m-\u001b[0m\u001b[0ma\u001b[0m\u001b[0;34m*\u001b[0m\u001b[0mt\u001b[0m\u001b[0;34m)\u001b[0m \u001b[0;34m-\u001b[0m \u001b[0mexp\u001b[0m\u001b[0;34m(\u001b[0m\u001b[0;34m-\u001b[0m\u001b[0mb\u001b[0m\u001b[0;34m*\u001b[0m\u001b[0mt\u001b[0m\u001b[0;34m)\u001b[0m\u001b[0;34m)\u001b[0m\u001b[0;34m\u001b[0m\u001b[0m\n\u001b[0;32m---> 23\u001b[0;31m     \u001b[0mN_c\u001b[0m \u001b[0;34m=\u001b[0m \u001b[0mN_o\u001b[0m\u001b[0;34m*\u001b[0m\u001b[0ma\u001b[0m\u001b[0;34m*\u001b[0m\u001b[0mb\u001b[0m\u001b[0;34m(\u001b[0m\u001b[0;34m(\u001b[0m\u001b[0mexp\u001b[0m\u001b[0;34m(\u001b[0m\u001b[0;34m-\u001b[0m\u001b[0ma\u001b[0m\u001b[0;34m*\u001b[0m\u001b[0mt\u001b[0m\u001b[0;34m)\u001b[0m\u001b[0;34m/\u001b[0m\u001b[0;34m(\u001b[0m\u001b[0mb_ba\u001b[0m\u001b[0;34m*\u001b[0m\u001b[0mc_ca\u001b[0m\u001b[0;34m)\u001b[0m\u001b[0;34m)\u001b[0m \u001b[0;34m+\u001b[0m \u001b[0;34m(\u001b[0m\u001b[0mexp\u001b[0m\u001b[0;34m(\u001b[0m\u001b[0;34m-\u001b[0m\u001b[0mb\u001b[0m\u001b[0;34m*\u001b[0m\u001b[0mt\u001b[0m\u001b[0;34m)\u001b[0m\u001b[0;34m/\u001b[0m\u001b[0;34m(\u001b[0m\u001b[0ma_ab\u001b[0m\u001b[0;34m*\u001b[0m\u001b[0mc_cb\u001b[0m\u001b[0;34m)\u001b[0m\u001b[0;34m)\u001b[0m \u001b[0;34m+\u001b[0m \u001b[0;34m(\u001b[0m\u001b[0mexp\u001b[0m\u001b[0;34m(\u001b[0m\u001b[0;34m-\u001b[0m\u001b[0mc\u001b[0m\u001b[0;34m*\u001b[0m\u001b[0mt\u001b[0m\u001b[0;34m)\u001b[0m\u001b[0;34m/\u001b[0m\u001b[0;34m(\u001b[0m\u001b[0ma_ac\u001b[0m\u001b[0;34m*\u001b[0m\u001b[0mb_bc\u001b[0m\u001b[0;34m)\u001b[0m\u001b[0;34m)\u001b[0m\u001b[0;34m)\u001b[0m\u001b[0;34m\u001b[0m\u001b[0m\n\u001b[0m\u001b[1;32m     24\u001b[0m     \u001b[0mN_d\u001b[0m \u001b[0;34m=\u001b[0m \u001b[0mN_o\u001b[0m\u001b[0;34m*\u001b[0m\u001b[0ma\u001b[0m\u001b[0;34m*\u001b[0m\u001b[0mb\u001b[0m\u001b[0;34m*\u001b[0m\u001b[0mc\u001b[0m\u001b[0;34m(\u001b[0m\u001b[0;34m(\u001b[0m\u001b[0mexp\u001b[0m\u001b[0;34m(\u001b[0m\u001b[0;34m-\u001b[0m\u001b[0ma\u001b[0m\u001b[0;34m*\u001b[0m\u001b[0mt\u001b[0m\u001b[0;34m)\u001b[0m\u001b[0;34m/\u001b[0m\u001b[0;34m(\u001b[0m\u001b[0mb_ba\u001b[0m\u001b[0;34m*\u001b[0m\u001b[0mc_ca\u001b[0m\u001b[0;34m*\u001b[0m\u001b[0md_da\u001b[0m\u001b[0;34m)\u001b[0m\u001b[0;34m)\u001b[0m \u001b[0;34m+\u001b[0m \u001b[0;34m(\u001b[0m\u001b[0mexp\u001b[0m\u001b[0;34m(\u001b[0m\u001b[0;34m-\u001b[0m\u001b[0mb\u001b[0m\u001b[0;34m*\u001b[0m\u001b[0mt\u001b[0m\u001b[0;34m)\u001b[0m\u001b[0;34m/\u001b[0m\u001b[0;34m(\u001b[0m\u001b[0ma_ab\u001b[0m\u001b[0;34m*\u001b[0m\u001b[0mc_cb\u001b[0m\u001b[0;34m*\u001b[0m\u001b[0md_db\u001b[0m\u001b[0;34m)\u001b[0m\u001b[0;34m)\u001b[0m \u001b[0;34m+\u001b[0m \u001b[0;34m(\u001b[0m\u001b[0mexp\u001b[0m\u001b[0;34m(\u001b[0m\u001b[0;34m-\u001b[0m\u001b[0mc\u001b[0m\u001b[0;34m*\u001b[0m\u001b[0mt\u001b[0m\u001b[0;34m)\u001b[0m\u001b[0;34m/\u001b[0m\u001b[0;34m(\u001b[0m\u001b[0ma_ac\u001b[0m\u001b[0;34m*\u001b[0m\u001b[0mb_bc\u001b[0m\u001b[0;34m*\u001b[0m\u001b[0md_dc\u001b[0m\u001b[0;34m)\u001b[0m\u001b[0;34m)\u001b[0m\u001b[0;34m)\u001b[0m\u001b[0;34m\u001b[0m\u001b[0m\n",
      "\u001b[0;31mTypeError\u001b[0m: 'float' object is not callable"
     ]
    }
   ],
   "source": [
    "# test your function here\n",
    "data = chaindecay( 100,0.01,[5e0,2e1,3e0,0] )\n",
    "plt.plot( data[:,1:] )\n",
    "plt.ylim( (0,1) )\n",
    "plt.ylabel( 'amount of material' )\n",
    "plt.xlabel( 'time step' )\n",
    "plt.show()"
   ]
  },
  {
   "cell_type": "code",
   "execution_count": 112,
   "metadata": {
    "collapsed": false,
    "deletable": false,
    "nbgrader": {
     "checksum": "16d51ae731179dc1d21ea3c3edc71052",
     "grade": true,
     "grade_id": "chaindecay-test",
     "locked": true,
     "points": 1,
     "solution": false
    }
   },
   "outputs": [
    {
     "ename": "TypeError",
     "evalue": "'float' object is not callable",
     "output_type": "error",
     "traceback": [
      "\u001b[0;31m---------------------------------------------------------------------------\u001b[0m",
      "\u001b[0;31mTypeError\u001b[0m                                 Traceback (most recent call last)",
      "\u001b[0;32m<ipython-input-112-2c259292c2ae>\u001b[0m in \u001b[0;36m<module>\u001b[0;34m()\u001b[0m\n\u001b[1;32m      1\u001b[0m \u001b[0;31m# your code should pass these tests---do NOT edit this cell\u001b[0m\u001b[0;34m\u001b[0m\u001b[0;34m\u001b[0m\u001b[0m\n\u001b[1;32m      2\u001b[0m \u001b[0;32mfrom\u001b[0m \u001b[0mnumpy\u001b[0m \u001b[0;32mimport\u001b[0m \u001b[0misclose\u001b[0m\u001b[0;34m\u001b[0m\u001b[0m\n\u001b[0;32m----> 3\u001b[0;31m \u001b[0mdata\u001b[0m \u001b[0;34m=\u001b[0m \u001b[0mchaindecay\u001b[0m\u001b[0;34m(\u001b[0m \u001b[0;36m100\u001b[0m\u001b[0;34m,\u001b[0m\u001b[0;36m0.01\u001b[0m\u001b[0;34m,\u001b[0m\u001b[0;34m[\u001b[0m\u001b[0;36m1e1\u001b[0m\u001b[0;34m,\u001b[0m\u001b[0;36m2e1\u001b[0m\u001b[0;34m,\u001b[0m\u001b[0;36m3e1\u001b[0m\u001b[0;34m,\u001b[0m\u001b[0;36m0\u001b[0m\u001b[0;34m]\u001b[0m \u001b[0;34m)\u001b[0m\u001b[0;34m\u001b[0m\u001b[0m\n\u001b[0m\u001b[1;32m      4\u001b[0m \u001b[0;32massert\u001b[0m \u001b[0mtype\u001b[0m\u001b[0;34m(\u001b[0m\u001b[0mdata\u001b[0m\u001b[0;34m)\u001b[0m \u001b[0;34m==\u001b[0m \u001b[0mnp\u001b[0m\u001b[0;34m.\u001b[0m\u001b[0mndarray\u001b[0m \u001b[0;32mand\u001b[0m        \u001b[0mdata\u001b[0m\u001b[0;34m.\u001b[0m\u001b[0mshape\u001b[0m \u001b[0;34m==\u001b[0m \u001b[0;34m(\u001b[0m\u001b[0;36m101\u001b[0m\u001b[0;34m,\u001b[0m\u001b[0;36m5\u001b[0m\u001b[0;34m)\u001b[0m \u001b[0;32mand\u001b[0m        \u001b[0misclose\u001b[0m\u001b[0;34m(\u001b[0m\u001b[0mnp\u001b[0m\u001b[0;34m.\u001b[0m\u001b[0msum\u001b[0m\u001b[0;34m(\u001b[0m\u001b[0mdata\u001b[0m\u001b[0;34m[\u001b[0m\u001b[0;34m:\u001b[0m\u001b[0;34m,\u001b[0m\u001b[0;36m1\u001b[0m\u001b[0;34m:\u001b[0m\u001b[0;34m]\u001b[0m\u001b[0;34m,\u001b[0m \u001b[0maxis\u001b[0m\u001b[0;34m=\u001b[0m\u001b[0;36m1\u001b[0m\u001b[0;34m)\u001b[0m\u001b[0;34m[\u001b[0m\u001b[0;34m-\u001b[0m\u001b[0;36m1\u001b[0m\u001b[0;34m]\u001b[0m\u001b[0;34m,\u001b[0m \u001b[0;36m1.0\u001b[0m\u001b[0;34m)\u001b[0m\u001b[0;34m\u001b[0m\u001b[0m\n\u001b[1;32m      5\u001b[0m \u001b[0;32massert\u001b[0m \u001b[0misclose\u001b[0m\u001b[0;34m(\u001b[0m \u001b[0mdata\u001b[0m\u001b[0;34m[\u001b[0m \u001b[0;36m17\u001b[0m\u001b[0;34m,\u001b[0m\u001b[0;36m3\u001b[0m \u001b[0;34m]\u001b[0m\u001b[0;34m,\u001b[0m \u001b[0;36m0.122\u001b[0m\u001b[0;34m,\u001b[0m \u001b[0mrtol\u001b[0m\u001b[0;34m=\u001b[0m\u001b[0;36m1e-2\u001b[0m \u001b[0;34m)\u001b[0m\u001b[0;34m\u001b[0m\u001b[0m\n",
      "\u001b[0;32m<ipython-input-110-62469639be79>\u001b[0m in \u001b[0;36mchaindecay\u001b[0;34m(nt, dt, l)\u001b[0m\n\u001b[1;32m     21\u001b[0m     \u001b[0mN_a\u001b[0m \u001b[0;34m=\u001b[0m \u001b[0mN_o\u001b[0m\u001b[0;34m*\u001b[0m\u001b[0mexp\u001b[0m\u001b[0;34m(\u001b[0m\u001b[0;34m-\u001b[0m\u001b[0ma\u001b[0m\u001b[0;34m*\u001b[0m\u001b[0mt\u001b[0m\u001b[0;34m)\u001b[0m\u001b[0;34m\u001b[0m\u001b[0m\n\u001b[1;32m     22\u001b[0m     \u001b[0mN_b\u001b[0m \u001b[0;34m=\u001b[0m \u001b[0mN_o\u001b[0m\u001b[0;34m*\u001b[0m\u001b[0;34m(\u001b[0m\u001b[0ma\u001b[0m\u001b[0;34m/\u001b[0m\u001b[0mb_ba\u001b[0m\u001b[0;34m)\u001b[0m\u001b[0;34m*\u001b[0m\u001b[0;34m(\u001b[0m\u001b[0mexp\u001b[0m\u001b[0;34m(\u001b[0m\u001b[0;34m-\u001b[0m\u001b[0ma\u001b[0m\u001b[0;34m*\u001b[0m\u001b[0mt\u001b[0m\u001b[0;34m)\u001b[0m \u001b[0;34m-\u001b[0m \u001b[0mexp\u001b[0m\u001b[0;34m(\u001b[0m\u001b[0;34m-\u001b[0m\u001b[0mb\u001b[0m\u001b[0;34m*\u001b[0m\u001b[0mt\u001b[0m\u001b[0;34m)\u001b[0m\u001b[0;34m)\u001b[0m\u001b[0;34m\u001b[0m\u001b[0m\n\u001b[0;32m---> 23\u001b[0;31m     \u001b[0mN_c\u001b[0m \u001b[0;34m=\u001b[0m \u001b[0mN_o\u001b[0m\u001b[0;34m*\u001b[0m\u001b[0ma\u001b[0m\u001b[0;34m*\u001b[0m\u001b[0mb\u001b[0m\u001b[0;34m(\u001b[0m\u001b[0;34m(\u001b[0m\u001b[0mexp\u001b[0m\u001b[0;34m(\u001b[0m\u001b[0;34m-\u001b[0m\u001b[0ma\u001b[0m\u001b[0;34m*\u001b[0m\u001b[0mt\u001b[0m\u001b[0;34m)\u001b[0m\u001b[0;34m/\u001b[0m\u001b[0;34m(\u001b[0m\u001b[0mb_ba\u001b[0m\u001b[0;34m*\u001b[0m\u001b[0mc_ca\u001b[0m\u001b[0;34m)\u001b[0m\u001b[0;34m)\u001b[0m \u001b[0;34m+\u001b[0m \u001b[0;34m(\u001b[0m\u001b[0mexp\u001b[0m\u001b[0;34m(\u001b[0m\u001b[0;34m-\u001b[0m\u001b[0mb\u001b[0m\u001b[0;34m*\u001b[0m\u001b[0mt\u001b[0m\u001b[0;34m)\u001b[0m\u001b[0;34m/\u001b[0m\u001b[0;34m(\u001b[0m\u001b[0ma_ab\u001b[0m\u001b[0;34m*\u001b[0m\u001b[0mc_cb\u001b[0m\u001b[0;34m)\u001b[0m\u001b[0;34m)\u001b[0m \u001b[0;34m+\u001b[0m \u001b[0;34m(\u001b[0m\u001b[0mexp\u001b[0m\u001b[0;34m(\u001b[0m\u001b[0;34m-\u001b[0m\u001b[0mc\u001b[0m\u001b[0;34m*\u001b[0m\u001b[0mt\u001b[0m\u001b[0;34m)\u001b[0m\u001b[0;34m/\u001b[0m\u001b[0;34m(\u001b[0m\u001b[0ma_ac\u001b[0m\u001b[0;34m*\u001b[0m\u001b[0mb_bc\u001b[0m\u001b[0;34m)\u001b[0m\u001b[0;34m)\u001b[0m\u001b[0;34m)\u001b[0m\u001b[0;34m\u001b[0m\u001b[0m\n\u001b[0m\u001b[1;32m     24\u001b[0m     \u001b[0mN_d\u001b[0m \u001b[0;34m=\u001b[0m \u001b[0mN_o\u001b[0m\u001b[0;34m*\u001b[0m\u001b[0ma\u001b[0m\u001b[0;34m*\u001b[0m\u001b[0mb\u001b[0m\u001b[0;34m*\u001b[0m\u001b[0mc\u001b[0m\u001b[0;34m(\u001b[0m\u001b[0;34m(\u001b[0m\u001b[0mexp\u001b[0m\u001b[0;34m(\u001b[0m\u001b[0;34m-\u001b[0m\u001b[0ma\u001b[0m\u001b[0;34m*\u001b[0m\u001b[0mt\u001b[0m\u001b[0;34m)\u001b[0m\u001b[0;34m/\u001b[0m\u001b[0;34m(\u001b[0m\u001b[0mb_ba\u001b[0m\u001b[0;34m*\u001b[0m\u001b[0mc_ca\u001b[0m\u001b[0;34m*\u001b[0m\u001b[0md_da\u001b[0m\u001b[0;34m)\u001b[0m\u001b[0;34m)\u001b[0m \u001b[0;34m+\u001b[0m \u001b[0;34m(\u001b[0m\u001b[0mexp\u001b[0m\u001b[0;34m(\u001b[0m\u001b[0;34m-\u001b[0m\u001b[0mb\u001b[0m\u001b[0;34m*\u001b[0m\u001b[0mt\u001b[0m\u001b[0;34m)\u001b[0m\u001b[0;34m/\u001b[0m\u001b[0;34m(\u001b[0m\u001b[0ma_ab\u001b[0m\u001b[0;34m*\u001b[0m\u001b[0mc_cb\u001b[0m\u001b[0;34m*\u001b[0m\u001b[0md_db\u001b[0m\u001b[0;34m)\u001b[0m\u001b[0;34m)\u001b[0m \u001b[0;34m+\u001b[0m \u001b[0;34m(\u001b[0m\u001b[0mexp\u001b[0m\u001b[0;34m(\u001b[0m\u001b[0;34m-\u001b[0m\u001b[0mc\u001b[0m\u001b[0;34m*\u001b[0m\u001b[0mt\u001b[0m\u001b[0;34m)\u001b[0m\u001b[0;34m/\u001b[0m\u001b[0;34m(\u001b[0m\u001b[0ma_ac\u001b[0m\u001b[0;34m*\u001b[0m\u001b[0mb_bc\u001b[0m\u001b[0;34m*\u001b[0m\u001b[0md_dc\u001b[0m\u001b[0;34m)\u001b[0m\u001b[0;34m)\u001b[0m\u001b[0;34m)\u001b[0m\u001b[0;34m\u001b[0m\u001b[0m\n",
      "\u001b[0;31mTypeError\u001b[0m: 'float' object is not callable"
     ]
    }
   ],
   "source": [
    "# your code should pass these tests---do NOT edit this cell\n",
    "from numpy import isclose\n",
    "data = chaindecay( 100,0.01,[1e1,2e1,3e1,0] )\n",
    "assert type(data) == np.ndarray and \\\n",
    "       data.shape == (101,5) and \\\n",
    "       isclose(np.sum(data[:,1:], axis=1)[-1], 1.0)\n",
    "assert isclose( data[ 17,3 ], 0.122, rtol=1e-2 )\n",
    "print('Success!')"
   ]
  },
  {
   "cell_type": "markdown",
   "metadata": {},
   "source": [
    "##  References\n",
    "\n",
    "-   [\"General solution of Bateman equations for nuclear transmutations\"](http://www.sciencedirect.com/science/article/pii/S0306454906000284)\n",
    "-   [\"Simulating radioactive decay chains with spreadsheets\"](http://wordpress.mrreid.org/wp-content/uploads/2011/07/simulating-radioactive-decay-chains-with-spreadsheets.pdf)"
   ]
  },
  {
   "cell_type": "markdown",
   "metadata": {},
   "source": [
    "# Before you submit..."
   ]
  },
  {
   "cell_type": "markdown",
   "metadata": {},
   "source": [
    "Before you submit this exercise, make sure that everything runs as expected.  You can either use the *Validate* button on the *Assignments* tab or type `nbgrader validate labX` at the command line.  **You should also *save* before submitting.**\n",
    "\n",
    "Make sure that you have filled in any code block which says \"YOUR CODE HERE\" or \"YOUR ANSWER HERE\".\n",
    "\n",
    "List any resources used (beyond the TA or the help files):"
   ]
  },
  {
   "cell_type": "markdown",
   "metadata": {
    "collapsed": true
   },
   "source": [
    "Double-click here to add collaborators or partners:  ☐"
   ]
  },
  {
   "cell_type": "markdown",
   "metadata": {},
   "source": [
    "This laboratory exercise was written by Neal Davis for Computer Science 101 at the University of Illinois.\n",
    "\n",
    "©2015–16 University of Illinois\n",
    "\n",
    "![](./cs101-footer.png)"
   ]
  }
 ],
 "metadata": {
  "anaconda-cloud": {},
  "kernelspec": {
   "display_name": "Python 3",
   "language": "python",
   "name": "python3"
  },
  "language_info": {
   "codemirror_mode": {
    "name": "ipython",
    "version": 3
   },
   "file_extension": ".py",
   "mimetype": "text/x-python",
   "name": "python",
   "nbconvert_exporter": "python",
   "pygments_lexer": "ipython3",
   "version": "3.4.1"
  }
 },
 "nbformat": 4,
 "nbformat_minor": 0
}
