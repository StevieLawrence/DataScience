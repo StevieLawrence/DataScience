{
 "cells": [
  {
   "cell_type": "markdown",
   "metadata": {},
   "source": [
    "# CS 101:  Introduction to Computing for Science and Engineering"
   ]
  },
  {
   "cell_type": "markdown",
   "metadata": {},
   "source": [
    "## `lab12`—The Traveling Salesman"
   ]
  },
  {
   "cell_type": "markdown",
   "metadata": {},
   "source": [
    "❖ Objectives\n",
    "\n",
    "-   Explore optimization using a classic problem."
   ]
  },
  {
   "cell_type": "code",
   "execution_count": 1,
   "metadata": {
    "collapsed": false
   },
   "outputs": [],
   "source": [
    "# Import basic libraries.\n",
    "import math\n",
    "import itertools\n",
    "import requests\n",
    "\n",
    "import numpy as np\n",
    "import matplotlib as mpl\n",
    "import matplotlib.pyplot as plt\n",
    "%matplotlib inline\n",
    "mpl.rcParams[ 'figure.figsize' ] = (15,2)"
   ]
  },
  {
   "cell_type": "markdown",
   "metadata": {},
   "source": [
    "##  Visiting Cities"
   ]
  },
  {
   "cell_type": "markdown",
   "metadata": {},
   "source": [
    "A classic optimization problem, the Traveling Salesman Problem (TSP) posits that a salesman would like to visit every city in a set.  The salesman would prefer to spend as little time on the road as possible, so he wants to optimize his route to be the shortest possible.\n",
    "\n",
    "For instance, for three cities, it is clear that one of these paths takes significantly less time than the others:\n",
    "\n",
    "![](./img/tsp-3.png)\n",
    "\n",
    "For more than a handful of cities, however, the number of possible paths explodes and the problem becomes computationally challenging. For the number of cities $n$, the amount of possible paths the salesman can take through the cities is equal to $n! = \\prod_{i=1}^{n} i$, making brute-force solutions for a lot of cities unmanagable for even the fastest computers.\n",
    "\n",
    "![](./img/tsp-many.png)\n",
    "\n",
    "Brute-force optimization thus works well for a smaller number of cities, but for a bigger set of cities we need heuristic optimization strategies. Run the cell below to show how many possible paths the computer needs to examine through brute force for different values of $n$ to find the optimal route:"
   ]
  },
  {
   "cell_type": "code",
   "execution_count": 2,
   "metadata": {
    "collapsed": false
   },
   "outputs": [
    {
     "name": "stdout",
     "output_type": "stream",
     "text": [
      "n =   2: 2 possible paths,\n",
      "n =   4: 24 possible paths,\n",
      "n =   6: 720 possible paths,\n",
      "n =   8: 4.032e+04 possible paths,\n",
      "n =  10: 3.629e+06 possible paths,\n",
      "n =  12: 4.79e+08 possible paths,\n",
      "n =  14: 8.718e+10 possible paths,\n",
      "n =  16: 2.092e+13 possible paths,\n",
      "n =  18: 6.402e+15 possible paths,\n",
      "n =  20: 2.433e+18 possible paths,\n",
      "n =  30: 2.653e+32 possible paths,\n",
      "n =  40: 8.159e+47 possible paths,\n",
      "n =  50: 3.041e+64 possible paths,\n",
      "n =  75: 2.481e+109 possible paths,\n",
      "n = 100: 9.333e+157 possible paths\n"
     ]
    }
   ],
   "source": [
    "print(*(\"n = {:3g}: {:.4g} possible paths\".format(i, math.factorial(i)) \\\n",
    "        for i in itertools.chain(range(2, 21, 2), range(30, 60, 10), range(75, 101, 25))), sep=\",\\n\")"
   ]
  },
  {
   "cell_type": "markdown",
   "metadata": {},
   "source": [
    "The cities we wish to visit are available online as a JSON resource including city names and locations (thus distances). *JSON* is a standard Internet data format which Python can easily convert into a dictionary.  The `requests` library fortunately supports accessing this type, so we can use the `.json()` method (*not* attribute like `.text`) to retrieve the data from a URL.\n",
    "\n",
    "-   Compose a function `get_cities` which returns the dictionary from the `json()` method at the URL `go.cs.illinois.edu/cs101-tspdat1011` (just copy and paste it)."
   ]
  },
  {
   "cell_type": "code",
   "execution_count": 37,
   "metadata": {
    "collapsed": true,
    "deletable": false,
    "nbgrader": {
     "checksum": "7b805ae1bf1c93b909a48f0469e0abdb",
     "grade": false,
     "grade_id": "get_cities",
     "locked": false,
     "solution": true
    }
   },
   "outputs": [],
   "source": [
    "# Compose your function `get_cities` here.\n",
    "def get_cities():\n",
    "    URL = 'http://go.cs.illinois.edu/cs101-tspdat1011'\n",
    "    Json = requests.get(URL)\n",
    "    Json_data = Json.json()\n",
    "    return Json_data"
   ]
  },
  {
   "cell_type": "code",
   "execution_count": 38,
   "metadata": {
    "collapsed": false
   },
   "outputs": [
    {
     "data": {
      "text/plain": [
       "{'Atlantis': [100, 31],\n",
       " 'Avalon': [9, 37],\n",
       " 'Bedrock': [7, 100],\n",
       " 'El Dorado': [79, 97],\n",
       " 'Emerald City': [22, 59],\n",
       " 'Gotham': [1, 23],\n",
       " 'Hill Valley': [91, 36],\n",
       " 'Hogsmeade': [0, 45],\n",
       " 'Kakariko Village': [16, 66],\n",
       " 'Los Santos': [5, 99],\n",
       " 'Metropolis': [3, 13],\n",
       " 'Mos Eisley': [7, 83],\n",
       " 'Quahog': [52, 77],\n",
       " 'Smallville': [87, 47],\n",
       " 'South Park': [38, 92],\n",
       " 'Stormwind': [73, 72],\n",
       " 'Sunnydale': [78, 79]}"
      ]
     },
     "execution_count": 38,
     "metadata": {},
     "output_type": "execute_result"
    }
   ],
   "source": [
    "get_cities()# You may test your function here if desired."
   ]
  },
  {
   "cell_type": "code",
   "execution_count": 39,
   "metadata": {
    "collapsed": false,
    "deletable": false,
    "nbgrader": {
     "checksum": "8e2690f6c9da86c697e69e9a451b1245",
     "grade": true,
     "grade_id": "get_cities-test",
     "locked": true,
     "points": 1,
     "solution": false
    }
   },
   "outputs": [
    {
     "name": "stdout",
     "output_type": "stream",
     "text": [
      "Atlantis, Avalon, Bedrock, El Dorado, Emerald City, Gotham, Hill Valley, Hogsmeade, Kakariko Village, Los Santos, Metropolis, Mos Eisley, Quahog, Smallville, South Park, Stormwind, Sunnydale\n",
      "Success!\n"
     ]
    }
   ],
   "source": [
    "# your code should pass these tests---do NOT edit this cell\n",
    "test_city_locations = get_cities()\n",
    "\n",
    "print( *sorted( test_city_locations.keys() ),sep=', ' )\n",
    "\n",
    "assert len(test_city_locations) == 17, \"Number of cities is incorrect.\"\n",
    "assert 'El Dorado' in test_city_locations, \"Names of cities are incorrect.\"\n",
    "assert test_city_locations['El Dorado'] == [79, 97], \"Locations of cities are incorrect.\"\n",
    "print('Success!')"
   ]
  },
  {
   "cell_type": "markdown",
   "metadata": {},
   "source": [
    "In order to tell how long the path is it's possible to evaluate if we've found the best one, we need to come up with functions that can return the distance between two cities, as well as a function that will compute the distance of an entire path.\n",
    "\n",
    "-   Compose a function `city_distance` which, given a dictionary and two city names, computes the distance between them according to the standard euclidean distance metric, $\\sqrt{(x_1-x_0)^2 + (y_1-y_0)^2}$.  The dictionary is expected to be the output of `get_cities`, of course."
   ]
  },
  {
   "cell_type": "code",
   "execution_count": 58,
   "metadata": {
    "collapsed": false,
    "deletable": false,
    "nbgrader": {
     "checksum": "2196c2ad0fa1a7cde0a2eb1a19991a47",
     "grade": false,
     "grade_id": "city_distance",
     "locked": false,
     "solution": true
    }
   },
   "outputs": [],
   "source": [
    "def city_distance(d,name1,name2):\n",
    "    distance = ((d[name1][0]-d[name2][0])**2 + (d[name1][1]-d[name2][1])**2)**.5\n",
    "    return distance # Compose your function `city_distance` here."
   ]
  },
  {
   "cell_type": "code",
   "execution_count": 59,
   "metadata": {
    "collapsed": false,
    "nbgrader": {
     "grade": false,
     "locked": false,
     "solution": false
    }
   },
   "outputs": [
    {
     "data": {
      "text/plain": [
       "16.1245154965971"
      ]
     },
     "execution_count": 59,
     "metadata": {},
     "output_type": "execute_result"
    }
   ],
   "source": [
    "city_distance(get_cities(),'Avalon','Gotham')# You may test your function here if desired."
   ]
  },
  {
   "cell_type": "code",
   "execution_count": 60,
   "metadata": {
    "collapsed": false,
    "deletable": false,
    "nbgrader": {
     "checksum": "c779bdb7ef8bc3b540309c7c577fdb14",
     "grade": true,
     "grade_id": "city_distance-test",
     "locked": true,
     "points": 1,
     "solution": false
    }
   },
   "outputs": [
    {
     "name": "stdout",
     "output_type": "stream",
     "text": [
      "Success!\n"
     ]
    }
   ],
   "source": [
    "# your code should pass these tests---do NOT edit this cell\n",
    "from numpy import isclose\n",
    "test_city_locations = get_cities()\n",
    "\n",
    "assert isclose(city_distance( test_city_locations,'Avalon','Gotham' ), 16.1245), \"Distance calculation is incorrect.\"\n",
    "assert isclose(city_distance( test_city_locations,'Gotham','Quahog' ), 74.2765), \"Distance calculation is incorrect.\"\n",
    "print('Success!')"
   ]
  },
  {
   "cell_type": "markdown",
   "metadata": {},
   "source": [
    "-   We require a function `path_distance` which accepts a dictionary and a list of city names.  `path_distance` should return the length of the total path.  The following candidate function has been provided by a colleague of yours known for shoddy coding.  You suspect that it may have bugs.  Find and correct any of them in the code below."
   ]
  },
  {
   "cell_type": "code",
   "execution_count": 77,
   "metadata": {
    "collapsed": true,
    "deletable": false,
    "nbgrader": {
     "checksum": "c0564c5df4def3d26f44bc05036859fa",
     "grade": false,
     "grade_id": "path_distance",
     "locked": false,
     "solution": true
    }
   },
   "outputs": [],
   "source": [
    "def path_distance( city_dict,city_path ):\n",
    "    \n",
    "    # Copy the incoming path since we'll modify it.\n",
    "    path1 = city_path[ : ]\n",
    "    path2 = city_path[ : ]\n",
    "    \n",
    "    del path2[ 0 ]\n",
    "    del path1[ len(path2) ]\n",
    "    # Now we have two lists, path1 being the starting city of each step\n",
    "    # and path2 being the ending city of each step:\n",
    "    \n",
    "    # Loop over the city pairs and sum up the total distance traveled:\n",
    "    total_d = 0.0\n",
    "    for city1,city2 in zip( path1,path2 ):\n",
    "        d = city_distance( city_dict,city1,city2 )\n",
    "        total_d += d\n",
    "    \n",
    "    return total_d"
   ]
  },
  {
   "cell_type": "code",
   "execution_count": 78,
   "metadata": {
    "collapsed": false,
    "deletable": false,
    "nbgrader": {
     "checksum": "549dcc66569284a003ee704101f9f74f",
     "grade": true,
     "grade_id": "path_distance-test",
     "locked": true,
     "points": 1,
     "solution": false
    }
   },
   "outputs": [
    {
     "name": "stdout",
     "output_type": "stream",
     "text": [
      "Success!\n"
     ]
    }
   ],
   "source": [
    "# your code should pass these tests---do NOT edit this cell\n",
    "from numpy import isclose\n",
    "test_city_locations = get_cities()\n",
    "\n",
    "assert path_distance( test_city_locations,['Avalon', 'Gotham', 'Quahog'] ) == \\\n",
    "       city_distance( test_city_locations,'Avalon', 'Gotham' ) + \\\n",
    "       city_distance( test_city_locations,'Gotham', 'Quahog' ), \\\n",
    "    \"Path calculation is incorrect.\"\n",
    "print('Success!')"
   ]
  },
  {
   "cell_type": "markdown",
   "metadata": {},
   "source": [
    "##  Finding a Way"
   ]
  },
  {
   "cell_type": "markdown",
   "metadata": {},
   "source": [
    "Now that we have ways of evaluating candidate routes, let's take a look at algorithms.\n",
    "\n",
    "First, we have our old friend the brute-force search.\n",
    "\n",
    "-   Given a set of cities and locations (we have that from `get_cities`), find the shortest route between them using the brute-force algorithm.  You may use the `itertools.permutations` function to comprehensively review the cities, but any candidate path needs to include all of the cities once. Be aware that `itertools.permutations` gives tuples, not lists!\n",
    "    \n",
    "    Compose a function `brute_force_tsp` which implements the brute-force algorithm as just described.  `brute_force_tsp` accepts the standard dictionary containing cities as well as a list of cities which need to be visited and returns the globally optimal path (shortest distance traveled)."
   ]
  },
  {
   "cell_type": "code",
   "execution_count": 101,
   "metadata": {
    "collapsed": false,
    "deletable": false,
    "nbgrader": {
     "checksum": "a2ac1212e0483928124177ecbf83ad59",
     "grade": false,
     "grade_id": "brute_force_tsp",
     "locked": false,
     "solution": true
    }
   },
   "outputs": [],
   "source": [
    "def brute_force_tsp(city_dict,city_list):\n",
    "    short_distance = 111111111\n",
    "    shortest_path = None\n",
    "    for city_set in itertools.permutations(city_list):\n",
    "        distance = path_distance(city_dict,list(city_set))\n",
    "        if distance < short_distance:\n",
    "            short_distance = distance\n",
    "            shortest_path = city_set\n",
    "    return list(shortest_path)"
   ]
  },
  {
   "cell_type": "code",
   "execution_count": 102,
   "metadata": {
    "collapsed": false
   },
   "outputs": [
    {
     "data": {
      "text/plain": [
       "['Gotham', 'Avalon', 'Quahog']"
      ]
     },
     "execution_count": 102,
     "metadata": {},
     "output_type": "execute_result"
    }
   ],
   "source": [
    "brute_force_tsp(get_cities(),['Avalon', 'Gotham', 'Quahog'])# You may test your function here if desired."
   ]
  },
  {
   "cell_type": "code",
   "execution_count": 103,
   "metadata": {
    "collapsed": false,
    "deletable": false,
    "nbgrader": {
     "checksum": "6dadaed875c463f070fe71aabd388211",
     "grade": true,
     "grade_id": "brute_force_tsp-test",
     "locked": true,
     "points": 1,
     "solution": false
    }
   },
   "outputs": [
    {
     "name": "stdout",
     "output_type": "stream",
     "text": [
      "Success!\n"
     ]
    }
   ],
   "source": [
    "# your code should pass these tests---do NOT edit this cell\n",
    "from numpy import isclose\n",
    "test_city_locations = get_cities()\n",
    "\n",
    "given_cities = [ 'Avalon','Bedrock','El Dorado','Emerald City','Gotham','Hill Valley' ]\n",
    "path = brute_force_tsp( test_city_locations,given_cities )\n",
    "assert type(path) == type(list()), \"Path returned is not a list, but {}\".format(type(path))\n",
    "assert np.isclose( path_distance(test_city_locations,path ), 219.5677 ), \"Path calculated is not the shortest.\"\n",
    "print('Success!')"
   ]
  },
  {
   "cell_type": "markdown",
   "metadata": {},
   "source": [
    "Given a set much larger than the six cities in the test case, brute-force searching will take too long.  We will employ another algorithm, a heuristic optimization technique called *branch and bound*. Branch and bound works by examining the best solution found so far, and if it is possible to determine that the candidate solution cannot possibly beat the *bound*, or best solution we have already, we drop all the computation down that *branch*.\n",
    "\n",
    "To begin, we need to approximate a good solution to the TSP which we can set as our *initial bound*. One way to do that is using the nearest-neighbor heuristic:  start with the first city, and then build the path by always traveling to the closest unvisited city.\n",
    "\n",
    "Let's take a look at the difference between a nearest-neighbor guess and the optimal solution for a certain case.\n",
    "\n",
    "![](./img/tsp-greedy.png)\n",
    "\n",
    "You can see that the nearest-neighbor heuristic isn't optimal (it's analogous to a hill-climbing solution), but it doesn't do *too* poorly.  Examine the implementation below (it does a couple of new things that we haven't examined yet), and evaluate it to make sure that `nearest_neighbor_heuristic` can run."
   ]
  },
  {
   "cell_type": "code",
   "execution_count": 104,
   "metadata": {
    "collapsed": true
   },
   "outputs": [],
   "source": [
    "def nearest_neighbor_heuristic(cities, must_visit):\n",
    "    nn_heuristic = must_visit[ :1 ]  # The heuristic path our function builds\n",
    "    nn_unvisited = must_visit[ 1: ]  # The cities yet to be added to our path\n",
    "    \n",
    "    # While there are cities that haven't been visited...\n",
    "    while nn_unvisited:\n",
    "        curr_city = nn_heuristic[-1] # Get the city that the salesman is in\n",
    "        \n",
    "        # Find the closest unvisited city\n",
    "        next_dist, next_i = min((city_distance(cities, curr_city, next_city), city_i)\n",
    "                 for city_i, next_city in enumerate(nn_unvisited))\n",
    "        \n",
    "        # Append that city to our path, and remove it from our unvisited\n",
    "        nn_heuristic.append(nn_unvisited.pop(next_i))\n",
    "        \n",
    "    return (path_distance(cities, nn_heuristic), nn_heuristic)"
   ]
  },
  {
   "cell_type": "markdown",
   "metadata": {},
   "source": [
    "With our initial bound added, we can begin coding the branch-and-bound. Your zealous colleague has once again composed a useful function `branch_bound_tsp` to assist in this process, but you suspect that there may be some issues with the function.  Examine `branch_bound_tsp` for bugs, correct any that you notice, and solve the TSP."
   ]
  },
  {
   "cell_type": "code",
   "execution_count": 173,
   "metadata": {
    "collapsed": false,
    "deletable": false,
    "nbgrader": {
     "checksum": "ecff91e5d118ed96141b2d9dd319388a",
     "grade": false,
     "grade_id": "branch_bound_tsp",
     "locked": false,
     "solution": true
    }
   },
   "outputs": [],
   "source": [
    "def branch_bound_tsp( cities,must_visit ):\n",
    "    # cities is \n",
    "    # Set our best solution as the nearest-neighbor approximation\n",
    "    best_sol = nearest_neighbor_heuristic( cities,must_visit ) \n",
    "    \n",
    "    # Create a list of incomplete solutions - tuples of distances and paths, one starting in each city\n",
    "    sol_list = [ ]\n",
    "    for city in must_visit:\n",
    "        sol_list.append( ( 0,[ city ] ) )\n",
    "\n",
    "    while sol_list:\n",
    "        # Get our best distance and path from our best solution\n",
    "        best_dist, best_path = best_sol\n",
    "        \n",
    "        # Get our current solution from our list of solutions\n",
    "        # (list.pop removes the last item from a list and returns it)\n",
    "        # (this line is okay)\n",
    "        curr_dist, curr_path = sol_list.pop()\n",
    "        \n",
    "        # Build a list of unvisited cities for our current path\n",
    "        curr_remaining = [ ]\n",
    "        for city in must_visit:\n",
    "            if city not in curr_path:\n",
    "                curr_remaining.append( city )\n",
    "                \n",
    "        # If there are no remaining cities, this path is complete.\n",
    "        # Compare it to our current best solution and see which is better:\n",
    "        if len( curr_remaining ) == 0:\n",
    "            best_sol = min( best_sol,( curr_dist,curr_path ) )\n",
    "        \n",
    "        # If our current distance is worse than the best solution, adding cities won't help.\n",
    "        # This solution doesn't work, so just skip to the next iteration of the loop.\n",
    "        if curr_dist >= best_dist:\n",
    "            continue\n",
    "        \n",
    "        # Otherwise, we may want to examine this path further. Add the next steps to the\n",
    "        # start of the list so we can examine them in later iterations of the for loop.\n",
    "        for i, city in enumerate( curr_remaining ):\n",
    "            next_dist = curr_dist + city_distance( cities,curr_path[ -1 ],city )\n",
    "            next_path = curr_path + [city]\n",
    "            \n",
    "            # If the distance is lower than the best distance, append the solution to\n",
    "            # the start of the list.\n",
    "            if next_dist < best_dist:\n",
    "                sol_list.insert( 0,( next_dist,next_path ) )\n",
    "    \n",
    "    # Return the best path.\n",
    "    return best_sol[ 1 ]"
   ]
  },
  {
   "cell_type": "code",
   "execution_count": 174,
   "metadata": {
    "collapsed": false
   },
   "outputs": [
    {
     "data": {
      "text/plain": [
       "'hi'"
      ]
     },
     "execution_count": 174,
     "metadata": {},
     "output_type": "execute_result"
    }
   ],
   "source": [
    "'hi'# You may test your function here if desired."
   ]
  },
  {
   "cell_type": "code",
   "execution_count": 176,
   "metadata": {
    "collapsed": false,
    "deletable": false,
    "nbgrader": {
     "checksum": "34683b5ca827a842ed3f08fca3e2a351",
     "grade": true,
     "grade_id": "branch_bound_tsp-test",
     "locked": true,
     "points": 1,
     "solution": false
    }
   },
   "outputs": [
    {
     "name": "stdout",
     "output_type": "stream",
     "text": [
      "Running branch and bound (n = 10)...\n",
      "['Hogsmeade', 'South Park', 'Stormwind', 'Mos Eisley', 'Hill Valley', 'Emerald City', 'Gotham', 'Kakariko Village', 'Smallville', 'Bedrock']\n",
      "Branch and bound time:  0.6668956279754639 \n",
      "\n",
      "Running brute force (n = 10)...\n",
      "Brute force time:  31.860435485839844\n",
      "Success!\n"
     ]
    }
   ],
   "source": [
    "# your code should pass these tests---do NOT edit this cell\n",
    "from numpy import isclose\n",
    "from time import time\n",
    "test_city_locations = get_cities()\n",
    "given_cities = list(test_city_locations.keys())[:10]\n",
    "\n",
    "print(\"Running branch and bound (n = 10)...\")\n",
    "start_bb = time()\n",
    "branch_bound_path = branch_bound_tsp(test_city_locations, given_cities)\n",
    "end_bb = time()\n",
    "print(\"Branch and bound time: \", end_bb - start_bb, \"\\n\")\n",
    "\n",
    "print(\"Running brute force (n = 10)...\")\n",
    "start_brute = time()\n",
    "brute_force_path = brute_force_tsp(test_city_locations, given_cities)\n",
    "end_brute = time()\n",
    "print(\"Brute force time: \", end_brute - start_brute)\n",
    "\n",
    "assert end_brute-start_brute - 15 > end_bb-start_bb, \"Branch and bound is not substantially faster than brute force.\"\n",
    "assert path_distance( test_city_locations,brute_force_path ) == path_distance( test_city_locations,branch_bound_path ), \"Branch and bound path does not return the same distance as brute-force path.\"\n",
    "\n",
    "print('Success!')"
   ]
  },
  {
   "cell_type": "markdown",
   "metadata": {},
   "source": [
    "This is a group lab, so you should write down the names and NetIDs of your group in the cell below.  Then **save** before submitting."
   ]
  },
  {
   "cell_type": "code",
   "execution_count": null,
   "metadata": {
    "collapsed": true
   },
   "outputs": [],
   "source": [
    "'''\n",
    "write them here\n",
    "'''"
   ]
  },
  {
   "cell_type": "markdown",
   "metadata": {},
   "source": [
    "# Before you submit..."
   ]
  },
  {
   "cell_type": "markdown",
   "metadata": {},
   "source": [
    "Before you submit this exercise, make sure that everything runs as expected.  You can either use the *Validate* button on the *Assignments* tab or type `nbgrader validate labX` at the command line.  **You should also *save* before submitting.**\n",
    "\n",
    "Make sure that you have filled in any code block which says \"YOUR CODE HERE\" or \"YOUR ANSWER HERE\".\n",
    "\n",
    "List any resources used (beyond the TA or the help files):"
   ]
  },
  {
   "cell_type": "markdown",
   "metadata": {
    "collapsed": true
   },
   "source": [
    "Double-click here to add collaborators or partners:  ☐"
   ]
  },
  {
   "cell_type": "markdown",
   "metadata": {},
   "source": [
    "This laboratory exercise was written by Neal Davis for Computer Science 101 at the University of Illinois.\n",
    "\n",
    "©2015–16 University of Illinois\n",
    "\n",
    "![](./cs101-footer.png)"
   ]
  }
 ],
 "metadata": {
  "anaconda-cloud": {},
  "kernelspec": {
   "display_name": "Python 3",
   "language": "python",
   "name": "python3"
  },
  "language_info": {
   "codemirror_mode": {
    "name": "ipython",
    "version": 3
   },
   "file_extension": ".py",
   "mimetype": "text/x-python",
   "name": "python",
   "nbconvert_exporter": "python",
   "pygments_lexer": "ipython3",
   "version": "3.4.1"
  }
 },
 "nbformat": 4,
 "nbformat_minor": 0
}
