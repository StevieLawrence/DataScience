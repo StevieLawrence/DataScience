{
 "cells": [
  {
   "cell_type": "markdown",
   "metadata": {},
   "source": [
    "# CS 101:  Introduction to Computing for Science and Engineering"
   ]
  },
  {
   "cell_type": "markdown",
   "metadata": {},
   "source": [
    "## `lab03`—Types, Functions, & Scope"
   ]
  },
  {
   "cell_type": "markdown",
   "metadata": {},
   "source": [
    "**Objectives**\n",
    "\n",
    "-   Use index slicing to access larger pieces of a string.\n",
    "-   Use functions to modularize code.\n",
    "-   Utilize the built-in libraries of Python functions effectively."
   ]
  },
  {
   "cell_type": "markdown",
   "metadata": {},
   "source": [
    "#### Slicing"
   ]
  },
  {
   "cell_type": "markdown",
   "metadata": {
    "collapsed": false
   },
   "source": [
    "We can generalize our notion of *indexing* to *slicing*.  Slicing means using a *range of indices* to take a *slice* of a string.  A range is written `string[left:right]`, where the `left` index is part of the string but the `right` index is not.  (We call this a *half-open* range.)"
   ]
  },
  {
   "cell_type": "code",
   "execution_count": 1,
   "metadata": {
    "collapsed": false
   },
   "outputs": [],
   "source": [
    "pangram = 'Sphinx of black quartz: judge my vow.'"
   ]
  },
  {
   "cell_type": "code",
   "execution_count": 2,
   "metadata": {
    "collapsed": false
   },
   "outputs": [
    {
     "data": {
      "text/plain": [
       "'Sphin'"
      ]
     },
     "execution_count": 2,
     "metadata": {},
     "output_type": "execute_result"
    }
   ],
   "source": [
    "pangram[0:5]"
   ]
  },
  {
   "cell_type": "code",
   "execution_count": 3,
   "metadata": {
    "collapsed": false
   },
   "outputs": [
    {
     "data": {
      "text/plain": [
       "' of bla'"
      ]
     },
     "execution_count": 3,
     "metadata": {},
     "output_type": "execute_result"
    }
   ],
   "source": [
    "pangram[6:13]"
   ]
  },
  {
   "cell_type": "code",
   "execution_count": 4,
   "metadata": {
    "collapsed": false
   },
   "outputs": [
    {
     "data": {
      "text/plain": [
       "''"
      ]
     },
     "execution_count": 4,
     "metadata": {},
     "output_type": "execute_result"
    }
   ],
   "source": [
    "pangram[0:0]  # Note that the right-hand index is not in the range, so this string is empty."
   ]
  },
  {
   "cell_type": "code",
   "execution_count": 5,
   "metadata": {
    "collapsed": false
   },
   "outputs": [
    {
     "data": {
      "text/plain": [
       "'Sphinx of black quartz: judge my vow'"
      ]
     },
     "execution_count": 5,
     "metadata": {},
     "output_type": "execute_result"
    }
   ],
   "source": [
    "pangram[0:-1]"
   ]
  },
  {
   "cell_type": "code",
   "execution_count": 6,
   "metadata": {
    "collapsed": false
   },
   "outputs": [
    {
     "data": {
      "text/plain": [
       "'x of black quartz: judge my vow.'"
      ]
     },
     "execution_count": 6,
     "metadata": {},
     "output_type": "execute_result"
    }
   ],
   "source": [
    "pangram[5:]  # We don't have to specify both sides; if we don't, Python assumes we are going all the way to the end or coming all the way from the beginning."
   ]
  },
  {
   "cell_type": "code",
   "execution_count": 7,
   "metadata": {
    "collapsed": false
   },
   "outputs": [
    {
     "data": {
      "text/plain": [
       "'Sphinx of '"
      ]
     },
     "execution_count": 7,
     "metadata": {},
     "output_type": "execute_result"
    }
   ],
   "source": [
    "pangram[:10]"
   ]
  },
  {
   "cell_type": "code",
   "execution_count": 8,
   "metadata": {
    "collapsed": false
   },
   "outputs": [
    {
     "data": {
      "text/plain": [
       "'Sphinx of black quartz: judge my vow.'"
      ]
     },
     "execution_count": 8,
     "metadata": {},
     "output_type": "execute_result"
    }
   ],
   "source": [
    "pangram[:]  # Thus this is just a copy of the entire original string."
   ]
  },
  {
   "cell_type": "code",
   "execution_count": 9,
   "metadata": {
    "collapsed": false
   },
   "outputs": [
    {
     "data": {
      "text/plain": [
       "'nobcqr:ueyo'"
      ]
     },
     "execution_count": 9,
     "metadata": {},
     "output_type": "execute_result"
    }
   ],
   "source": [
    "pangram[4:-1:3]  # Take every THIRD character from the fourth space to the last (exclusive)."
   ]
  },
  {
   "cell_type": "markdown",
   "metadata": {},
   "source": [
    "Although strings *are* important and useful, you're still fairly limited in what you're able to do with them.  But many aspects of indexing will carry over to data types you'll meet later, like `list`s and `ndarray`s ($n$-dimensional arrays)—you will use these techniques to manipulate large arrays of numerical data as well."
   ]
  },
  {
   "cell_type": "markdown",
   "metadata": {},
   "source": [
    "-   How would you extract the letters `'ssupdla nioiaim'` from the following string?  Write the full expression (*i.e.*, `showoff[???]`) in the answer block below.\n",
    "        \n",
    "        showoff = 'sesquipedalian antinominalism'"
   ]
  },
  {
   "cell_type": "code",
   "execution_count": 10,
   "metadata": {
    "collapsed": true
   },
   "outputs": [],
   "source": [
    "# definition\n",
    "showoff = 'sesquipedalian antinominalism'"
   ]
  },
  {
   "cell_type": "code",
   "execution_count": 12,
   "metadata": {
    "collapsed": false,
    "deletable": false,
    "nbgrader": {
     "checksum": "d8258d9c2ac9f29ed872ff562e1ee23c",
     "grade": true,
     "grade_id": "slice",
     "locked": false,
     "points": 1,
     "solution": true
    }
   },
   "outputs": [
    {
     "data": {
      "text/plain": [
       "'ssuqdla nioiaim'"
      ]
     },
     "execution_count": 12,
     "metadata": {},
     "output_type": "execute_result"
    }
   ],
   "source": [
    "# your answer here\n",
    "showoff[0] + showoff[0] + showoff[4] + showoff[3] + showoff[8] + showoff[10] + showoff[9] + showoff[14] + showoff[-6] + showoff[-3] + showoff[-9] + showoff[-3] + showoff[-5] + showoff[-3] + showoff[-1]"
   ]
  },
  {
   "cell_type": "markdown",
   "metadata": {},
   "source": [
    "### How to reuse your code"
   ]
  },
  {
   "cell_type": "markdown",
   "metadata": {},
   "source": [
    "When you need to carry out a calculation many times (whether simple or complicated), you don't want to write out the formula over and over again.  Besides being inefficient, if you later need to expand the code or correct a bug, you'd have to look everywhere to make sure you changed every case.  It's far better to write the calculation *once*, as a function, and then call that function every time you need it.\n",
    "\n",
    "You've seen a handful of functions before:  `type`, `exp`, `abs`.  Let's see what's involved with writing your own."
   ]
  },
  {
   "cell_type": "markdown",
   "metadata": {
    "collapsed": false
   },
   "source": [
    "In mathematics, a function is simply a way of relating an input value (often $x$) to an output value (sometimes $y$ or $f(x)$).  For instance, a parabola may be expressed as\n",
    "\n",
    "$$y = f(x) = x^2$$\n",
    "\n",
    "and plotted as\n",
    "\n",
    "![](./img/parabola.png)\n",
    "\n",
    "Properly speaking, the resulting curve represents the collection of ordered pairs $(x,y)$.  To plot this, we select a discrete set of points in the domain $x$ and calculate the corresponding set of values $y$.\n",
    "\n",
    "| $x$  | -1.5 | -1.25  | -1    | -0.75 | -0.5  | -0.25 | 0  | .25    | 0.5  | 0.75   | 1 | 1.25  |  1.5  |\n",
    "|--------|------|--------|-------|-------|-------|-------|----|--------|------|--------|---|-------|-------|\n",
    "| $y$ | 2.25 | 1.5625 | 1.0 | 0.5625 | 0.25 | 0.0625 |  0 | 0.0625 | 0.25 | 0.5625 | 1 | 1.5625 | 2.25 |\n",
    "\n",
    "Of course, the advantage of using a computer is that each step is easier to type than to calculate by hand.  If you had to fill in this table, even using Python it would be tedious if you had to reset the variable `x` and retype the expression for `y` by hand every time.\n",
    "\n",
    "It is very likely that any equation you will wish to use in your studies and career will be more complicated than $y = x^{2}$.  In order to minimize the amount of time typing code, as well as the likelihood of making a mistake due to repetition, we can use functions to capture the operations involved:"
   ]
  },
  {
   "cell_type": "code",
   "execution_count": 13,
   "metadata": {
    "collapsed": false
   },
   "outputs": [],
   "source": [
    "def sqr(x):\n",
    "    result = x * x\n",
    "    return result"
   ]
  },
  {
   "cell_type": "markdown",
   "metadata": {},
   "source": [
    "Now instead of typing `x**2` or `x*x` each time you need the formula, you can call the function `sqr(x)` instead.  (In this trivial case, that's actually *more* keystrokes, but the principle stands.)\n",
    "\n",
    "A more realistic candidate is the quadratic equation (as we saw implemented in lab2), or the equation for an arbitrary line, $y = mx + b$, where $m$ is the slope and $b$ is the intercept.  A function which formats a slope and intercept into a string representing a line may look like this:"
   ]
  },
  {
   "cell_type": "code",
   "execution_count": 14,
   "metadata": {
    "collapsed": false
   },
   "outputs": [],
   "source": [
    "def line_eqn(m,b):\n",
    "    return 'y = %f x + %f'%(m,b)"
   ]
  },
  {
   "cell_type": "code",
   "execution_count": 15,
   "metadata": {
    "collapsed": false
   },
   "outputs": [
    {
     "name": "stdout",
     "output_type": "stream",
     "text": [
      "y = 1.875000 x + 4.000000\n"
     ]
    }
   ],
   "source": [
    "print(line_eqn(1.875,4))"
   ]
  },
  {
   "cell_type": "markdown",
   "metadata": {},
   "source": [
    "#### `math` Library Functions"
   ]
  },
  {
   "cell_type": "markdown",
   "metadata": {},
   "source": [
    "*Modules* are collections of functions which allow you to take advantage of the collective work of the scientific and engineering community when carrying out your calculations or building your models.  One of the strengths of Python is its enormous and rich library of modules, which provide both basic and involved operations far beyond the built-in operators.\n",
    "\n",
    "Let's consider the `math` library.  To use functions like `sin`, `cos`, `exp`, and `log`, you simply need to `import math`:"
   ]
  },
  {
   "cell_type": "code",
   "execution_count": 16,
   "metadata": {
    "collapsed": true
   },
   "outputs": [],
   "source": [
    "import math"
   ]
  },
  {
   "cell_type": "markdown",
   "metadata": {},
   "source": [
    "You still need to specify *which* module contains the functions to use them, but otherwise it's quite straightforward:"
   ]
  },
  {
   "cell_type": "markdown",
   "metadata": {},
   "source": [
    "$$\n",
    "\\sin\\left(\\frac{\\pi}{4}\\right)\n",
    "$$"
   ]
  },
  {
   "cell_type": "code",
   "execution_count": 17,
   "metadata": {
    "collapsed": false
   },
   "outputs": [
    {
     "data": {
      "text/plain": [
       "0.7071067811865475"
      ]
     },
     "execution_count": 17,
     "metadata": {},
     "output_type": "execute_result"
    }
   ],
   "source": [
    "math.sin(math.pi/4)"
   ]
  },
  {
   "cell_type": "markdown",
   "metadata": {},
   "source": [
    "$$\n",
    "\\left[\\text{ceil}\\left(4.5\\right)\\right] !\n",
    "$$"
   ]
  },
  {
   "cell_type": "code",
   "execution_count": 18,
   "metadata": {
    "collapsed": false
   },
   "outputs": [
    {
     "data": {
      "text/plain": [
       "120"
      ]
     },
     "execution_count": 18,
     "metadata": {},
     "output_type": "execute_result"
    }
   ],
   "source": [
    "math.factorial(math.ceil(4.5))"
   ]
  },
  {
   "cell_type": "markdown",
   "metadata": {},
   "source": [
    "-   Write an expression for the following formula:\n",
    "    \n",
    "    $$\n",
    "    \\frac{(m+n)!}{(m+1)(n-1)!}\n",
    "    $$\n",
    "    \n",
    "    (Note that the factorial refers only to the second term of the denominator, not the entire denominator.)"
   ]
  },
  {
   "cell_type": "code",
   "execution_count": 19,
   "metadata": {
    "collapsed": true,
    "deletable": false,
    "nbgrader": {
     "checksum": "119863c24821f78cd33ea8c4ca03c97a",
     "grade": false,
     "grade_id": "form-vars",
     "locked": true,
     "solution": false
    }
   },
   "outputs": [],
   "source": [
    "# these are representative values—don't change these\n",
    "m = 2\n",
    "n = 3"
   ]
  },
  {
   "cell_type": "code",
   "execution_count": 23,
   "metadata": {
    "collapsed": false,
    "deletable": false,
    "nbgrader": {
     "checksum": "721ede83878edaf3245e2acfb05d0002",
     "grade": false,
     "grade_id": "form",
     "locked": false,
     "solution": true
    }
   },
   "outputs": [],
   "source": [
    "# write your expression here\n",
    "expr = math.factorial((m + n))/((m + 1)*(math.factorial((n-1))))# your code here"
   ]
  },
  {
   "cell_type": "code",
   "execution_count": 24,
   "metadata": {
    "collapsed": false,
    "deletable": false,
    "nbgrader": {
     "checksum": "1965afe28b76b2d38f372a135f454507",
     "grade": true,
     "grade_id": "form-test",
     "locked": true,
     "points": 1,
     "solution": false
    }
   },
   "outputs": [
    {
     "name": "stdout",
     "output_type": "stream",
     "text": [
      "Success!\n"
     ]
    }
   ],
   "source": [
    "# it should pass this test---do NOT edit this cell\n",
    "from numpy import isclose\n",
    "assert isclose(expr, 20.0)\n",
    "print('Success!')"
   ]
  },
  {
   "cell_type": "markdown",
   "metadata": {},
   "source": [
    "Some modules are quite large, and you may not want to import everything into memory at once.  In that case, you can import a single function from a module as follows:"
   ]
  },
  {
   "cell_type": "code",
   "execution_count": 25,
   "metadata": {
    "collapsed": false
   },
   "outputs": [],
   "source": [
    "from math import asin  # arcsine"
   ]
  },
  {
   "cell_type": "markdown",
   "metadata": {},
   "source": [
    "-   What line of Python code could you write to import `log10` from `math`?  (This is the logarithm base 10, $\\log_{10}(x)$.)"
   ]
  },
  {
   "cell_type": "code",
   "execution_count": 26,
   "metadata": {
    "collapsed": false,
    "deletable": false,
    "nbgrader": {
     "checksum": "8820498e32df89d3a2282e2f150f7cbd",
     "grade": false,
     "grade_id": "import",
     "locked": false,
     "solution": true
    }
   },
   "outputs": [],
   "source": [
    "from math import log10# write your expression here"
   ]
  },
  {
   "cell_type": "code",
   "execution_count": 27,
   "metadata": {
    "collapsed": false,
    "deletable": false,
    "nbgrader": {
     "checksum": "2736d96ada32ee0785ac6f68f8e4da51",
     "grade": true,
     "grade_id": "import-test",
     "locked": true,
     "points": 1,
     "solution": false
    }
   },
   "outputs": [
    {
     "name": "stdout",
     "output_type": "stream",
     "text": [
      "Success!\n"
     ]
    }
   ],
   "source": [
    "# it should pass this test---do NOT edit this cell\n",
    "from numpy import isclose\n",
    "try:\n",
    "    log10(0.25)\n",
    "except NameError:\n",
    "    raise AssertionError('log10 not imported yet')\n",
    "print('Success!')"
   ]
  },
  {
   "cell_type": "markdown",
   "metadata": {},
   "source": [
    "### Application:  Cardinal Sine Function"
   ]
  },
  {
   "cell_type": "markdown",
   "metadata": {
    "collapsed": false
   },
   "source": [
    "The bread and butter of working effectively in Python is writing your own functions.\n",
    "\n",
    "Consider the *cardinal sine function*, $\\text{sinc}(x)$, which is used in signal processing by electrical engineers.\n",
    "\n",
    "$$\\text{sinc}(x) = \\frac{\\sin(x)}{x}$$\n",
    "\n",
    "![](https://upload.wikimedia.org/wikipedia/commons/thumb/5/59/Si_sinc.svg/700px-Si_sinc.svg.png)\n",
    "\n",
    "To compose a function which reproduces this behavior for an arbitrary number, we could simply define:"
   ]
  },
  {
   "cell_type": "code",
   "execution_count": 28,
   "metadata": {
    "collapsed": false
   },
   "outputs": [],
   "source": [
    "from math import sin\n",
    "def sinc(x):\n",
    "    y = sin(x) / x\n",
    "    return y"
   ]
  },
  {
   "cell_type": "markdown",
   "metadata": {},
   "source": [
    "This short function simply creates a new variable `y` which contains the result of `sin(x)/x` evaluated for the actual value of `x`.  The `return` statement tells Python what the function gives back—in this case, the value of `y`."
   ]
  },
  {
   "cell_type": "code",
   "execution_count": 29,
   "metadata": {
    "collapsed": false,
    "nbgrader": {
     "grade": false,
     "locked": false,
     "points": 0,
     "solution": false
    }
   },
   "outputs": [
    {
     "data": {
      "text/plain": [
       "0.6649966577360363"
      ]
     },
     "execution_count": 29,
     "metadata": {},
     "output_type": "execute_result"
    }
   ],
   "source": [
    "sinc(1.5)"
   ]
  },
  {
   "cell_type": "code",
   "execution_count": 30,
   "metadata": {
    "collapsed": false
   },
   "outputs": [
    {
     "data": {
      "text/plain": [
       "2.949342341572187e-05"
      ]
     },
     "execution_count": 30,
     "metadata": {},
     "output_type": "execute_result"
    }
   ],
   "source": [
    "sinc(3.1415)"
   ]
  },
  {
   "cell_type": "markdown",
   "metadata": {},
   "source": [
    "Critically, *the name of the variable OUTSIDE of `sinc` is not related to the name of the variable INSIDE `sinc`*.  (We say that they inhabit different *scopes*.)  Consider this:"
   ]
  },
  {
   "cell_type": "code",
   "execution_count": 31,
   "metadata": {
    "collapsed": false,
    "nbgrader": {
     "grade": false,
     "locked": false,
     "points": 1,
     "solution": false
    }
   },
   "outputs": [
    {
     "data": {
      "text/plain": [
       "-0.1917848549326277"
      ]
     },
     "execution_count": 31,
     "metadata": {},
     "output_type": "execute_result"
    }
   ],
   "source": [
    "y = 5.0\n",
    "sinc(y)"
   ]
  },
  {
   "cell_type": "markdown",
   "metadata": {},
   "source": [
    "-   For what value of input `x` does `sinc` fail?  (You can find this by experiment or inspection.)"
   ]
  },
  {
   "cell_type": "code",
   "execution_count": 32,
   "metadata": {
    "collapsed": false,
    "deletable": false,
    "nbgrader": {
     "checksum": "2861f64d415279a9888ff519a2ee094e",
     "grade": true,
     "grade_id": "divbyzero",
     "locked": false,
     "points": 1,
     "solution": true
    }
   },
   "outputs": [
    {
     "data": {
      "text/plain": [
       "0.0"
      ]
     },
     "execution_count": 32,
     "metadata": {},
     "output_type": "execute_result"
    }
   ],
   "source": [
    "(0.0)# your answer here, in the form of a float (e.g., 1.0)"
   ]
  },
  {
   "cell_type": "markdown",
   "metadata": {},
   "source": [
    "<div class=\"alert alert-warning\">\n",
    "<p>\n",
    "The `y` in the scope outside of the function is equal to `5.0`, whereas inside of the function `sinc` the same *value* is referred to as `x`, and `y` means something else.\n",
    "</p><p>\n",
    "You can call variables any valid name you like, but it's generally good practice to name it something clear in context.  That is,\n",
    "    \n",
    "    <pre><code>def sinc(number_of_calabazas):\n",
    "        return sin(number_of_calabazas) / number_of_calabazas\n",
    "</code></pre>\n",
    "is a little too bohemian to represent good programming style.  **Responsible variable names reflect their use.**\n",
    "</p>\n",
    "</div>"
   ]
  },
  {
   "cell_type": "markdown",
   "metadata": {},
   "source": [
    "### Application:  Atmospheric Pressure"
   ]
  },
  {
   "cell_type": "markdown",
   "metadata": {},
   "source": [
    "A mercury barometer is frequently used to precisely measure the atmospheric pressure.  The height $h$ of a column of mercury adjusts to a point where its weight plus force due to the mercury vapor pressure $p_{\\text{vapor}}$ balances the force due to the external atmospheric pressure $p_{\\text{atm}}$.  Mathematically, we write,\n",
    "\n",
    "$$p_{\\text{atm}} = \\gamma h + p_{\\text{vapor}}$$\n",
    "\n",
    "where $\\gamma$ is the specific weight of mercury.  In SI units, $\\gamma = 133 \\times 10^{3} \\,\\text{N}\\cdot\\text{m}^{-3}$.  The vapor pressure of mercury is typically very small in relation to the other values, so we can safely neglect it ($\\left. p_{\\text{vapor}} \\right|_{T=25 ^{\\circ}\\text{C}} = 26.13 Pa$)<sup>[[NISTIR 6643](http://www.boulder.nist.gov/div838/SelectedPubs/NISTIR.6643.pdf)]</sup>.  A function which calculates the atmospheric pressure given the height of a column of mercury, then, is:"
   ]
  },
  {
   "cell_type": "code",
   "execution_count": 33,
   "metadata": {
    "collapsed": true
   },
   "outputs": [],
   "source": [
    "def p_pa(h_Hg):\n",
    "    # Calculate and return the atmospheric pressure (in Pa) given the height\n",
    "    # of a column of mercury (in m).\n",
    "    gamma = 133e3       # N/m^-3\n",
    "    P = gamma * h_Hg    # Pa\n",
    "    return P"
   ]
  },
  {
   "cell_type": "code",
   "execution_count": 34,
   "metadata": {
    "collapsed": false
   },
   "outputs": [
    {
     "data": {
      "text/plain": [
       "79534.0"
      ]
     },
     "execution_count": 34,
     "metadata": {},
     "output_type": "execute_result"
    }
   ],
   "source": [
    "p_pa(0.598)  # The atmospheric pressure in pascals for 598 mmHg."
   ]
  },
  {
   "cell_type": "code",
   "execution_count": 35,
   "metadata": {
    "collapsed": false
   },
   "outputs": [
    {
     "data": {
      "text/plain": [
       "0.7849395509499136"
      ]
     },
     "execution_count": 35,
     "metadata": {},
     "output_type": "execute_result"
    }
   ],
   "source": [
    "p_pa(0.598) / 101325  # The atmospheric pressure in the units of standard atmosphere for 598 mmHg."
   ]
  },
  {
   "cell_type": "markdown",
   "metadata": {},
   "source": [
    "We will now introduce the `input` function, which lets you supply a message and ask the user for a value.  (This value then needs to be converted from a string to a `float`.)"
   ]
  },
  {
   "cell_type": "code",
   "execution_count": 36,
   "metadata": {
    "collapsed": false
   },
   "outputs": [
    {
     "name": "stdout",
     "output_type": "stream",
     "text": [
      "Give the height of the column of mercury in m:.5\n",
      "The result is 66500.000000 pascals.\n"
     ]
    }
   ],
   "source": [
    "h_str = input('Give the height of the column of mercury in m:')\n",
    "h = float(h_str) # convert to a floating-point number\n",
    "print('The result is %f pascals.' % p_pa(h))"
   ]
  },
  {
   "cell_type": "markdown",
   "metadata": {},
   "source": [
    "-   Create a function `p_atm` which accepts the height of a column of mercury and returns the atmospheric pressure in standard atmospheres (demonstrated a couple of cells above this).  (This is equal to the pressure in pascals divided by $101\\,325\\,\\text{Pa}/\\text{atm}$.  You may accomplish this by either calling `p_pa` and dividing by 101325 or by doing the calculation directly.)"
   ]
  },
  {
   "cell_type": "code",
   "execution_count": 37,
   "metadata": {
    "collapsed": false,
    "deletable": false,
    "nbgrader": {
     "checksum": "b3ffd2373140d3c2cec2a1924c1dd180",
     "grade": false,
     "grade_id": "mercury",
     "locked": false,
     "solution": true
    }
   },
   "outputs": [],
   "source": [
    "def p_atm(h):\n",
    "    gamma= 133e3\n",
    "    P = (gamma* h)/101325\n",
    "    return P# define your function here---you can copy and paste from above, or write your own from scratch"
   ]
  },
  {
   "cell_type": "code",
   "execution_count": 38,
   "metadata": {
    "collapsed": false,
    "deletable": false,
    "nbgrader": {
     "checksum": "afb501d727c131cc5069e122f997a4e7",
     "grade": true,
     "grade_id": "mercury-test",
     "locked": true,
     "points": 1,
     "solution": false
    }
   },
   "outputs": [
    {
     "name": "stdout",
     "output_type": "stream",
     "text": [
      "Success!\n"
     ]
    }
   ],
   "source": [
    "# it should pass this test---do NOT edit this cell\n",
    "from numpy import isclose\n",
    "assert isclose(p_atm(1.00), 1.3126079447322971)\n",
    "print('Success!')"
   ]
  },
  {
   "cell_type": "markdown",
   "metadata": {
    "collapsed": true
   },
   "source": [
    "### Application:  The U.S.D.O.T. Bridge Formula"
   ]
  },
  {
   "cell_type": "markdown",
   "metadata": {
    "collapsed": false
   },
   "source": [
    "The United States Department of Transportation, as part of its stewardship of the U.S. interstate highway system, maintains code standards for bridge construction.  As a metric for preserving shipping infrastructure, the DOT uses the bridge formula<sup>[[DOT2014](http://ops.fhwa.dot.gov/freight/sw/brdgcalc/calc_page.htm)]</sup> to limit the legal weight-to-length ratio for freight-laden vehicles crossing a bridge.  In simplified form, the bridge formula is\n",
    "\n",
    "$$W = 500 \\left( \\frac{LN}{N-1} + 12N + 36 \\right)$$\n",
    "\n",
    "where\n",
    "\n",
    "-   $W$ is the overall gross weight on any group of consecutive axles;\n",
    "-   $L$ is the distance in feet between the outer axles of any group of consecutive axles; and\n",
    "-   $N$ is the number of axles in the group under consideration.\n",
    "\n",
    "This prevents short trucks with heavy loads from damaging bridges.\n",
    "\n",
    "![](http://ops.fhwa.dot.gov/Freight/publications/brdg_frm_wghts/images/fig1.gif)\n",
    "\n",
    "You will implement this formula as a function and use it to answer the following questions."
   ]
  },
  {
   "cell_type": "markdown",
   "metadata": {},
   "source": [
    "-   Complete the function `bridge_formula` by adding lines of code to accomplish both tasks indicated."
   ]
  },
  {
   "cell_type": "code",
   "execution_count": 43,
   "metadata": {
    "collapsed": false,
    "deletable": false,
    "nbgrader": {
     "checksum": "d000ebb5826db82696b04eeb46870491",
     "grade": false,
     "grade_id": "dot",
     "locked": false,
     "solution": true
    }
   },
   "outputs": [],
   "source": [
    "def bridge_formula(L, N):\n",
    "    '''\n",
    "    Calculate bridge weight in accordance with federal law.\n",
    "\n",
    "    Args:\n",
    "        L:  distance between groups of consecutive axles, ft\n",
    "        N:  number of axles in group under consideration\n",
    "    Returns:\n",
    "        W:  overall gross weight on any group of consecutive axles, lb\n",
    "    '''\n",
    "\n",
    "    # Calculate the bridge formula's weight W using L and N.\n",
    "    W = 500*(((L*N)/(N-1)) + 12*N + 36)# ... your code here ...\n",
    "\n",
    "    # Return the resulting weight W.\n",
    "    return W# ... your code here ..."
   ]
  },
  {
   "cell_type": "markdown",
   "metadata": {},
   "source": [
    "As a test of your function, the following values are correct:  $L = 51$, $N = 5$, $W = 79,500$.  (This describes a $51'$, 5-axle semi which is legally allowed to carry $79,500 \\,\\text{lb}$, including freight and truck weight—in practice, U.S.D.O.T. rounds to $80,000$ but we won't worry about that layer of complexity here.)"
   ]
  },
  {
   "cell_type": "code",
   "execution_count": 44,
   "metadata": {
    "collapsed": false,
    "deletable": false,
    "nbgrader": {
     "checksum": "2277975a1a6f73ed0ba21e5b5be7f992",
     "grade": true,
     "grade_id": "dot-test1",
     "locked": true,
     "points": 1,
     "solution": false
    }
   },
   "outputs": [
    {
     "name": "stdout",
     "output_type": "stream",
     "text": [
      "Success!\n"
     ]
    }
   ],
   "source": [
    "# it should pass this test---do NOT edit this cell\n",
    "assert bridge_formula(51, 5) == 79875\n",
    "print('Success!')"
   ]
  },
  {
   "cell_type": "code",
   "execution_count": 45,
   "metadata": {
    "collapsed": false,
    "deletable": false,
    "nbgrader": {
     "checksum": "0e93d63f993d892fd219c9d56e10187f",
     "grade": true,
     "grade_id": "dot-test2",
     "locked": true,
     "points": 1,
     "solution": false
    }
   },
   "outputs": [
    {
     "name": "stdout",
     "output_type": "stream",
     "text": [
      "Success!\n"
     ]
    }
   ],
   "source": [
    "# it should pass this test---do NOT edit this cell\n",
    "assert bridge_formula(20,3) == 51000\n",
    "print('Success!')"
   ]
  },
  {
   "cell_type": "markdown",
   "metadata": {},
   "source": [
    "### How to divide your code logically"
   ]
  },
  {
   "cell_type": "code",
   "execution_count": 46,
   "metadata": {
    "collapsed": false
   },
   "outputs": [
    {
     "name": "stdout",
     "output_type": "stream",
     "text": [
      "WARNING:   Keyboard not responding. Press any key to continue.\n"
     ]
    }
   ],
   "source": [
    "def warn(msg):\n",
    "    print('WARNING:  ', msg)\n",
    "\n",
    "warn('Keyboard not responding. Press any key to continue.')"
   ]
  },
  {
   "cell_type": "markdown",
   "metadata": {
    "collapsed": false,
    "nbgrader": {
     "grade": false,
     "locked": false,
     "points": 2,
     "solution": false
    }
   },
   "source": [
    "### How to manipulate strings"
   ]
  },
  {
   "cell_type": "markdown",
   "metadata": {},
   "source": [
    "One of the elegant notions of programming is that programming helps generalize the idea of function beyond just manipulating numbers.  What about other data types—in particular, the other data type we've examined thus far, the string?  Python does have a lot of basic string manipulation functions."
   ]
  },
  {
   "cell_type": "code",
   "execution_count": 47,
   "metadata": {
    "collapsed": true
   },
   "outputs": [],
   "source": [
    "myStr = 'Mr. Jock, TV quiz PhD, bags few lynx.  '"
   ]
  },
  {
   "cell_type": "code",
   "execution_count": 48,
   "metadata": {
    "collapsed": false
   },
   "outputs": [
    {
     "data": {
      "text/plain": [
       "39"
      ]
     },
     "execution_count": 48,
     "metadata": {},
     "output_type": "execute_result"
    }
   ],
   "source": [
    "len(myStr)              # counts number of characters in myStr"
   ]
  },
  {
   "cell_type": "code",
   "execution_count": 49,
   "metadata": {
    "collapsed": false
   },
   "outputs": [
    {
     "data": {
      "text/plain": [
       "1"
      ]
     },
     "execution_count": 49,
     "metadata": {},
     "output_type": "execute_result"
    }
   ],
   "source": [
    "myStr.count('x')        # counts number of occurrences of 'x' in myStr"
   ]
  },
  {
   "cell_type": "code",
   "execution_count": 50,
   "metadata": {
    "collapsed": false
   },
   "outputs": [
    {
     "data": {
      "text/plain": [
       "35"
      ]
     },
     "execution_count": 50,
     "metadata": {},
     "output_type": "execute_result"
    }
   ],
   "source": [
    "myStr.find('x')         # returns position of character 'x'"
   ]
  },
  {
   "cell_type": "code",
   "execution_count": 51,
   "metadata": {
    "collapsed": false
   },
   "outputs": [
    {
     "data": {
      "text/plain": [
       "'mr. jock, tv quiz phd, bags few lynx.  '"
      ]
     },
     "execution_count": 51,
     "metadata": {},
     "output_type": "execute_result"
    }
   ],
   "source": [
    "myStr.lower()           # returns myStr as lower-case letters"
   ]
  },
  {
   "cell_type": "code",
   "execution_count": 52,
   "metadata": {
    "collapsed": false
   },
   "outputs": [
    {
     "data": {
      "text/plain": [
       "'MR. JOCK, TV QUIZ PHD, BAGS FEW LYNX.  '"
      ]
     },
     "execution_count": 52,
     "metadata": {},
     "output_type": "execute_result"
    }
   ],
   "source": [
    "myStr.upper()           # returns myStr as upper-case letters"
   ]
  },
  {
   "cell_type": "code",
   "execution_count": 53,
   "metadata": {
    "collapsed": false
   },
   "outputs": [
    {
     "data": {
      "text/plain": [
       "'Mr. Jock, Tv Quiz Phd, Bags Few Lynx.  '"
      ]
     },
     "execution_count": 53,
     "metadata": {},
     "output_type": "execute_result"
    }
   ],
   "source": [
    "myStr.title()           # returns myStr as title-case letters"
   ]
  },
  {
   "cell_type": "code",
   "execution_count": 54,
   "metadata": {
    "collapsed": false
   },
   "outputs": [
    {
     "data": {
      "text/plain": [
       "'Mr. Jock, TV quiz PhD, bbgs few lynx.  '"
      ]
     },
     "execution_count": 54,
     "metadata": {},
     "output_type": "execute_result"
    }
   ],
   "source": [
    "myStr.replace('a', 'b') # replaces all occurrences of a with b in myStr"
   ]
  },
  {
   "cell_type": "code",
   "execution_count": 55,
   "metadata": {
    "collapsed": false
   },
   "outputs": [
    {
     "data": {
      "text/plain": [
       "'Mr. Jock, TV quiz PhD, bags few lynx.'"
      ]
     },
     "execution_count": 55,
     "metadata": {},
     "output_type": "execute_result"
    }
   ],
   "source": [
    "myStr.strip()           # removes leading/trailing white space from myStr"
   ]
  },
  {
   "cell_type": "markdown",
   "metadata": {},
   "source": [
    "Note that `myStr` itself never changes—functions like `upper` *return a copy* of `myStr` with the requested change made."
   ]
  },
  {
   "cell_type": "markdown",
   "metadata": {},
   "source": [
    "String methods are also *composable*—that is, you can put them together to carry out more complex operations:"
   ]
  },
  {
   "cell_type": "code",
   "execution_count": 56,
   "metadata": {
    "collapsed": false
   },
   "outputs": [
    {
     "data": {
      "text/plain": [
       "'Mr.-Jock,-TV-quiz-PhD,-bags-few-lynx.'"
      ]
     },
     "execution_count": 56,
     "metadata": {},
     "output_type": "execute_result"
    }
   ],
   "source": [
    "myStr.strip().replace(' ', '-')"
   ]
  },
  {
   "cell_type": "code",
   "execution_count": 57,
   "metadata": {
    "collapsed": false
   },
   "outputs": [
    {
     "data": {
      "text/plain": [
       "'Mr.-Jock,-TV-quiz-PhD,-bags-few-lynx.--'"
      ]
     },
     "execution_count": 57,
     "metadata": {},
     "output_type": "execute_result"
    }
   ],
   "source": [
    "myStr.replace(' ', '-').strip()"
   ]
  },
  {
   "cell_type": "markdown",
   "metadata": {},
   "source": [
    "Now answer these questions *using the string methods given above*:"
   ]
  },
  {
   "cell_type": "code",
   "execution_count": 58,
   "metadata": {
    "collapsed": true
   },
   "outputs": [],
   "source": [
    "quip = '\"Sometimes I wonder whether the world is being run by smart people who are putting us on, or by imbeciles who really mean it.\" (Mark Twain)'"
   ]
  },
  {
   "cell_type": "markdown",
   "metadata": {},
   "source": [
    "-   How long is `quip`?"
   ]
  },
  {
   "cell_type": "code",
   "execution_count": 59,
   "metadata": {
    "collapsed": true,
    "deletable": false,
    "nbgrader": {
     "checksum": "0a5da87b49ef7e2bdeef2a2faf01c42b",
     "grade": true,
     "grade_id": "quip1",
     "locked": false,
     "points": 1,
     "solution": true
    }
   },
   "outputs": [],
   "source": [
    "# your answer here\n",
    "ans = len(quip)"
   ]
  },
  {
   "cell_type": "markdown",
   "metadata": {},
   "source": [
    "-   How many times does `'b'` occur in this phrase?"
   ]
  },
  {
   "cell_type": "code",
   "execution_count": 60,
   "metadata": {
    "collapsed": true,
    "deletable": false,
    "nbgrader": {
     "checksum": "26eea9d4d9af8c1201710fdd893f2c1b",
     "grade": true,
     "grade_id": "quip2",
     "locked": false,
     "points": 1,
     "solution": true
    }
   },
   "outputs": [],
   "source": [
    "# your answer here\n",
    "ans = quip.count('b')"
   ]
  },
  {
   "cell_type": "markdown",
   "metadata": {},
   "source": [
    "-   How many times does `' '` occur?"
   ]
  },
  {
   "cell_type": "code",
   "execution_count": 61,
   "metadata": {
    "collapsed": true,
    "deletable": false,
    "nbgrader": {
     "checksum": "b9403f41b2032ab7b1df6bf11102b5ed",
     "grade": true,
     "grade_id": "quip3",
     "locked": false,
     "points": 1,
     "solution": true
    }
   },
   "outputs": [],
   "source": [
    "# your answer here\n",
    "ans = quip.count(' ')"
   ]
  },
  {
   "cell_type": "markdown",
   "metadata": {},
   "source": [
    "-   Replace all instances of `' '` with `'a'`.  Now how many times does `'a'` occur?  (You can do this using an intermediate variable or by composing the operations as above.)"
   ]
  },
  {
   "cell_type": "code",
   "execution_count": 62,
   "metadata": {
    "collapsed": true,
    "deletable": false,
    "nbgrader": {
     "checksum": "82450b1f0997e0584b141c0fd2edcec7",
     "grade": true,
     "grade_id": "quip4",
     "locked": false,
     "points": 1,
     "solution": true
    }
   },
   "outputs": [],
   "source": [
    "# your answer here\n",
    "ans = quip.replace(' ','a').count('a')"
   ]
  },
  {
   "cell_type": "markdown",
   "metadata": {},
   "source": [
    "Finally, let's close out this section with a teaser for the `list`, which we discuss in lecture 7.  Try these:"
   ]
  },
  {
   "cell_type": "code",
   "execution_count": 63,
   "metadata": {
    "collapsed": false
   },
   "outputs": [
    {
     "data": {
      "text/plain": [
       "['\"Sometimes',\n",
       " 'I',\n",
       " 'wonder',\n",
       " 'whether',\n",
       " 'the',\n",
       " 'world',\n",
       " 'is',\n",
       " 'being',\n",
       " 'run',\n",
       " 'by',\n",
       " 'smart',\n",
       " 'people',\n",
       " 'who',\n",
       " 'are',\n",
       " 'putting',\n",
       " 'us',\n",
       " 'on,',\n",
       " 'or',\n",
       " 'by',\n",
       " 'imbeciles',\n",
       " 'who',\n",
       " 'really',\n",
       " 'mean',\n",
       " 'it.\"',\n",
       " '(Mark',\n",
       " 'Twain)']"
      ]
     },
     "execution_count": 63,
     "metadata": {},
     "output_type": "execute_result"
    }
   ],
   "source": [
    "quip.split(' ')"
   ]
  },
  {
   "cell_type": "code",
   "execution_count": 64,
   "metadata": {
    "collapsed": false
   },
   "outputs": [
    {
     "data": {
      "text/plain": [
       "['Mr. Jock', ' TV quiz PhD', ' bags few lynx.  ']"
      ]
     },
     "execution_count": 64,
     "metadata": {},
     "output_type": "execute_result"
    }
   ],
   "source": [
    "myStr.split(',')"
   ]
  },
  {
   "cell_type": "markdown",
   "metadata": {},
   "source": [
    "These break the string along the fault lines specified, or the *delimiters* `' '` and `','`, and return the result as a collection of strings known as a list."
   ]
  },
  {
   "cell_type": "markdown",
   "metadata": {},
   "source": [
    "-   Convert the string `' Time present and time past / Are both perhaps present in time future '` into the string `'Tim3_Pr3S3Nt_And_Tim3_Past_/_Ar3_Both_P3Rhaps_Pr3S3Nt_In_Tim3_Futur3'` using only the above functions.  You should only require four functions, but may take more if necessary.  The final result should be stored in the variable `ans`."
   ]
  },
  {
   "cell_type": "code",
   "execution_count": 74,
   "metadata": {
    "collapsed": false,
    "deletable": false,
    "nbgrader": {
     "checksum": "08de00716f650b0040a2fa053467876a",
     "grade": false,
     "grade_id": "xform",
     "locked": false,
     "solution": true
    }
   },
   "outputs": [],
   "source": [
    "# your code here\n",
    "start = ' Time present and time past / Are both perhaps present in time future '\n",
    "ans = start.strip().replace('e','3').replace(' ','_').title()"
   ]
  },
  {
   "cell_type": "code",
   "execution_count": 75,
   "metadata": {
    "collapsed": false,
    "deletable": false,
    "nbgrader": {
     "checksum": "528bc65c7e101ac68363f62fa82d1a48",
     "grade": true,
     "grade_id": "xform-test",
     "locked": true,
     "points": 1,
     "solution": false
    }
   },
   "outputs": [
    {
     "name": "stdout",
     "output_type": "stream",
     "text": [
      "Success!\n"
     ]
    }
   ],
   "source": [
    "# it should pass this test---do NOT edit this cell\n",
    "assert ans == 'Tim3_Pr3S3Nt_And_Tim3_Past_/_Ar3_Both_P3Rhaps_Pr3S3Nt_In_Tim3_Futur3'\n",
    "print('Success!')"
   ]
  },
  {
   "cell_type": "markdown",
   "metadata": {},
   "source": [
    "\n",
    "# Before you submit..."
   ]
  },
  {
   "cell_type": "markdown",
   "metadata": {},
   "source": [
    "Before you submit this exercise, make sure that everything runs as expected.  You can either use the *Validate* button on the *Assignments* tab or type `nbgrader validate labX` at the command line.  **You should also *save* before submitting.**\n",
    "\n",
    "Make sure that you have filled in any code block which says \"YOUR CODE HERE\" or \"YOUR ANSWER HERE\".\n",
    "\n",
    "List any resources used (beyond the TA or the help files):"
   ]
  },
  {
   "cell_type": "markdown",
   "metadata": {
    "collapsed": true
   },
   "source": []
  },
  {
   "cell_type": "markdown",
   "metadata": {},
   "source": [
    "This laboratory exercise was written by Neal Davis for Computer Science 101 at the University of Illinois.\n",
    "\n",
    "©2015–16 University of Illinois\n",
    "\n",
    "![](./cs101-footer.png)"
   ]
  }
 ],
 "metadata": {
  "kernelspec": {
   "display_name": "Python 3",
   "language": "python",
   "name": "python3"
  },
  "language_info": {
   "codemirror_mode": {
    "name": "ipython",
    "version": 3
   },
   "file_extension": ".py",
   "mimetype": "text/x-python",
   "name": "python",
   "nbconvert_exporter": "python",
   "pygments_lexer": "ipython3",
   "version": "3.4.1"
  }
 },
 "nbformat": 4,
 "nbformat_minor": 0
}
