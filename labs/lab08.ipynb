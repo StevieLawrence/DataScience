{
 "cells": [
  {
   "cell_type": "markdown",
   "metadata": {},
   "source": [
    "# CS 101:  Introduction to Computing for Science and Engineering"
   ]
  },
  {
   "cell_type": "markdown",
   "metadata": {},
   "source": [
    "## `lab08`—Debugging"
   ]
  },
  {
   "cell_type": "markdown",
   "metadata": {},
   "source": [
    "Objectives\n",
    "\n",
    "-   Learn how to debug code using a standard process of investigation.\n",
    "-   Assess peer code to identify strengths and weaknesses.\n",
    "\n",
    "This activity-based lab will challenge you to apply a flowchart process to debug codes so that they perform as intended.  The lab is divided into two segments:  Debugging and Peer Assessment.\n",
    "\n",
    "Because portions of this lab are individual, you should record your work and submit your own notebook for the lab grade."
   ]
  },
  {
   "cell_type": "markdown",
   "metadata": {},
   "source": [
    "### Debugging Activity"
   ]
  },
  {
   "cell_type": "markdown",
   "metadata": {},
   "source": [
    "The first part of the lab, Debugging, will ask you to examine a code with a stated objective.  Unfortunately, this code was sloppily written and several bugs were introduced during its composition.  Your goal is to identify and correct all of those bugs.  You will have 15 minutes (timed) to work on identifying and fixing bugs alone, and then 5 minutes with a team of three students to finish it up.  The TA then has 5 minutes to clear up any questions that arose.  After the first code (total twenty-five minutes), we will repeat this with a different code for the same times.\n",
    "\n",
    "---\n",
    "\n",
    "Wait for your TA to start the timer and then you may proceed to work on debugging the following code."
   ]
  },
  {
   "cell_type": "code",
   "execution_count": 7,
   "metadata": {
    "collapsed": false
   },
   "outputs": [
    {
     "name": "stdout",
     "output_type": "stream",
     "text": [
      "a=10\n",
      "The divisors of 10 are:\n",
      "10\n",
      "5\n"
     ]
    }
   ],
   "source": [
    "# This code should accept a positive nonzero integer from the user.\n",
    "# It should then calculate all integral factors of that number.\n",
    "\n",
    "# The following code contains NOT LESS THAN FIVE bugs.\n",
    "# It should pass the following test cases:\n",
    "#   100 -> 100, 50, 25, 20, 5, 4, 2, 1\n",
    "#   69 -> 69, 23, 3, 1\n",
    "#   14.5 -> should be rejected (not raise exception)\n",
    "#   a -> should be rejected (not raise exception)\n",
    "#   0 -> should be rejected (not raise exception)\n",
    "\n",
    "def is_divisible( a, b ):\n",
    "    \"\"\"\n",
    "    Determine if integer a is divisible by integer b.\n",
    "    \"\"\"\n",
    "\n",
    "\n",
    "    remainder = a % b\n",
    "\n",
    "    # if remainder is zero, then a is divisible by b\n",
    "    return remainder == 0\n",
    "\n",
    "def find_divisors( integer ):\n",
    "    \"\"\"\n",
    "    Find all divisors of an integer and return them as a list.\n",
    "    \"\"\"\n",
    "\n",
    "    divisors = []\n",
    "    # we know that an integer divides itself\n",
    "    divisors.append(integer)\n",
    "\n",
    "    # we also know that the biggest divisor other than the integer\n",
    "    # itself must be at most half the value of the integer\n",
    "    divisor = integer / 2\n",
    "\n",
    "    while divisor > 0:\n",
    "        if is_divisible(integer, divisor):\n",
    "            divisors.append(int(divisor))\n",
    "            divisor = divisor - 1\n",
    "\n",
    "        return divisors\n",
    "\n",
    "def main():\n",
    "    input_a = input('a=')\n",
    "\n",
    "    # do some checking of the user's input\n",
    "    # is it a number?\n",
    "    if input_a.isdigit():\n",
    "        a = int(input_a)\n",
    "    else:\n",
    "        print( 'Please enter an integer.' )\n",
    "        input_a = input('a=')\n",
    "\n",
    "    # is it nonnegative?\n",
    "    if a < 0:\n",
    "        print( 'The number should be nonnegative.' )\n",
    "\n",
    "    divisors = find_divisors( a )\n",
    "\n",
    "    # print the results\n",
    "    print( \"The divisors of %i are:\" % a )\n",
    "    for divisor in divisors:\n",
    "        print ( int(divisor) )\n",
    "\n",
    "# This is the main entry point of the program.\n",
    "if __name__ == '__main__':\n",
    "    main()"
   ]
  },
  {
   "cell_type": "code",
   "execution_count": 1,
   "metadata": {
    "collapsed": false
   },
   "outputs": [
    {
     "ename": "NameError",
     "evalue": "name 'find_divisors' is not defined",
     "output_type": "error",
     "traceback": [
      "\u001b[0;31m---------------------------------------------------------------------------\u001b[0m",
      "\u001b[0;31mNameError\u001b[0m                                 Traceback (most recent call last)",
      "\u001b[0;32m<ipython-input-1-1b2e24df2773>\u001b[0m in \u001b[0;36m<module>\u001b[0;34m()\u001b[0m\n\u001b[0;32m----> 1\u001b[0;31m \u001b[0mfind_divisors\u001b[0m\u001b[0;34m(\u001b[0m\u001b[0;36m10\u001b[0m\u001b[0;34m)\u001b[0m\u001b[0;31m# test the code here if necessary\u001b[0m\u001b[0;34m\u001b[0m\u001b[0m\n\u001b[0m",
      "\u001b[0;31mNameError\u001b[0m: name 'find_divisors' is not defined"
     ]
    }
   ],
   "source": [
    "find_divisors(10)# test the code here if necessary"
   ]
  },
  {
   "cell_type": "markdown",
   "metadata": {},
   "source": [
    "---\n",
    "\n",
    "Wait for the TA to announce that you're ready, and then take a shot at debugging this code as well.  This one has fewer bugs, but they're more subtle and you should take a close look at intermediate data values (use `print` generously).\n",
    "\n",
    "Again, 15 minutes alone, 5 together, 5 to discuss."
   ]
  },
  {
   "cell_type": "code",
   "execution_count": 3,
   "metadata": {
    "collapsed": false
   },
   "outputs": [
    {
     "ename": "ValueError",
     "evalue": "could not convert string to float: ','",
     "output_type": "error",
     "traceback": [
      "\u001b[0;31m---------------------------------------------------------------------------\u001b[0m",
      "\u001b[0;31mValueError\u001b[0m                                Traceback (most recent call last)",
      "\u001b[0;32m<ipython-input-3-e1ded6792a7a>\u001b[0m in \u001b[0;36m<module>\u001b[0;34m()\u001b[0m\n\u001b[1;32m     71\u001b[0m \u001b[0;31m# This is the main entry point of the program.\u001b[0m\u001b[0;34m\u001b[0m\u001b[0;34m\u001b[0m\u001b[0m\n\u001b[1;32m     72\u001b[0m \u001b[0;32mif\u001b[0m \u001b[0m__name__\u001b[0m \u001b[0;34m==\u001b[0m \u001b[0;34m'__main__'\u001b[0m\u001b[0;34m:\u001b[0m\u001b[0;34m\u001b[0m\u001b[0m\n\u001b[0;32m---> 73\u001b[0;31m     \u001b[0mmain\u001b[0m\u001b[0;34m(\u001b[0m\u001b[0;34m)\u001b[0m\u001b[0;34m\u001b[0m\u001b[0m\n\u001b[0m",
      "\u001b[0;32m<ipython-input-3-e1ded6792a7a>\u001b[0m in \u001b[0;36mmain\u001b[0;34m()\u001b[0m\n\u001b[1;32m     47\u001b[0m         \u001b[0mline\u001b[0m\u001b[0;34m.\u001b[0m\u001b[0msplit\u001b[0m\u001b[0;34m(\u001b[0m \u001b[0;34m','\u001b[0m \u001b[0;34m)\u001b[0m\u001b[0;34m\u001b[0m\u001b[0m\n\u001b[1;32m     48\u001b[0m         \u001b[0;31m# store duration as float\u001b[0m\u001b[0;34m\u001b[0m\u001b[0;34m\u001b[0m\u001b[0m\n\u001b[0;32m---> 49\u001b[0;31m         \u001b[0mdurations\u001b[0m\u001b[0;34m[\u001b[0m \u001b[0mline\u001b[0m\u001b[0;34m[\u001b[0m \u001b[0;36m0\u001b[0m \u001b[0;34m]\u001b[0m \u001b[0;34m]\u001b[0m \u001b[0;34m=\u001b[0m \u001b[0mfloat\u001b[0m\u001b[0;34m(\u001b[0m\u001b[0mline\u001b[0m\u001b[0;34m[\u001b[0m \u001b[0;36m1\u001b[0m \u001b[0;34m]\u001b[0m\u001b[0;34m)\u001b[0m\u001b[0;34m\u001b[0m\u001b[0m\n\u001b[0m\u001b[1;32m     50\u001b[0m         \u001b[0;31m# store predecessors as string\u001b[0m\u001b[0;34m\u001b[0m\u001b[0;34m\u001b[0m\u001b[0m\n\u001b[1;32m     51\u001b[0m         \u001b[0mpredecessors\u001b[0m\u001b[0;34m[\u001b[0m \u001b[0mline\u001b[0m\u001b[0;34m[\u001b[0m \u001b[0;36m0\u001b[0m \u001b[0;34m]\u001b[0m \u001b[0;34m]\u001b[0m \u001b[0;34m=\u001b[0m \u001b[0mstr\u001b[0m\u001b[0;34m(\u001b[0m\u001b[0mline\u001b[0m\u001b[0;34m[\u001b[0m \u001b[0;36m2\u001b[0m\u001b[0;34m:\u001b[0m \u001b[0;34m]\u001b[0m\u001b[0;34m)\u001b[0m\u001b[0;34m\u001b[0m\u001b[0m\n",
      "\u001b[0;31mValueError\u001b[0m: could not convert string to float: ','"
     ]
    }
   ],
   "source": [
    "# Commonly we have a process, such as an industrial assembly line,\n",
    "# in which each step is dependent on the completion of one or more\n",
    "# previous steps.  In this case, we can determine the earliest\n",
    "# possible starting point of each step by knowing when all of its\n",
    "# predecessors (and their predecessors) have completed.\n",
    "\n",
    "# This code reads a CSV file containing data similar to the following:\n",
    "'''\n",
    "Activity,Duration,Predecessors\n",
    "A,4.5,\n",
    "B,5,A\n",
    "C,3,A\n",
    "'''\n",
    "# We interpret this to mean that:\n",
    "#   Process A requires 4.5 time units to complete and has no predecessors.\n",
    "#   Process B requires 5 time units to complete and relies on Process A.\n",
    "#       This means that Process B can only run as early as Process A\n",
    "#       finishes, or from 4.5--9.5.\n",
    "#   Process C also relies on Process A and requires 3 time units.\n",
    "#       Thus Process C can run from 4.5--7.5.\n",
    "# Thus our expected output from the following code would be:\n",
    "'''\n",
    "A @ (0.0,4.5)\n",
    "B @ (4.5,9.5)\n",
    "C @ (4.5,7.5)\n",
    "'''\n",
    "\n",
    "# The following code contains NOT LESS THAN FOUR bugs.\n",
    "# It should pass the test case given above, and should process the file\n",
    "# 'project.csv' as well.\n",
    "\n",
    "def main():\n",
    "    # read data from file; file has header row\n",
    "    file = open('project.csv','r')\n",
    "    data = file.readlines()\n",
    "    file.close()\n",
    "\n",
    "    # initialize durations and predecessors as dicts\n",
    "    durations = {}\n",
    "    predecessors = {}\n",
    "    # add blank entry to show proper format\n",
    "    schedule = { '':(0,0) }  # activity:(start_time,finish_time)\n",
    "\n",
    "    # remember to skip the header line and clean the data of \" and whitespace\n",
    "    for line in data[ 1: ]:\n",
    "        line = line.strip().replace( ' ','' )\n",
    "        line.split( ',' )\n",
    "        # store duration as float\n",
    "        durations[ line[ 0 ] ] = float(line[ 1 ])\n",
    "        # store predecessors as string\n",
    "        predecessors[ line[ 0 ] ] = str(line[ 2: ])\n",
    "        print(predecessors)\n",
    "\n",
    "    activities = list( durations.keys() )\n",
    "    activities.sort()\n",
    "\n",
    "    for key in activities:\n",
    "        start_time = 0\n",
    "        for key_pre in predecessors[ key ]:\n",
    "            if start_time < schedule[ key_pre ]:\n",
    "                # the start time is the second (1th) element of schedule[key_pre]\n",
    "                start_time = schedule[ key_pre[ 1 ] ]\n",
    "        # add the start time and the finish time (start time plus duration)\n",
    "        schedule[key] = ( start_time,durations[ key ] )\n",
    "    \n",
    "    # clear blank entry\n",
    "    del schedule[ '' ]\n",
    "    for l in sorted( schedule ):    # sorted sorts a dict by keys (not values)\n",
    "        print( '%s @ %s' % (l, schedule[ l ] ) )\n",
    "\n",
    "# This is the main entry point of the program.\n",
    "if __name__ == '__main__':\n",
    "    main()"
   ]
  },
  {
   "cell_type": "code",
   "execution_count": 2,
   "metadata": {
    "collapsed": false
   },
   "outputs": [
    {
     "data": {
      "text/plain": [
       "'/home/stlawre2/cs101-fa16/lab08'"
      ]
     },
     "execution_count": 2,
     "metadata": {},
     "output_type": "execute_result"
    }
   ],
   "source": [
    "pwd# test the code here if necessary"
   ]
  },
  {
   "cell_type": "markdown",
   "metadata": {},
   "source": [
    "### Peer Assessment Activity"
   ]
  },
  {
   "cell_type": "markdown",
   "metadata": {},
   "source": [
    "In order to carry out the peer assessment portion of this lab, you are going to examine submissions which other students made for Lab #6.  These are anonymized by random numbers, and each team will receive a different set of submissions to assess.\n",
    "\n",
    "Enter the six numbers given you by your TA here:"
   ]
  },
  {
   "cell_type": "code",
   "execution_count": 4,
   "metadata": {
    "collapsed": false
   },
   "outputs": [],
   "source": [
    "test_cases = [ 1277, 1386, 1129, 1497, 1267, 1278 ]  # as ints"
   ]
  },
  {
   "cell_type": "markdown",
   "metadata": {},
   "source": [
    "The next cell will fetch your peer grading examples."
   ]
  },
  {
   "cell_type": "code",
   "execution_count": 5,
   "metadata": {
    "collapsed": false
   },
   "outputs": [],
   "source": [
    "# retrieve peer submissions via randomized code\n",
    "import os, shutil\n",
    "for test_case in test_cases:\n",
    "    try:\n",
    "        filepath = os.path.join( '/class/cs101/data/hashes','%s.py'%test_case )\n",
    "        shutil.copy2( filepath, '.' )\n",
    "    except FileNotFoundError:\n",
    "        print( 'Please try again.  I was unable to locate %s.py; do you have the correct number?'%test_case )\n",
    "        break"
   ]
  },
  {
   "cell_type": "markdown",
   "metadata": {},
   "source": [
    "You have now received six peer submissions in your `lab08` directory.  Some of them work correctly, some do not.  Your task is to assess these codes, critique them for correctness and style, and record that critique below.\n",
    "\n",
    "Examine the file in another window (either on the command line or in a text editor).  You can also run the codes on the command line using `python XXX.py`, where `XXX` is the number.  The files `blues.txt`, `swamppop.txt`, and `zydeco.txt` are available in the `./data` directory as before.\n",
    "\n",
    "Double-click a cell below to edit it.  In each cell, enter the number of the code you are assessing.  Then answer the questions as thoroughly as you can.  You have ten minutes available to assess each code---get as much done as you can in that time."
   ]
  },
  {
   "cell_type": "markdown",
   "metadata": {},
   "source": [
    "### Peer Code Assessment #1\n",
    "\n",
    "- Which code number are you assessing?\n",
    "1129\n",
    "#### Correctness\n",
    "\n",
    "- Does this code return the proper number of entries for `zydeco.txt` (`29`)?\n",
    "yes\n",
    "- Are there no blank entries (think of using `.index(('','',''))`)?\n",
    "yes\n",
    "- Does this code return the proper number of entries for `blues.txt` (`400`)?\n",
    "yes\n",
    "- Does this code return the proper format (index 0 of `blues.txt` is `('Augusta', 'Cecil', 'Delta Blues')`, index -1 is `('Rose', 'Bayless', 'Piano Blues')`)?\n",
    "yes\n",
    "- If any of the above are not true, what needs to be corrected?  (You can write code or explanations here.)\n",
    "\n",
    "#### Style\n",
    "\n",
    "- Is the code well-documented?\n",
    "no\n",
    "- Are the variable names descriptive?\n",
    "yes\n",
    "- Are line breaks and formatting conducive to reading and understanding the code?\n",
    "yes\n",
    "- Are now-useless stubs left in the code (besides in one chunk at the end for reference) (like `pass`)?\n",
    "no"
   ]
  },
  {
   "cell_type": "markdown",
   "metadata": {},
   "source": [
    "### Peer Code Assessment #2\n",
    "\n",
    "- Which code number are you assessing?\n",
    "1267\n",
    "#### Correctness\n",
    "\n",
    "- Does this code return the proper number of entries for `zydeco.txt` (`29`)?\n",
    "\n",
    "- Are there no blank entries (think of using `.index(('','',''))`)?\n",
    "\n",
    "- Does this code return the proper number of entries for `blues.txt` (`400`)?\n",
    "\n",
    "- Does this code return the proper format (index 0 of `blues.txt` is `('Augusta', 'Cecil', 'Delta Blues')`, index -1 is `('Rose', 'Bayless', 'Piano Blues')`)?\n",
    "\n",
    "- If any of the above are not true, what needs to be corrected?  (You can write code or explanations here.)\n",
    "\n",
    "#### Style\n",
    "\n",
    "- Is the code well-documented?\n",
    "\n",
    "- Are the variable names descriptive?\n",
    "\n",
    "- Are line breaks and formatting conducive to reading and understanding the code?\n",
    "\n",
    "- Are now-useless stubs left in the code (besides in one chunk at the end for reference) (like `pass`)?"
   ]
  },
  {
   "cell_type": "markdown",
   "metadata": {},
   "source": [
    "### Peer Code Assessment #3\n",
    "\n",
    "- Which code number are you assessing?\n",
    "\n",
    "#### Correctness\n",
    "\n",
    "- Does this code return the proper number of entries for `zydeco.txt` (`29`)?\n",
    "\n",
    "- Are there no blank entries (think of using `.index(('','',''))`)?\n",
    "\n",
    "- Does this code return the proper number of entries for `blues.txt` (`400`)?\n",
    "\n",
    "- Does this code return the proper format (index 0 of `blues.txt` is `('Augusta', 'Cecil', 'Delta Blues')`, index -1 is `('Rose', 'Bayless', 'Piano Blues')`)?\n",
    "\n",
    "- If any of the above are not true, what needs to be corrected?  (You can write code or explanations here.)\n",
    "\n",
    "#### Style\n",
    "\n",
    "- Is the code well-documented?\n",
    "\n",
    "- Are the variable names descriptive?\n",
    "\n",
    "- Are line breaks and formatting conducive to reading and understanding the code?\n",
    "\n",
    "- Are now-useless stubs left in the code (besides in one chunk at the end for reference) (like `pass`)?"
   ]
  },
  {
   "cell_type": "markdown",
   "metadata": {},
   "source": [
    "### Peer Code Assessment #4\n",
    "\n",
    "- Which code number are you assessing?\n",
    "\n",
    "#### Correctness\n",
    "\n",
    "- Does this code return the proper number of entries for `zydeco.txt` (`29`)?\n",
    "\n",
    "- Are there no blank entries (think of using `.index(('','',''))`)?\n",
    "\n",
    "- Does this code return the proper number of entries for `blues.txt` (`400`)?\n",
    "\n",
    "- Does this code return the proper format (index 0 of `blues.txt` is `('Augusta', 'Cecil', 'Delta Blues')`, index -1 is `('Rose', 'Bayless', 'Piano Blues')`)?\n",
    "\n",
    "- If any of the above are not true, what needs to be corrected?  (You can write code or explanations here.)\n",
    "\n",
    "#### Style\n",
    "\n",
    "- Is the code well-documented?\n",
    "\n",
    "- Are the variable names descriptive?\n",
    "\n",
    "- Are line breaks and formatting conducive to reading and understanding the code?\n",
    "\n",
    "- Are now-useless stubs left in the code (besides in one chunk at the end for reference) (like `pass`)?"
   ]
  },
  {
   "cell_type": "markdown",
   "metadata": {},
   "source": [
    "### Peer Code Assessment #5\n",
    "\n",
    "- Which code number are you assessing?\n",
    "\n",
    "#### Correctness\n",
    "\n",
    "- Does this code return the proper number of entries for `zydeco.txt` (`29`)?\n",
    "\n",
    "- Are there no blank entries (think of using `.index(('','',''))`)?\n",
    "\n",
    "- Does this code return the proper number of entries for `blues.txt` (`400`)?\n",
    "\n",
    "- Does this code return the proper format (index 0 of `blues.txt` is `('Augusta', 'Cecil', 'Delta Blues')`, index -1 is `('Rose', 'Bayless', 'Piano Blues')`)?\n",
    "\n",
    "- If any of the above are not true, what needs to be corrected?  (You can write code or explanations here.)\n",
    "\n",
    "#### Style\n",
    "\n",
    "- Is the code well-documented?\n",
    "\n",
    "- Are the variable names descriptive?\n",
    "\n",
    "- Are line breaks and formatting conducive to reading and understanding the code?\n",
    "\n",
    "- Are now-useless stubs left in the code (besides in one chunk at the end for reference) (like `pass`)?"
   ]
  },
  {
   "cell_type": "markdown",
   "metadata": {},
   "source": [
    "### Peer Code Assessment #6\n",
    "\n",
    "- Which code number are you assessing?\n",
    "\n",
    "#### Correctness\n",
    "\n",
    "- Does this code return the proper number of entries for `zydeco.txt` (`29`)?\n",
    "\n",
    "- Are there no blank entries (think of using `.index(('','',''))`)?\n",
    "\n",
    "- Does this code return the proper number of entries for `blues.txt` (`400`)?\n",
    "\n",
    "- Does this code return the proper format (index 0 of `blues.txt` is `('Augusta', 'Cecil', 'Delta Blues')`, index -1 is `('Rose', 'Bayless', 'Piano Blues')`)?\n",
    "\n",
    "- If any of the above are not true, what needs to be corrected?  (You can write code or explanations here.)\n",
    "\n",
    "#### Style\n",
    "\n",
    "- Is the code well-documented?\n",
    "\n",
    "- Are the variable names descriptive?\n",
    "\n",
    "- Are line breaks and formatting conducive to reading and understanding the code?\n",
    "\n",
    "- Are now-useless stubs left in the code (besides in one chunk at the end for reference) (like `pass`)?"
   ]
  },
  {
   "cell_type": "markdown",
   "metadata": {},
   "source": [
    "# Before you submit..."
   ]
  },
  {
   "cell_type": "markdown",
   "metadata": {},
   "source": [
    "Before you submit this exercise, make sure that everything runs as expected.  You can either use the *Validate* button on the *Assignments* tab or type `nbgrader validate labX` at the command line.  **You should also *save* before submitting.**\n",
    "\n",
    "Make sure that you have filled in any code block which says \"YOUR CODE HERE\" or \"YOUR ANSWER HERE\".\n",
    "\n",
    "List any resources used (beyond the TA or the help files):"
   ]
  },
  {
   "cell_type": "markdown",
   "metadata": {
    "collapsed": true
   },
   "source": [
    "Double-click here to add collaborators or partners:  ☐"
   ]
  },
  {
   "cell_type": "markdown",
   "metadata": {},
   "source": [
    "This laboratory exercise was written by Neal Davis for Computer Science 101 at the University of Illinois.\n",
    "\n",
    "©2015–16 University of Illinois\n",
    "\n",
    "![](./cs101-footer.png)"
   ]
  }
 ],
 "metadata": {
  "anaconda-cloud": {},
  "kernelspec": {
   "display_name": "Python 3",
   "language": "python",
   "name": "python3"
  }
 },
 "nbformat": 4,
 "nbformat_minor": 0
}
